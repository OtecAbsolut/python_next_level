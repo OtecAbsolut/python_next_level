{
 "cells": [
  {
   "cell_type": "code",
   "execution_count": 1,
   "metadata": {},
   "outputs": [],
   "source": [
    "import pandas as pd\n",
    "import numpy as np\n",
    "import re"
   ]
  },
  {
   "cell_type": "code",
   "execution_count": 2,
   "metadata": {},
   "outputs": [],
   "source": [
    "%matplotlib inline\n",
    "import matplotlib.pyplot as plt"
   ]
  },
  {
   "cell_type": "markdown",
   "metadata": {},
   "source": [
    "## Задача 1"
   ]
  },
  {
   "cell_type": "code",
   "execution_count": 3,
   "metadata": {},
   "outputs": [],
   "source": [
    "skl_dol = pd.read_excel('/home/novozhilovsv/PROJECT/python_next_level/DATA/Реестр СКЛ_ДОЛ.xlsx')\n",
    "benefits = pd.read_excel('/home/novozhilovsv/PROJECT/python_next_level/DATA/Поощрения.xlsx')\n",
    "children = pd.read_excel('/home/novozhilovsv/PROJECT/python_next_level/DATA/Многодетные.xlsx')\n",
    "guardians = pd.read_excel('/home/novozhilovsv/PROJECT/python_next_level/DATA/Опекуны.xlsx')\n",
    "profi = pd.read_excel('/home/novozhilovsv/PROJECT/python_next_level/DATA/Лучший по профессии.xlsx')\n",
    "exp_parents = pd.read_excel('/home/novozhilovsv/PROJECT/python_next_level/DATA/Стажи и одинокие родители.xlsx')"
   ]
  },
  {
   "cell_type": "code",
   "execution_count": 5,
   "metadata": {},
   "outputs": [],
   "source": [
    "df = [guardians, profi, benefits, skl_dol, exp_parents, children]"
   ]
  },
  {
   "cell_type": "code",
   "execution_count": 8,
   "metadata": {},
   "outputs": [
    {
     "data": {
      "text/plain": [
       "0           Синие горы\n",
       "1             Гундабад\n",
       "2         Лесные эдьфы\n",
       "3         Лесные эдьфы\n",
       "4        Одинокая гора\n",
       "             ...      \n",
       "18163              Шир\n",
       "18164              Шир\n",
       "18165    Одинокая гора\n",
       "18166    Одинокая гора\n",
       "18167    Одинокая гора\n",
       "Name: Предприятие, Length: 18168, dtype: object"
      ]
     },
     "execution_count": 8,
     "metadata": {},
     "output_type": "execute_result"
    }
   ],
   "source": [
    "skl_dol['Предприятие']"
   ]
  },
  {
   "cell_type": "code",
   "execution_count": 6,
   "metadata": {},
   "outputs": [],
   "source": [
    "companies  = skl_dol['Предприятие'].dropna().drop_duplicates(keep='first', inplace=False)"
   ]
  },
  {
   "cell_type": "code",
   "execution_count": null,
   "metadata": {},
   "outputs": [],
   "source": [
    "def guardians_clean(df, companies):\n",
    "    \n",
    "    'Guardian data frame preprocessing'\n",
    "    \n",
    "    df.dropna(axis=0, inplace=True)\n",
    "    df['Дата рождения ребенка'] = pd.to_datetime(df['Дата рождения ребенка'])\n",
    "    df['Age'] = pd.to_datetime('now') - df['Дата рождения ребенка']\n",
    "    df['Age'] = df['Age'] /  np.timedelta64(1, 'Y')\n",
    "    df['is_child'] = df['Age'].apply(lambda x:  0 if x >= 18 else 1 )\n",
    "    df = df[df['is_child'] == 1]\n",
    "    df = df[df['Предприятие'].isin(companies)]\n",
    "    \n",
    "    return df"
   ]
  },
  {
   "cell_type": "code",
   "execution_count": null,
   "metadata": {},
   "outputs": [],
   "source": [
    "def professionals(df):\n",
    "    'Professionals data frame preprocessing'\n",
    "    \n",
    "    df.drop(['Период действия С ','Мотив для поощрения'], axis = 1, inplace=True)\n",
    "    \n",
    "    return df"
   ]
  },
  {
   "cell_type": "code",
   "execution_count": null,
   "metadata": {},
   "outputs": [],
   "source": [
    "def work_expirients(df, companies):\n",
    "    'Preprocessing a data frame that consisted work expirience and childs marks'\n",
    "\n",
    "    idx = df['Табельный  №'].isnull()\n",
    "    df = df[idx==False]\n",
    "    df = df[df['Предприятие'].isin(companies)]\n",
    "    \n",
    "    \n",
    "    return df"
   ]
  },
  {
   "cell_type": "code",
   "execution_count": null,
   "metadata": {},
   "outputs": [],
   "source": [
    "import re"
   ]
  },
  {
   "cell_type": "code",
   "execution_count": null,
   "metadata": {},
   "outputs": [],
   "source": [
    "exp = exp_parents['Стаж работы в СИБУР'].str.split('[: ,\\D]')\n",
    "exp_list = []\n",
    "for i in exp:\n",
    "    exp_list.append(re.split(' ', i[1]))\n",
    "exp_list = pd.DataFrame(exp_list)"
   ]
  },
  {
   "cell_type": "code",
   "execution_count": null,
   "metadata": {},
   "outputs": [],
   "source": []
  }
 ],
 "metadata": {
  "kernelspec": {
   "display_name": "Python 3",
   "language": "python",
   "name": "python3"
  },
  "language_info": {
   "codemirror_mode": {
    "name": "ipython",
    "version": 3
   },
   "file_extension": ".py",
   "mimetype": "text/x-python",
   "name": "python",
   "nbconvert_exporter": "python",
   "pygments_lexer": "ipython3",
   "version": "3.6.8"
  }
 },
 "nbformat": 4,
 "nbformat_minor": 2
}
