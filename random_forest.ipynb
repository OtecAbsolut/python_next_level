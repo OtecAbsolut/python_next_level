{
 "cells": [
  {
   "cell_type": "code",
   "execution_count": 1,
   "metadata": {},
   "outputs": [
    {
     "name": "stdout",
     "output_type": "stream",
     "text": [
      "Fitting 3 folds for each of 18 candidates, totalling 54 fits\n",
      "[CV] criterion=entropy, max_depth=10, n_estimators=10 ................\n",
      "[CV] . criterion=entropy, max_depth=10, n_estimators=10, total=   0.0s\n",
      "[CV] criterion=entropy, max_depth=10, n_estimators=10 ................\n",
      "[CV] . criterion=entropy, max_depth=10, n_estimators=10, total=   0.0s\n",
      "[CV] criterion=entropy, max_depth=10, n_estimators=10 ................\n",
      "[CV] . criterion=entropy, max_depth=10, n_estimators=10, total=   0.0s\n",
      "[CV] criterion=entropy, max_depth=10, n_estimators=20 ................\n",
      "[CV] . criterion=entropy, max_depth=10, n_estimators=20, total=   0.0s\n",
      "[CV] criterion=entropy, max_depth=10, n_estimators=20 ................\n",
      "[CV] . criterion=entropy, max_depth=10, n_estimators=20, total=   0.0s\n",
      "[CV] criterion=entropy, max_depth=10, n_estimators=20 ................\n",
      "[CV] . criterion=entropy, max_depth=10, n_estimators=20, total=   0.0s\n",
      "[CV] criterion=entropy, max_depth=10, n_estimators=100 ...............\n"
     ]
    },
    {
     "name": "stderr",
     "output_type": "stream",
     "text": [
      "[Parallel(n_jobs=1)]: Done   1 out of   1 | elapsed:    0.0s remaining:    0.0s\n"
     ]
    },
    {
     "name": "stdout",
     "output_type": "stream",
     "text": [
      "[CV]  criterion=entropy, max_depth=10, n_estimators=100, total=   0.1s\n",
      "[CV] criterion=entropy, max_depth=10, n_estimators=100 ...............\n",
      "[CV]  criterion=entropy, max_depth=10, n_estimators=100, total=   0.1s\n",
      "[CV] criterion=entropy, max_depth=10, n_estimators=100 ...............\n",
      "[CV]  criterion=entropy, max_depth=10, n_estimators=100, total=   0.1s\n",
      "[CV] criterion=entropy, max_depth=20, n_estimators=10 ................\n",
      "[CV] . criterion=entropy, max_depth=20, n_estimators=10, total=   0.0s\n",
      "[CV] criterion=entropy, max_depth=20, n_estimators=10 ................\n",
      "[CV] . criterion=entropy, max_depth=20, n_estimators=10, total=   0.0s\n",
      "[CV] criterion=entropy, max_depth=20, n_estimators=10 ................\n",
      "[CV] . criterion=entropy, max_depth=20, n_estimators=10, total=   0.0s\n",
      "[CV] criterion=entropy, max_depth=20, n_estimators=20 ................\n",
      "[CV] . criterion=entropy, max_depth=20, n_estimators=20, total=   0.0s\n",
      "[CV] criterion=entropy, max_depth=20, n_estimators=20 ................\n",
      "[CV] . criterion=entropy, max_depth=20, n_estimators=20, total=   0.0s\n",
      "[CV] criterion=entropy, max_depth=20, n_estimators=20 ................\n",
      "[CV] . criterion=entropy, max_depth=20, n_estimators=20, total=   0.0s\n",
      "[CV] criterion=entropy, max_depth=20, n_estimators=100 ...............\n",
      "[CV]  criterion=entropy, max_depth=20, n_estimators=100, total=   0.1s\n",
      "[CV] criterion=entropy, max_depth=20, n_estimators=100 ...............\n",
      "[CV]  criterion=entropy, max_depth=20, n_estimators=100, total=   0.1s\n",
      "[CV] criterion=entropy, max_depth=20, n_estimators=100 ...............\n",
      "[CV]  criterion=entropy, max_depth=20, n_estimators=100, total=   0.1s\n",
      "[CV] criterion=entropy, max_depth=100, n_estimators=10 ...............\n",
      "[CV]  criterion=entropy, max_depth=100, n_estimators=10, total=   0.0s\n",
      "[CV] criterion=entropy, max_depth=100, n_estimators=10 ...............\n",
      "[CV]  criterion=entropy, max_depth=100, n_estimators=10, total=   0.0s\n",
      "[CV] criterion=entropy, max_depth=100, n_estimators=10 ...............\n",
      "[CV]  criterion=entropy, max_depth=100, n_estimators=10, total=   0.0s\n",
      "[CV] criterion=entropy, max_depth=100, n_estimators=20 ...............\n",
      "[CV]  criterion=entropy, max_depth=100, n_estimators=20, total=   0.0s\n",
      "[CV] criterion=entropy, max_depth=100, n_estimators=20 ...............\n",
      "[CV]  criterion=entropy, max_depth=100, n_estimators=20, total=   0.0s\n",
      "[CV] criterion=entropy, max_depth=100, n_estimators=20 ...............\n",
      "[CV]  criterion=entropy, max_depth=100, n_estimators=20, total=   0.0s\n",
      "[CV] criterion=entropy, max_depth=100, n_estimators=100 ..............\n",
      "[CV]  criterion=entropy, max_depth=100, n_estimators=100, total=   0.1s\n",
      "[CV] criterion=entropy, max_depth=100, n_estimators=100 ..............\n",
      "[CV]  criterion=entropy, max_depth=100, n_estimators=100, total=   0.1s\n",
      "[CV] criterion=entropy, max_depth=100, n_estimators=100 ..............\n",
      "[CV]  criterion=entropy, max_depth=100, n_estimators=100, total=   0.1s\n",
      "[CV] criterion=gini, max_depth=10, n_estimators=10 ...................\n",
      "[CV] .... criterion=gini, max_depth=10, n_estimators=10, total=   0.0s\n",
      "[CV] criterion=gini, max_depth=10, n_estimators=10 ...................\n",
      "[CV] .... criterion=gini, max_depth=10, n_estimators=10, total=   0.0s\n",
      "[CV] criterion=gini, max_depth=10, n_estimators=10 ...................\n",
      "[CV] .... criterion=gini, max_depth=10, n_estimators=10, total=   0.0s\n",
      "[CV] criterion=gini, max_depth=10, n_estimators=20 ...................\n",
      "[CV] .... criterion=gini, max_depth=10, n_estimators=20, total=   0.0s\n",
      "[CV] criterion=gini, max_depth=10, n_estimators=20 ...................\n",
      "[CV] .... criterion=gini, max_depth=10, n_estimators=20, total=   0.0s\n",
      "[CV] criterion=gini, max_depth=10, n_estimators=20 ...................\n",
      "[CV] .... criterion=gini, max_depth=10, n_estimators=20, total=   0.0s\n",
      "[CV] criterion=gini, max_depth=10, n_estimators=100 ..................\n",
      "[CV] ... criterion=gini, max_depth=10, n_estimators=100, total=   0.1s\n",
      "[CV] criterion=gini, max_depth=10, n_estimators=100 ..................\n",
      "[CV] ... criterion=gini, max_depth=10, n_estimators=100, total=   0.1s\n",
      "[CV] criterion=gini, max_depth=10, n_estimators=100 ..................\n",
      "[CV] ... criterion=gini, max_depth=10, n_estimators=100, total=   0.1s\n",
      "[CV] criterion=gini, max_depth=20, n_estimators=10 ...................\n",
      "[CV] .... criterion=gini, max_depth=20, n_estimators=10, total=   0.0s\n",
      "[CV] criterion=gini, max_depth=20, n_estimators=10 ...................\n",
      "[CV] .... criterion=gini, max_depth=20, n_estimators=10, total=   0.0s\n",
      "[CV] criterion=gini, max_depth=20, n_estimators=10 ...................\n",
      "[CV] .... criterion=gini, max_depth=20, n_estimators=10, total=   0.0s\n",
      "[CV] criterion=gini, max_depth=20, n_estimators=20 ...................\n",
      "[CV] .... criterion=gini, max_depth=20, n_estimators=20, total=   0.0s\n",
      "[CV] criterion=gini, max_depth=20, n_estimators=20 ...................\n",
      "[CV] .... criterion=gini, max_depth=20, n_estimators=20, total=   0.0s\n",
      "[CV] criterion=gini, max_depth=20, n_estimators=20 ...................\n",
      "[CV] .... criterion=gini, max_depth=20, n_estimators=20, total=   0.0s\n",
      "[CV] criterion=gini, max_depth=20, n_estimators=100 ..................\n",
      "[CV] ... criterion=gini, max_depth=20, n_estimators=100, total=   0.1s\n",
      "[CV] criterion=gini, max_depth=20, n_estimators=100 ..................\n",
      "[CV] ... criterion=gini, max_depth=20, n_estimators=100, total=   0.1s\n",
      "[CV] criterion=gini, max_depth=20, n_estimators=100 ..................\n",
      "[CV] ... criterion=gini, max_depth=20, n_estimators=100, total=   0.1s\n",
      "[CV] criterion=gini, max_depth=100, n_estimators=10 ..................\n",
      "[CV] ... criterion=gini, max_depth=100, n_estimators=10, total=   0.0s\n",
      "[CV] criterion=gini, max_depth=100, n_estimators=10 ..................\n",
      "[CV] ... criterion=gini, max_depth=100, n_estimators=10, total=   0.0s\n",
      "[CV] criterion=gini, max_depth=100, n_estimators=10 ..................\n",
      "[CV] ... criterion=gini, max_depth=100, n_estimators=10, total=   0.0s\n",
      "[CV] criterion=gini, max_depth=100, n_estimators=20 ..................\n",
      "[CV] ... criterion=gini, max_depth=100, n_estimators=20, total=   0.0s\n",
      "[CV] criterion=gini, max_depth=100, n_estimators=20 ..................\n",
      "[CV] ... criterion=gini, max_depth=100, n_estimators=20, total=   0.0s\n",
      "[CV] criterion=gini, max_depth=100, n_estimators=20 ..................\n",
      "[CV] ... criterion=gini, max_depth=100, n_estimators=20, total=   0.0s\n",
      "[CV] criterion=gini, max_depth=100, n_estimators=100 .................\n",
      "[CV] .. criterion=gini, max_depth=100, n_estimators=100, total=   0.1s\n",
      "[CV] criterion=gini, max_depth=100, n_estimators=100 .................\n",
      "[CV] .. criterion=gini, max_depth=100, n_estimators=100, total=   0.1s\n",
      "[CV] criterion=gini, max_depth=100, n_estimators=100 .................\n",
      "[CV] .. criterion=gini, max_depth=100, n_estimators=100, total=   0.1s\n",
      "Best params =  {'bootstrap': True, 'class_weight': None, 'criterion': 'entropy', 'max_depth': 20, 'max_features': 'auto', 'max_leaf_nodes': None, 'min_impurity_decrease': 0.0, 'min_impurity_split': None, 'min_samples_leaf': 1, 'min_samples_split': 2, 'min_weight_fraction_leaf': 0.0, 'n_estimators': 10, 'n_jobs': 1, 'oob_score': False, 'random_state': None, 'verbose': 0, 'warm_start': False}\n"
     ]
    },
    {
     "name": "stderr",
     "output_type": "stream",
     "text": [
      "[Parallel(n_jobs=1)]: Done  54 out of  54 | elapsed:    2.8s finished\n"
     ]
    }
   ],
   "source": [
    "from sklearn.ensemble import RandomForestClassifier\n",
    "from sklearn.model_selection import GridSearchCV\n",
    " \n",
    " \n",
    "x_train = [\n",
    "    [1, 2], [5, 6],\n",
    "    [3, 4], [7, 8],\n",
    "    [-1, 2], [-5, 6],\n",
    "    [-3, 4], [-7, 8], [0, 0]\n",
    "]\n",
    "y_train = [1, 1, 1, 1, 0, 0, 0, 0, 1]\n",
    " \n",
    "parameter_grid = {\n",
    "            'criterion': ['entropy', 'gini'],\n",
    "            'max_depth': [10, 20, 100],\n",
    "            'n_estimators': [10, 20, 100]\n",
    "        }\n",
    "clf = RandomForestClassifier()\n",
    "grid_searcher = GridSearchCV(clf, parameter_grid, verbose=2)\n",
    "grid_searcher.fit(x_train, y_train)\n",
    "clf_best = grid_searcher.best_estimator_\n",
    " \n",
    "print('Best params = ', clf_best.get_params())"
   ]
  },
  {
   "cell_type": "code",
   "execution_count": null,
   "metadata": {},
   "outputs": [],
   "source": [
    "# сохранение и распаковка обученной модели"
   ]
  },
  {
   "cell_type": "code",
   "execution_count": 3,
   "metadata": {},
   "outputs": [
    {
     "data": {
      "text/plain": [
       "['Model_learn']"
      ]
     },
     "execution_count": 3,
     "metadata": {},
     "output_type": "execute_result"
    }
   ],
   "source": [
    "from sklearn.externals import joblib\n",
    "# предполагаем что clf - обучен выше\n",
    "joblib.dump(clf, 'Model_learn', compress=1)"
   ]
  },
  {
   "cell_type": "code",
   "execution_count": 4,
   "metadata": {},
   "outputs": [],
   "source": [
    "clf = joblib.load('Model_learn')"
   ]
  },
  {
   "cell_type": "code",
   "execution_count": 5,
   "metadata": {},
   "outputs": [],
   "source": [
    "import matplotlib.pyplot as plt\n",
    "import numpy as np"
   ]
  },
  {
   "cell_type": "code",
   "execution_count": 6,
   "metadata": {},
   "outputs": [
    {
     "name": "stdout",
     "output_type": "stream",
     "text": [
      "[0.86428571 0.13571429]\n"
     ]
    },
    {
     "data": {
      "image/png": "[encoded data removed]",
      "text/plain": [
       "<Figure size 432x288 with 1 Axes>"
      ]
     },
     "metadata": {
      "needs_background": "light"
     },
     "output_type": "display_data"
    }
   ],
   "source": [
    " \n",
    "x_train = [\n",
    "    [1, 2], [5, 6],\n",
    "    [3, 4], [7, 8],\n",
    "    [-1, 2], [-5, 6],\n",
    "    [-3, 4], [-7, 8], [0, 0]\n",
    "]\n",
    "y_train = [1, 1, 1, 1, 0, 0, 0, 0, 1]\n",
    " \n",
    "parameter_grid = {\n",
    "            'criterion': ['entropy', 'gini'],\n",
    "            'max_depth': [10, 20, 100],\n",
    "            'n_estimators': [10, 20, 100]\n",
    "        }\n",
    "clf_rf = RandomForestClassifier()\n",
    "clf_rf.fit(x_train, y_train)\n",
    " \n",
    "importances = clf_rf.feature_importances_\n",
    "print(importances)\n",
    "std = np.std([tree.feature_importances_ for tree in clf_rf.estimators_], axis=0)\n",
    " \n",
    "indices = np.argsort(importances)[::-1]\n",
    "names_indices = ['x_coor', 'y_coor']\n",
    " \n",
    "# Plot the feature importances of the forest\n",
    "plt.figure()\n",
    "plt.title(\"Feature importances\")\n",
    " \n",
    "plt.bar(range(len(importances)), importances[indices], color=\"r\")\n",
    "plt.xticks(range(len(importances)), names_indices, rotation=90)\n",
    " \n",
    "plt.tight_layout()\n",
    "plt.xlim([-1, len(importances)])\n",
    "plt.show()"
   ]
  },
  {
   "cell_type": "code",
   "execution_count": null,
   "metadata": {},
   "outputs": [],
   "source": []
  }
 ],
 "metadata": {
  "kernelspec": {
   "display_name": "Python 3",
   "language": "python",
   "name": "python3"
  },
  "language_info": {
   "codemirror_mode": {
    "name": "ipython",
    "version": 3
   },
   "file_extension": ".py",
   "mimetype": "text/x-python",
   "name": "python",
   "nbconvert_exporter": "python",
   "pygments_lexer": "ipython3",
   "version": "3.6.8"
  }
 },
 "nbformat": 4,
 "nbformat_minor": 1
}
