{
 "cells": [
  {
   "cell_type": "markdown",
   "metadata": {},
   "source": [
    "![title](img/git.png)"
   ]
  },
  {
   "cell_type": "markdown",
   "metadata": {},
   "source": [
    "# Я в начале проекта...#"
   ]
  },
  {
   "cell_type": "markdown",
   "metadata": {},
   "source": [
    "![title](img/before.jpg)"
   ]
  },
  {
   "cell_type": "code",
   "execution_count": 4,
   "metadata": {},
   "outputs": [],
   "source": [
    "import requests\n",
    "import math\n",
    "from functools import wraps\n",
    "from requests.exceptions import RequestException\n",
    "from IPython.display import Image"
   ]
  },
  {
   "cell_type": "markdown",
   "metadata": {},
   "source": [
    "## Декортатор обработки запросов ##\n"
   ]
  },
  {
   "cell_type": "code",
   "execution_count": 2,
   "metadata": {},
   "outputs": [],
   "source": [
    "def response_handler(_request):\n",
    "    \"\"\"\n",
    "    Wrapper функция\n",
    "    Обрабатывает ошибки request запросов\n",
    "    \"\"\"\n",
    "\n",
    "    @wraps(_request)\n",
    "    def wrapper(self, *args, **kwargs):\n",
    "        response = None\n",
    "        try:\n",
    "            response = _request(self, *args, **kwargs)\n",
    "            response.raise_for_status()\n",
    "            return response\n",
    "        except Exception as e:\n",
    "            logger_message = (\n",
    "                f'{e}\\n'\n",
    "                f'URL:{args}\\n'\n",
    "                f'ARGS:{kwargs}\\n'\n",
    "            )\n",
    "            if isinstance(response, requests.Response):\n",
    "                logger_message += (\n",
    "                    f'STATUS_CODE:{response.status_code}\\n'\n",
    "                    f'TEXT:{response.text}'\n",
    "                )\n",
    "            logger.error(logger_message)\n",
    "            raise\n",
    "\n",
    "    return wrapper\n"
   ]
  },
  {
   "cell_type": "markdown",
   "metadata": {},
   "source": [
    "## Пример АПИ класса, по работе со сторонними сервисами ##"
   ]
  },
  {
   "cell_type": "code",
   "execution_count": 3,
   "metadata": {},
   "outputs": [],
   "source": [
    "\n",
    "class MoeDeloApi:\n",
    "    \"\"\"\n",
    "    Класс для работы с REST API Моё Дело\n",
    "    https://restapi.moedelo.org/s/?url=/docs#!/\n",
    "    \"\"\"\n",
    "\n",
    "    def __init__(self, api_key):\n",
    "        self.url = 'https://restapi.moedelo.org/'\n",
    "        self.session = requests.Session()\n",
    "        self.session.headers.update({'md-api-key': api_key})\n",
    "        self.api_key = api_key\n",
    "\n",
    "    @response_handler\n",
    "    def _get(self, url, **kwargs):\n",
    "        return self.session.get(url, **kwargs)\n",
    "\n",
    "    @response_handler\n",
    "    def _post(self, url, **kwargs):\n",
    "        return self.session.post(url, **kwargs)"
   ]
  },
  {
   "cell_type": "markdown",
   "metadata": {},
   "source": [
    "## Django -fixture ##"
   ]
  },
  {
   "cell_type": "markdown",
   "metadata": {},
   "source": [
    "Это yaml файлы, в которых можно какие данные дефолтные предусмотреть\n",
    "Например:\n",
    "- model: main.client\n",
    "  pk: 1\n",
    "  fields:\n",
    "    username: mts\n",
    "    password: 123\n",
    "    mts_token: Token be72b5ad5b7498de457b7bbcc950b3e8c59ee76b\n",
    "    md_token: 0a3a59bc-c63c-44f1-b281-ef9aa5af61d3\n",
    "    is_superuser: True\n",
    "    is_staff: True\n",
    "    email: novozhilovsv@lad24.ru\n"
   ]
  },
  {
   "cell_type": "markdown",
   "metadata": {},
   "source": [
    "## Django-формы ##"
   ]
  },
  {
   "cell_type": "code",
   "execution_count": null,
   "metadata": {},
   "outputs": [],
   "source": [
    "\"\"\"\n",
    "Пример кастомной формы регистрации пользователя\n",
    "Пример переопределения фалидации поля формы с отправкой запроса к АПИ\n",
    "\"\"\"\n",
    "from django.contrib.auth.forms import UserCreationForm\n",
    "from main.models import Client\n",
    "from django.core.exceptions import ValidationError\n",
    "\n",
    "\n",
    "class CustomUserCreationForm(UserCreationForm):\n",
    "    \"\"\"\n",
    "    Форма регистрации нового пользователя.\n",
    "    С обязательными полями: ['username', 'password', 'mts_token', 'md_token']\n",
    "    \"\"\"\n",
    "\n",
    "    class Meta(UserCreationForm.Meta):\n",
    "        model = Client\n",
    "        fields = UserCreationForm.Meta.fields + ('mts_token', 'md_token')  # добавляем кастомные поля\n",
    "\n",
    "    def clean_mts_token(self):\n",
    "        \"\"\"\n",
    "        Кастомный метод валидации вормы регистрации.\n",
    "        Делается реальный запрос с введенным токеном. И если токен не существует\n",
    "        в системе МТС, то возникает ошибка валидации\n",
    "        :return: токен\n",
    "        \"\"\"\n",
    "        mts_token = self.cleaned_data['mts_token']\n",
    "        if Client.objects.filter(mts_token=mts_token).exists():\n",
    "            raise ValidationError(\"МТС токен уже существует\")\n",
    "\n",
    "        mts = MTSApi(api_key=mts_token)\n",
    "\n",
    "        try:\n",
    "            mts.tax_get()  # пробуем сделать get-запрос, если нет то вызываем ошибку валидации\n",
    "        except Exception:\n",
    "            raise ValidationError('Токен МТС не верный')\n",
    "\n",
    "        return mts_token"
   ]
  },
  {
   "cell_type": "code",
   "execution_count": null,
   "metadata": {},
   "outputs": [],
   "source": [
    "\"\"\"\n",
    "Пример отрисовфки формы в шаблоне html\n",
    "\"\"\""
   ]
  },
  {
   "cell_type": "code",
   "execution_count": null,
   "metadata": {},
   "outputs": [],
   "source": [
    "<form class=\"registration_form_class\" action=\"#\" id=\"registration_form\" method=\"POST\">\n",
    "              {% csrf_token %}\n",
    "            <p class=\"form_class_name-field\"> Имя</p>\n",
    "              {{ form.username }}\n",
    "            <p class=\"form_class_name-field\"> MTS Token</p>\n",
    "              {{ form.mts_token }}\n",
    "              {% if form.mts_token.errors %}\n",
    "                  <p class=\"registration_form_class_error active-error\">\n",
    "                <font size=\"2\" color=\"ff0000\">{{ form.mts_token.errors.as_text}}</font>\n",
    "                </p>\n",
    "              {% endif %}\n",
    "            <p class=\"form_class_name-field\"> MD Token</p>\n",
    "              {{ form.md_token }}\n",
    "                {% if form.md_token.errors %}\n",
    "                  <p class=\"registration_form_class_error active-error\">\n",
    "                    <font size=\"2\" color=\"ff0000\">{{ form.md_token.errors.as_text}}</font>\n",
    "                    </p>\n",
    "                {% endif %}\n",
    "            <p class=\"form_class_name-field\"> Пароль</p>\n",
    "              {{ form.password1 }}\n",
    "            <p class=\"form_class_name-field\">Подтверждение пароля</p>\n",
    "              {{ form.password2 }}\n",
    "</form>"
   ]
  },
  {
   "cell_type": "markdown",
   "metadata": {},
   "source": [
    "![title](img/form_valid.png)"
   ]
  },
  {
   "cell_type": "code",
   "execution_count": null,
   "metadata": {},
   "outputs": [],
   "source": [
    "\"\"\"\n",
    "Пример переопределения стилей у полей формы\n",
    "\"\"\"\n",
    "from django import forms\n",
    "from django_celery_beat.models import PeriodicTask\n",
    "\n",
    "\n",
    "class SchedulerForm(forms.ModelForm):\n",
    "    \"\"\"\n",
    "    Форма натсроек расписания обмена\n",
    "    \"\"\"\n",
    "    name = forms.CharField(widget=forms.TextInput(attrs={'style': 'display:none'})) # тут я спецом скрыл поле, \n",
    "                                                                    #     т.к. оно не редактирумое по задумке\n",
    "\n",
    "    def __init__(self, *args, **kwargs):\n",
    "        super().__init__(*args, **kwargs)\n",
    "        self.fields['enabled'].widget.attrs.update({'id': \"cbx-1\", 'style': \"display:none\"}) \n",
    "\n",
    "    class Meta:\n",
    "        model = PeriodicTask\n",
    "        fields = ('name', 'interval', 'enabled')"
   ]
  },
  {
   "cell_type": "code",
   "execution_count": null,
   "metadata": {},
   "outputs": [],
   "source": [
    "\"\"\"\n",
    "Пример орграничение вывода в choise_field (по связанным полям). \n",
    "До этого выводились все вобще строки в том числе и по другим пользователям\n",
    "\"\"\"\n",
    "class MdMtsForm(forms.ModelForm):\n",
    "    \"\"\"\n",
    "    Форма установки связи между кассами МД и МТС\n",
    "    \"\"\"\n",
    "\n",
    "    def __init__(self, *args, **kwargs):\n",
    "        user = kwargs.pop('user')\n",
    "        super().__init__(*args, **kwargs)\n",
    "        if user:\n",
    "            self.fields['cash_md'].queryset = CashierMd.objects.filter(client=user)\n",
    "            self.fields['stock_md'].queryset = StockMd.objects.filter(client=user)\n",
    "            self.fields['trade_mts'].queryset = TradeUnitMts.objects.filter(client=user)\n",
    "\n",
    "    class Meta:\n",
    "        model = RelationshipStockCashierTradeUnit\n",
    "        fields = ['cash_md', 'stock_md', 'trade_mts']"
   ]
  },
  {
   "cell_type": "markdown",
   "metadata": {},
   "source": [
    "## Django - модели ##"
   ]
  },
  {
   "cell_type": "code",
   "execution_count": null,
   "metadata": {},
   "outputs": [],
   "source": [
    "\"\"\"\n",
    "* установки ограничений для базы уникальности двух полей\n",
    "* Отображение названия таблицы в Админки\n",
    "* Опция каскадного удаления\n",
    "\"\"\"\n",
    "\n",
    "\n",
    "class CashierMd(models.Model):\n",
    "    \"\"\"\n",
    "    Класс описывающий 'операционные кассы' системы Мое Дело.\n",
    "    \"\"\"\n",
    "\n",
    "    id_cash_md = models.IntegerField(unique=True, verbose_name='ID в системе МД')\n",
    "    created = models.DateTimeField(auto_now_add=True)\n",
    "    is_main = models.BooleanField()\n",
    "    name = models.CharField(max_length=128, verbose_name='Название')\n",
    "    client = models.ForeignKey('main.Client', on_delete=models.CASCADE, verbose_name='Пользователь')\n",
    "\n",
    "    def __str__(self):\n",
    "        return self.name\n",
    "\n",
    "    class Meta:\n",
    "        verbose_name = 'Операционные кассы МД'\n",
    "        verbose_name_plural = 'Операционные кассы МД'\n",
    "        unique_together = ('id_cash_md', 'client')\n"
   ]
  },
  {
   "cell_type": "code",
   "execution_count": null,
   "metadata": {},
   "outputs": [],
   "source": [
    "\"\"\"\n",
    "Пример создания своего UserManagera c доп. полями\n",
    "И связывание его с с кастомной моделью пользователя Client\n",
    "\"\"\"\n",
    "from django.contrib.auth.models import AbstractUser, BaseUserManager\n",
    "from django.db import models\n",
    "from django.db.models.signals import post_save\n",
    "\n",
    "\n",
    "class MyUserManager(BaseUserManager):\n",
    "    \"\"\"\n",
    "    Переопределенный класс, с добавленными обязательными полями токенов.\n",
    "    \"\"\"\n",
    "\n",
    "    def create_user(self, email, username, password, mts_token, md_token):\n",
    "        if None in (mts_token, md_token, email):\n",
    "            raise ValueError('Users must have an email address, and tokens')\n",
    "\n",
    "        user = self.model(\n",
    "            email=self.normalize_email(email),\n",
    "            username=username,\n",
    "            mts_token=mts_token,\n",
    "            md_token=md_token\n",
    "        )\n",
    "\n",
    "        user.set_password(password)\n",
    "        user.save(using=self._db)\n",
    "        return user\n",
    "\n",
    "    def create_superuser(self, email, username, password, mts_token, md_token):\n",
    "        user = self.create_user(\n",
    "            email,\n",
    "            username=username,\n",
    "            password=password,\n",
    "            mts_token=mts_token,\n",
    "            md_token=md_token\n",
    "        )\n",
    "        user.is_admin = True\n",
    "        user.is_superuser = True\n",
    "        user.is_staff = True\n",
    "        user.save(using=self._db)\n",
    "        return user\n",
    "\n",
    "\n",
    "class Client(AbstractUser):\n",
    "    \"\"\"\n",
    "    Класс описывающий клиентов. К стандартным полям пользователя добавлены\n",
    "    обязательные md_token, mts_token - токены необходимые для обращения к\n",
    "    АПИ товароучетных систем МТС и Мое Дело. Эта же модель используется для\n",
    "    авторизации.\n",
    "    ВАЖНО!!! При вызове метода save - срабатывает сигнал по синхранизации касс и складов.\n",
    "    \"\"\"\n",
    "\n",
    "    mts_token = models.CharField(unique=True, max_length=128)\n",
    "    md_token = models.CharField(unique=True, max_length=128)\n",
    "    objects = MyUserManager()\n",
    "\n",
    "    USERNAME_FIELD = 'username'\n",
    "    REQUIRED_FIELDS = ['md_token', 'mts_token', 'email']\n",
    "\n",
    "# Тут инициализируем сигнал после сохранения пользователя в базу инициализируется задача new_user_start...\n",
    "from main.signals.new_user_start_sync import new_user_start_sinc\n",
    "post_save.connect(new_user_start_sinc, sender=Client)"
   ]
  },
  {
   "cell_type": "markdown",
   "metadata": {},
   "source": [
    "![title](img/signal_tree.png)"
   ]
  },
  {
   "cell_type": "markdown",
   "metadata": {},
   "source": [
    "### Сигналы ###"
   ]
  },
  {
   "cell_type": "code",
   "execution_count": null,
   "metadata": {},
   "outputs": [],
   "source": [
    "\"\"\"\n",
    "Сама функция сигнала\n",
    "\"\"\"\n",
    "def new_user_start_sinc(sender, **kwargs):\n",
    "    \"\"\"\n",
    "    По сигналу о создании нового пользователя\n",
    "    Стартуют задачи по синхронизации\n",
    "    \"\"\"\n",
    "    instance = kwargs.get('instance')\n",
    "    sync_all.delay(client_id=instance.pk)  # тут мы запускаем асинхронную задачку\n",
    "    sync_data_between_mts_md.delay(client_id=instance.pk)"
   ]
  },
  {
   "cell_type": "code",
   "execution_count": null,
   "metadata": {},
   "outputs": [],
   "source": [
    "\"\"\"\n",
    "Пример переопределения методов save и delete модели\n",
    "\"\"\"\n",
    "class RelationshipStockCashierTradeUnit(models.Model):\n",
    "    \"\"\"\n",
    "    Связующий класс-таблица, описывающий связку Подразделения МТС с\n",
    "    сущносятми операционная касса и склад из системы Мое Дело.\n",
    "    Задано ограничение, предполагащие одну запись в таблице для\n",
    "    одного подразделения МТС.\n",
    "    \"\"\"\n",
    "\n",
    "    client = models.ForeignKey('main.Client', verbose_name='Клиент', on_delete=models.CASCADE)\n",
    "    cash_md = models.ForeignKey('main.CashierMd', verbose_name='Опер.касса МД', on_delete=models.DO_NOTHING)\n",
    "    stock_md = models.ForeignKey('main.StockMd', verbose_name='Склад МД', on_delete=models.DO_NOTHING)\n",
    "    trade_mts = models.ForeignKey('main.TradeUnitMts', verbose_name='Подразделение МТС', on_delete=models.DO_NOTHING)\n",
    "    created = models.DateTimeField(auto_now_add=True)\n",
    "\n",
    "    class Meta:\n",
    "        verbose_name = 'Таблица связей объектов'\n",
    "        verbose_name_plural = 'Таблица связей объектов'\n",
    "        unique_together = ('client', 'trade_mts')\n",
    "\n",
    "    def _create_relay_task(self, created=False):\n",
    "        \"\"\"\n",
    "        После создания новой связи между объектами\n",
    "        МТС и МОЕ ДЕЛО, создаются две задачки по расписанию\n",
    "        И Записи в связанных с ними таблицами\n",
    "        \"\"\"\n",
    "        if created:\n",
    "\n",
    "            schedule, is_created = IntervalSchedule.objects.get_or_create(\n",
    "                period=CONFIG['DEFAULT_SHEDULER']['period'],\n",
    "                every=CONFIG['DEFAULT_SHEDULER']['every'])\n",
    "            task_upload_items, is_created = PeriodicTask.objects.get_or_create(\n",
    "                interval=schedule,\n",
    "                name=f'Выгрузка товаров из Мое Дело в МТС_{self.client_id}',\n",
    "                task='main.tasks.load_items.load_items',\n",
    "                args=json.dumps([self.client_id]))\n",
    "            RelationClientPeriodicTask.objects.get_or_create(\n",
    "                client_id=self.client_id, periodic_task_id=task_upload_items.id)\n",
    "            task_upload_sales, is_created = PeriodicTask.objects.get_or_create(\n",
    "                interval=schedule,\n",
    "                name=f'Загрузка продаж из МТС в Мое Дело_{self.client_id}',\n",
    "                task='main.tasks.load_sales.load_sales',\n",
    "                args=json.dumps([self.client_id]))\n",
    "            RelationClientPeriodicTask.objects.get_or_create(\n",
    "                client_id=self.client_id,\n",
    "                periodic_task_id=task_upload_sales.id)\n",
    "\n",
    "    def _delete_relayted_task(self):\n",
    "        count = RelationshipStockCashierTradeUnit.objects.filter(\n",
    "            client=self.client).count()\n",
    "\n",
    "        if count == 0:\n",
    "            tasks = RelationClientPeriodicTask.objects.filter(\n",
    "                client=self.client)\n",
    "            tasks_id = [\n",
    "                i.periodic_task.id for i in tasks if i.periodic_task.name != f'Синхронизация касс и складов_{self.client.id}'\n",
    "            ]\n",
    "            PeriodicTask.objects.filter(id__in=tasks_id).delete()\n",
    "\n",
    "    def save(self, *args, **kwargs):\n",
    "        created = self.pk is None\n",
    "        try:\n",
    "            super(RelationshipStockCashierTradeUnit, self).save(*args, **kwargs)\n",
    "            self._create_relay_task(created)\n",
    "        except IntegrityError as e:\n",
    "            logger.error(e)\n",
    "\n",
    "    def delete(self, *args, **kwargs):\n",
    "        \"\"\"\n",
    "        При удаление последней записи в таблице, удаляются все связанные записи\n",
    "        В том числе и в таблицах связанные с задачами по синхронизации.\n",
    "        \"\"\"\n",
    "        super(RelationshipStockCashierTradeUnit, self).delete(*args, **kwargs)\n",
    "        self._delete_relayted_task()"
   ]
  },
  {
   "cell_type": "markdown",
   "metadata": {},
   "source": [
    "## CELERY - TASK ##"
   ]
  },
  {
   "cell_type": "code",
   "execution_count": null,
   "metadata": {},
   "outputs": [],
   "source": [
    "\"\"\"\n",
    "Пример создания задачки\n",
    "\"\"\""
   ]
  },
  {
   "cell_type": "markdown",
   "metadata": {},
   "source": [
    "![title](img/task_tree.png)"
   ]
  },
  {
   "cell_type": "code",
   "execution_count": null,
   "metadata": {},
   "outputs": [],
   "source": [
    "\"\"\"\n",
    "Важно таски должны быть в __init__.py иначе их не найдет celery\n",
    "\n",
    "from .cashiers_md import *\n",
    "from .stoks_md import *\n",
    "from .trade_unit import *\n",
    "from .load_sales import *\n",
    "from .load_items import *\n",
    "\"\"\""
   ]
  },
  {
   "cell_type": "code",
   "execution_count": null,
   "metadata": {},
   "outputs": [],
   "source": [
    "\"\"\"\n",
    "Пример таски которая, возвращает chord из из вдух груповых тасок\n",
    "Задачка собираемая в групу должна быть обернута сигнатурой:\n",
    "task.s - так она не будет вызываться, и такую задачу можно просто добавить в список задач.\n",
    "task.delay - вызовет задачу в асинхронном режиме\n",
    "\"\"\"\n",
    "\n",
    "@app.task(trail=True) # так объявляется таска\n",
    "def handle_session(parrent_id, session_id, client_id):\n",
    "    \"\"\"\n",
    "    Задачка по обработки данных сессии полученной от МТС\n",
    "    :param parrent_id - :\n",
    "    :param session_id - :\n",
    "    Формирует готовые отчеты, которые передает другой задаче не отправку\n",
    "    \"\"\"\n",
    "    last_session = SessionModel.objects.filter(parent_task__client_id=client_id)\n",
    "    list_ids = [i.session_id for i in last_session]\n",
    "    if str(session_id) in list_ids:\n",
    "        return f'Сессия № {session_id} обрабатывалась ранее'\n",
    "\n",
    "    parent_task = SaleTaskModel.objects.get(task_id=parrent_id)\n",
    "    new_session = SessionModel.objects.create(session_id=session_id, parent_task=parent_task)\n",
    "\n",
    "    z_report = new_session.data['data'][0].get('z_report')\n",
    "    documents = new_session.data['data'][0].get('documents')\n",
    "\n",
    "    trade_mts_obj = TradeUnitMts.objects.get(client=parent_task.client, id_mts=z_report.get('shop_id'))\n",
    "    relation_obj = RelationshipStockCashierTradeUnit.objects.get(client=parent_task.client, trade_mts=trade_mts_obj)\n",
    "\n",
    "    report_jobs = new_session.create_report_jobs(\n",
    "        z_report, documents, md_token=relation_obj.client.md_token, cash_id=relation_obj.cash_md.id_cash_md)\n",
    "\n",
    "    all_items = new_session.create_all_items_job(\n",
    "        documents, mts_token=relation_obj.client.mts_token, client_id=relation_obj.client.id)\n",
    "\n",
    "    return chord([group(report_jobs), group(all_items)],  # Можно списком собрать пачку груповых задачек\n",
    "                 send_retail_report.s(z_report=z_report, # В эту задачку передаем результат\n",
    "                                      md_token=trade_mts_obj.client.md_token,\n",
    "                                      stock_id=relation_obj.stock_md.id_stock_md))()"
   ]
  },
  {
   "cell_type": "code",
   "execution_count": null,
   "metadata": {},
   "outputs": [],
   "source": [
    "\"\"\"\n",
    "Пример таски которая принимает результаты двух груповых тасок\n",
    "\"\"\"\n",
    "@app.task(\n",
    "    default_retry_delay=10,\n",
    "    max_retries=5,\n",
    "    autoretry_for=(RequestException,),\n",
    "    retry_backoff=True\n",
    ")\n",
    "def send_retail_report(*args, **kwargs):  # В args как раз прилетают результаты от задачек, \n",
    "                                          # в kwargs можно свои передать параметры\n",
    "    \"\"\"\n",
    "    Задача по отправке отчета о продажах\n",
    "    :param args: - результаты предыдущих задач (списко товаров, и кассовых операций)\n",
    "    :param kwargs:  z-отчет , md_token, store_list\n",
    "    :return: результат запроса к АПИ Мое Дело\n",
    "    \"\"\"\n",
    "    revenue_report = []\n",
    "    items = []\n",
    "\n",
    "    for spam in args[0]:\n",
    "        if isinstance(spam, (tuple, list)):\n",
    "            revenue_report.append({'CashierId': spam[1], 'RetailRevenueId': f'{spam[0]}'})\n",
    "        elif isinstance(spam, dict):\n",
    "            if spam['Name'] != 'Свободная продажа':\n",
    "                items.append(spam)\n",
    "\n",
    "    md = MoeDeloApi(api_key=kwargs['md_token'])\n",
    "    result = md.send_retail_report(revenue_report, items, **kwargs)\n",
    "    return result"
   ]
  },
  {
   "cell_type": "code",
   "execution_count": null,
   "metadata": {},
   "outputs": [],
   "source": [
    "\"\"\"\n",
    "Собсвтенные фильтры в шаблонах (templatetags)\n",
    "\"\"\""
   ]
  },
  {
   "cell_type": "code",
   "execution_count": null,
   "metadata": {},
   "outputs": [],
   "source": [
    "from django.template.defaulttags import register\n",
    "\n",
    "\n",
    "@register.filter(name='get_item')\n",
    "def get_item(dictionary, key):\n",
    "    \"\"\"\n",
    "    Кастомный фильтр для получение значение по ключу в шаблоне\n",
    "    :param dictionary: словарь в шаблоне\n",
    "    :param key: искомый ключ\n",
    "    :return: значение\n",
    "    \"\"\"\n",
    "    return dictionary.get(key)\n",
    "\n",
    "@register.filter(name='split')\n",
    "def split(value, arg):\n",
    "    \"\"\"\n",
    "    Кастомный фильтр удаление окончания '_4' при ренедринге в шаблоне.\n",
    "    Окончание означает id пользователя. И наличие этого окончания обеспечивет уникальность имени задачки\n",
    "    :param value: строка названия\n",
    "    :param arg: символ по которому разбиваем строку\n",
    "    :return: чистое название\n",
    "    \"\"\"\n",
    "\n",
    "    return value.split(arg)[0]"
   ]
  },
  {
   "cell_type": "code",
   "execution_count": null,
   "metadata": {},
   "outputs": [],
   "source": [
    "\"\"\"\n",
    "В шаблоне это выглядит так\n",
    "\"\"\"\n",
    "<div class=\"table-data-two_table-cell\">{{ translate_interval|get_item:row.periodic_task.interval.period }}</div>\n",
    "<div class=\"table-data-two_table-cell-1\">{{ row.periodic_task.name|split:\"_\" }}</div>"
   ]
  },
  {
   "cell_type": "markdown",
   "metadata": {},
   "source": [
    "## Pytest - django and TDD ##"
   ]
  },
  {
   "cell_type": "markdown",
   "metadata": {},
   "source": [
    "![title](img/goat.png)"
   ]
  },
  {
   "cell_type": "markdown",
   "metadata": {},
   "source": [
    "![title](img/test_goat.png)"
   ]
  },
  {
   "cell_type": "markdown",
   "metadata": {},
   "source": [
    "### Суть подхода TDD ###"
   ]
  },
  {
   "cell_type": "markdown",
   "metadata": {},
   "source": [
    "![title](img/tdd_step1.png)"
   ]
  },
  {
   "cell_type": "markdown",
   "metadata": {},
   "source": [
    "![title](img/tdd_step2.png)"
   ]
  },
  {
   "cell_type": "code",
   "execution_count": null,
   "metadata": {},
   "outputs": [],
   "source": []
  },
  {
   "cell_type": "code",
   "execution_count": null,
   "metadata": {},
   "outputs": [],
   "source": [
    "\"\"\"\n",
    "Pytest - fixture\n",
    "Фикстуры создаются в файлике c\n",
    "\"\"\"\n"
   ]
  },
  {
   "cell_type": "markdown",
   "metadata": {},
   "source": [
    "![title](img/tdd_cycle.png)"
   ]
  },
  {
   "cell_type": "code",
   "execution_count": null,
   "metadata": {},
   "outputs": [],
   "source": [
    "\"\"\"\n",
    "Пример отправки подтверждения на почту во вьюхе\n",
    "\"\"\""
   ]
  },
  {
   "cell_type": "markdown",
   "metadata": {},
   "source": [
    "![title](img/send_mail_view.png)"
   ]
  },
  {
   "cell_type": "markdown",
   "metadata": {},
   "source": [
    "Пример генерации уникального ID, который шлется потом на email для подтверждения"
   ]
  },
  {
   "cell_type": "markdown",
   "metadata": {},
   "source": [
    "![title](img/uuid.png)"
   ]
  },
  {
   "cell_type": "markdown",
   "metadata": {},
   "source": [
    "LOGGING"
   ]
  },
  {
   "cell_type": "markdown",
   "metadata": {},
   "source": [
    "![title](img/logging.png)"
   ]
  },
  {
   "cell_type": "markdown",
   "metadata": {},
   "source": [
    "Функциональный тест отправки уведомления на email!"
   ]
  },
  {
   "cell_type": "markdown",
   "metadata": {},
   "source": [
    "![title](img/check_mail.png)"
   ]
  },
  {
   "cell_type": "markdown",
   "metadata": {},
   "source": [
    "### MOCK ###"
   ]
  },
  {
   "cell_type": "markdown",
   "metadata": {},
   "source": [
    "![mock](img/mock.png)"
   ]
  },
  {
   "cell_type": "markdown",
   "metadata": {},
   "source": [
    "### Mock class-level ###"
   ]
  },
  {
   "cell_type": "markdown",
   "metadata": {},
   "source": [
    "![mock_class](img/mock_class.png)"
   ]
  },
  {
   "cell_type": "markdown",
   "metadata": {},
   "source": [
    "### email - config ###"
   ]
  },
  {
   "cell_type": "markdown",
   "metadata": {},
   "source": [
    "![email](img/email.png)"
   ]
  },
  {
   "cell_type": "markdown",
   "metadata": {},
   "source": [
    "### logout ###"
   ]
  },
  {
   "cell_type": "markdown",
   "metadata": {},
   "source": [
    "![logout](img/logout.png)"
   ]
  },
  {
   "cell_type": "markdown",
   "metadata": {},
   "source": [
    "### Тестирование создание сессии для пользователя ###"
   ]
  },
  {
   "cell_type": "markdown",
   "metadata": {},
   "source": [
    "![session](img/session.png)"
   ]
  },
  {
   "cell_type": "markdown",
   "metadata": {},
   "source": [
    "### Я в конце проекта.. ###"
   ]
  },
  {
   "cell_type": "markdown",
   "metadata": {},
   "source": [
    "![title](img/after.jpg)"
   ]
  },
  {
   "cell_type": "code",
   "execution_count": 1,
   "metadata": {},
   "outputs": [
    {
     "data": {
      "text/plain": [
       "type"
      ]
     },
     "execution_count": 1,
     "metadata": {},
     "output_type": "execute_result"
    }
   ],
   "source": []
  },
  {
   "cell_type": "code",
   "execution_count": null,
   "metadata": {},
   "outputs": [],
   "source": []
  }
 ],
 "metadata": {
  "kernelspec": {
   "display_name": "Python 3",
   "language": "python",
   "name": "python3"
  },
  "language_info": {
   "codemirror_mode": {
    "name": "ipython",
    "version": 3
   },
   "file_extension": ".py",
   "mimetype": "text/x-python",
   "name": "python",
   "nbconvert_exporter": "python",
   "pygments_lexer": "ipython3",
   "version": "3.6.8"
  }
 },
 "nbformat": 4,
 "nbformat_minor": 1
}
