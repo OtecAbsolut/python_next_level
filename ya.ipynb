{
 "cells": [
  {
   "cell_type": "markdown",
   "metadata": {},
   "source": [
    "### Побитовый сдвиг вправо ###"
   ]
  },
  {
   "cell_type": "code",
   "execution_count": 1,
   "metadata": {},
   "outputs": [
    {
     "name": "stdout",
     "output_type": "stream",
     "text": [
      "0\n"
     ]
    }
   ],
   "source": [
    "a = 7\n",
    "a >>= 4  # побитовый сдвиг\n",
    "print(a)"
   ]
  },
  {
   "cell_type": "markdown",
   "metadata": {},
   "source": [
    "### Арифметические операции ###"
   ]
  },
  {
   "cell_type": "code",
   "execution_count": 2,
   "metadata": {},
   "outputs": [
    {
     "name": "stdout",
     "output_type": "stream",
     "text": [
      "Возведение в степень 49\n",
      "Остаток от деления 1\n",
      "Простое деление 3.5\n",
      "Деление на цело 3\n"
     ]
    }
   ],
   "source": [
    "a = 7\n",
    "b = 2\n",
    "print('Возведение в степень', a ** b)\n",
    "print('Остаток от деления', a % b)\n",
    "print('Простое деление', a / b)\n",
    "print('Деление на цело', a // b)"
   ]
  },
  {
   "cell_type": "markdown",
   "metadata": {},
   "source": [
    "### Типы данных ###"
   ]
  },
  {
   "cell_type": "code",
   "execution_count": 5,
   "metadata": {},
   "outputs": [
    {
     "name": "stdout",
     "output_type": "stream",
     "text": [
      "<class 'int'>\n",
      "<class 'bool'>\n",
      "<class 'NoneType'>\n",
      "<class 'str'>\n",
      "<class 'float'>\n",
      "<class 'list'>\n",
      "<class 'tuple'>\n",
      "<class 'dict'>\n",
      "<class 'int'>\n",
      "<class 'bytes'>\n",
      "<class 'set'>\n",
      "<class 'frozenset'>\n"
     ]
    }
   ],
   "source": [
    "print(type(1))\n",
    "print(type(True))\n",
    "print(type(None))\n",
    "print(type('t'))\n",
    "print(type(1.4335))\n",
    "print(type([]))\n",
    "print(type(()))\n",
    "print(type({}))\n",
    "print(type(0b10011)) # 16-ая запись числа\n",
    "print(type(b'32242'))\n",
    "print(type(set()))\n",
    "print(frozenset)"
   ]
  },
  {
   "cell_type": "markdown",
   "metadata": {},
   "source": [
    "### Байты ###\n",
    "bytes в основном содержат последовательность целых чисел в диапазоне 0-255, но когда они представлены, \n",
    "Python отображает эти байты как кодовые точки ASCII чтобы было легче читать их содержание. \n",
    "Любые байты вне диапазона printable символов ASCII показываются как escape-последовательности \n",
    "(например, \\n, \\x82 и т. Д"
   ]
  },
  {
   "cell_type": "code",
   "execution_count": 6,
   "metadata": {},
   "outputs": [
    {
     "name": "stdout",
     "output_type": "stream",
     "text": [
      "255\n",
      "b'aaabbb'\n"
     ]
    }
   ],
   "source": [
    "x = 0\n",
    "for i in b'12345':\n",
    "    x += i\n",
    "print(x)\n",
    "print(b'aaa' + b'bbb')"
   ]
  },
  {
   "cell_type": "markdown",
   "metadata": {},
   "source": [
    "### Цикл while ###\n",
    "Если обрывается break то else не сработает"
   ]
  },
  {
   "cell_type": "code",
   "execution_count": 8,
   "metadata": {},
   "outputs": [
    {
     "name": "stdout",
     "output_type": "stream",
     "text": [
      "6\n"
     ]
    }
   ],
   "source": [
    "a = 5\n",
    "while a < 10:\n",
    "    a += 1\n",
    "    print(a)\n",
    "    break\n",
    "else:\n",
    "    print('цикл закончился', a)"
   ]
  },
  {
   "cell_type": "code",
   "execution_count": 9,
   "metadata": {},
   "outputs": [
    {
     "name": "stdout",
     "output_type": "stream",
     "text": [
      "6\n",
      "7\n",
      "8\n",
      "9\n",
      "10\n",
      "Сработало else 10\n"
     ]
    }
   ],
   "source": [
    "a = 5\n",
    "while a < 10:\n",
    "    a += 1\n",
    "    print(a)\n",
    "else:\n",
    "    print('Сработало else', a)"
   ]
  },
  {
   "cell_type": "markdown",
   "metadata": {},
   "source": [
    "### Работа со строками ###"
   ]
  },
  {
   "cell_type": "code",
   "execution_count": 21,
   "metadata": {},
   "outputs": [
    {
     "data": {
      "text/plain": [
       "' '"
      ]
     },
     "execution_count": 21,
     "metadata": {},
     "output_type": "execute_result"
    }
   ],
   "source": [
    "a = ' test string '\n",
    "a[-1]"
   ]
  },
  {
   "cell_type": "markdown",
   "metadata": {},
   "source": [
    "Переворот строки"
   ]
  },
  {
   "cell_type": "code",
   "execution_count": 22,
   "metadata": {},
   "outputs": [
    {
     "data": {
      "text/plain": [
       "' gnirts tset '"
      ]
     },
     "execution_count": 22,
     "metadata": {},
     "output_type": "execute_result"
    }
   ],
   "source": [
    "a[::-1]"
   ]
  },
  {
   "cell_type": "code",
   "execution_count": 23,
   "metadata": {},
   "outputs": [
    {
     "data": {
      "text/plain": [
       "' Test String '"
      ]
     },
     "execution_count": 23,
     "metadata": {},
     "output_type": "execute_result"
    }
   ],
   "source": [
    "a.title()\n"
   ]
  },
  {
   "cell_type": "code",
   "execution_count": 24,
   "metadata": {},
   "outputs": [
    {
     "data": {
      "text/plain": [
       "' TEST STRING '"
      ]
     },
     "execution_count": 24,
     "metadata": {},
     "output_type": "execute_result"
    }
   ],
   "source": [
    "a.upper()\n"
   ]
  },
  {
   "cell_type": "code",
   "execution_count": 25,
   "metadata": {},
   "outputs": [
    {
     "data": {
      "text/plain": [
       "' test string '"
      ]
     },
     "execution_count": 25,
     "metadata": {},
     "output_type": "execute_result"
    }
   ],
   "source": [
    "a.capitalize()\n"
   ]
  },
  {
   "cell_type": "code",
   "execution_count": 26,
   "metadata": {},
   "outputs": [
    {
     "data": {
      "text/plain": [
       "['', 'test', 'string', '']"
      ]
     },
     "execution_count": 26,
     "metadata": {},
     "output_type": "execute_result"
    }
   ],
   "source": [
    "a.split(' ')"
   ]
  },
  {
   "cell_type": "code",
   "execution_count": 30,
   "metadata": {},
   "outputs": [],
   "source": [
    "b = ['hello', 'world']"
   ]
  },
  {
   "cell_type": "code",
   "execution_count": 32,
   "metadata": {},
   "outputs": [
    {
     "data": {
      "text/plain": [
       "'hello,world'"
      ]
     },
     "execution_count": 32,
     "metadata": {},
     "output_type": "execute_result"
    }
   ],
   "source": [
    "','.join(b)\n"
   ]
  },
  {
   "cell_type": "code",
   "execution_count": 28,
   "metadata": {},
   "outputs": [
    {
     "data": {
      "text/plain": [
       "'test string'"
      ]
     },
     "execution_count": 28,
     "metadata": {},
     "output_type": "execute_result"
    }
   ],
   "source": [
    "a.strip(' ')  #Удаляет пробелы с концов строки\n"
   ]
  },
  {
   "cell_type": "markdown",
   "metadata": {},
   "source": [
    "### Переворот словаря ###"
   ]
  },
  {
   "cell_type": "code",
   "execution_count": 15,
   "metadata": {},
   "outputs": [],
   "source": [
    "a_dict = {'one': 1, 'two': 2, 'three': 3}"
   ]
  },
  {
   "cell_type": "code",
   "execution_count": 16,
   "metadata": {},
   "outputs": [
    {
     "data": {
      "text/plain": [
       "{1: 'one', 2: 'two', 3: 'three'}"
      ]
     },
     "execution_count": 16,
     "metadata": {},
     "output_type": "execute_result"
    }
   ],
   "source": [
    "dict(zip(a_dict.values(), a_dict.keys()))  "
   ]
  },
  {
   "cell_type": "markdown",
   "metadata": {},
   "source": [
    "### Массивы ###"
   ]
  },
  {
   "cell_type": "code",
   "execution_count": 33,
   "metadata": {},
   "outputs": [],
   "source": [
    "array = [1, 2, 3, 4, 5]"
   ]
  },
  {
   "cell_type": "code",
   "execution_count": 34,
   "metadata": {},
   "outputs": [
    {
     "data": {
      "text/plain": [
       "[5, 3, 1]"
      ]
     },
     "execution_count": 34,
     "metadata": {},
     "output_type": "execute_result"
    }
   ],
   "source": [
    "array[::-2]"
   ]
  },
  {
   "cell_type": "code",
   "execution_count": 35,
   "metadata": {},
   "outputs": [
    {
     "data": {
      "text/plain": [
       "[1, 2, 1, 2, 1, 2]"
      ]
     },
     "execution_count": 35,
     "metadata": {},
     "output_type": "execute_result"
    }
   ],
   "source": [
    "[1, 2] * 3"
   ]
  },
  {
   "cell_type": "markdown",
   "metadata": {},
   "source": [
    "Способ добавления элемента в массив в начало"
   ]
  },
  {
   "cell_type": "code",
   "execution_count": 40,
   "metadata": {},
   "outputs": [
    {
     "data": {
      "text/plain": [
       "[5, 1, 2, 3, 4, 5, 6, 9]"
      ]
     },
     "execution_count": 40,
     "metadata": {},
     "output_type": "execute_result"
    }
   ],
   "source": [
    "g = [1, 2, 3, 4, 5, 6, 9]\n",
    "g[:0] = [5]\n",
    "g"
   ]
  },
  {
   "cell_type": "code",
   "execution_count": 41,
   "metadata": {},
   "outputs": [
    {
     "data": {
      "text/plain": [
       "[1, 5, 2, 3, 4, 5, 6]"
      ]
     },
     "execution_count": 41,
     "metadata": {},
     "output_type": "execute_result"
    }
   ],
   "source": [
    "g = [1, 2, 3, 4, 5, 6]\n",
    "g[1:1] = [5]\n",
    "g"
   ]
  },
  {
   "cell_type": "code",
   "execution_count": 42,
   "metadata": {},
   "outputs": [
    {
     "data": {
      "text/plain": [
       "[5, 9, 0, 3, 4, 5, 6]"
      ]
     },
     "execution_count": 42,
     "metadata": {},
     "output_type": "execute_result"
    }
   ],
   "source": [
    "g[:3] = [5, 9, 0]\n",
    "g"
   ]
  },
  {
   "cell_type": "code",
   "execution_count": 43,
   "metadata": {},
   "outputs": [
    {
     "data": {
      "text/plain": [
       "1"
      ]
     },
     "execution_count": 43,
     "metadata": {},
     "output_type": "execute_result"
    }
   ],
   "source": [
    "g.index(9) # Возвращает первое совпадение"
   ]
  },
  {
   "cell_type": "code",
   "execution_count": 47,
   "metadata": {},
   "outputs": [
    {
     "name": "stdout",
     "output_type": "stream",
     "text": [
      "140538002330976\n",
      "140538002330976\n",
      "140538002331104\n",
      "140538002331104\n",
      "140538002330816\n",
      "140538002330816\n",
      "140538002330912\n",
      "140538002330912\n",
      "140538002330944\n",
      "140538002330944\n",
      "140538002330976\n",
      "140538002330976\n",
      "\n",
      "id самих массивов\n",
      "140537576583304\n",
      "140537575773512\n"
     ]
    }
   ],
   "source": [
    "f = g.copy()\n",
    "f\n",
    "for i in range(6):\n",
    "    print(id(g[i]))\n",
    "    print(id(f[i]))\n",
    "print('\\nid самих массивов')\n",
    "print(id(f))\n",
    "print(id(g))"
   ]
  },
  {
   "cell_type": "code",
   "execution_count": 50,
   "metadata": {},
   "outputs": [
    {
     "data": {
      "text/plain": [
       "['t', 9, 0, 3, 4, 5, 6]"
      ]
     },
     "execution_count": 50,
     "metadata": {},
     "output_type": "execute_result"
    }
   ],
   "source": [
    "f[0] = 't'\n",
    "f\n"
   ]
  },
  {
   "cell_type": "markdown",
   "metadata": {},
   "source": [
    "g\n"
   ]
  },
  {
   "cell_type": "markdown",
   "metadata": {},
   "source": [
    "### Сложение кортежей ###"
   ]
  },
  {
   "cell_type": "code",
   "execution_count": 52,
   "metadata": {},
   "outputs": [
    {
     "data": {
      "text/plain": [
       "(1, 2, 3, 4, 5, 5)"
      ]
     },
     "execution_count": 52,
     "metadata": {},
     "output_type": "execute_result"
    }
   ],
   "source": [
    "\n",
    "j = (1, 2, 3, 4, 5) + (5, )\n",
    "j"
   ]
  },
  {
   "cell_type": "markdown",
   "metadata": {},
   "source": [
    "### Получение эелемнта по его ANCII коду ###"
   ]
  },
  {
   "cell_type": "code",
   "execution_count": 54,
   "metadata": {},
   "outputs": [
    {
     "data": {
      "text/plain": [
       "'p'"
      ]
     },
     "execution_count": 54,
     "metadata": {},
     "output_type": "execute_result"
    }
   ],
   "source": [
    "chr(112)\n"
   ]
  },
  {
   "cell_type": "markdown",
   "metadata": {},
   "source": [
    "### Множества ###"
   ]
  },
  {
   "cell_type": "code",
   "execution_count": 56,
   "metadata": {},
   "outputs": [],
   "source": [
    "d = {1, 3, 6, 8, 9}\n",
    "h = {6, 9, 10}"
   ]
  },
  {
   "cell_type": "code",
   "execution_count": 57,
   "metadata": {},
   "outputs": [
    {
     "data": {
      "text/plain": [
       "False"
      ]
     },
     "execution_count": 57,
     "metadata": {},
     "output_type": "execute_result"
    }
   ],
   "source": [
    "d.issuperset(h)"
   ]
  },
  {
   "cell_type": "code",
   "execution_count": 58,
   "metadata": {},
   "outputs": [
    {
     "data": {
      "text/plain": [
       "False"
      ]
     },
     "execution_count": 58,
     "metadata": {},
     "output_type": "execute_result"
    }
   ],
   "source": [
    "h.issubset(d)"
   ]
  },
  {
   "cell_type": "code",
   "execution_count": 59,
   "metadata": {},
   "outputs": [
    {
     "data": {
      "text/plain": [
       "False"
      ]
     },
     "execution_count": 59,
     "metadata": {},
     "output_type": "execute_result"
    }
   ],
   "source": [
    "d <= h"
   ]
  },
  {
   "cell_type": "code",
   "execution_count": 60,
   "metadata": {},
   "outputs": [
    {
     "data": {
      "text/plain": [
       "False"
      ]
     },
     "execution_count": 60,
     "metadata": {},
     "output_type": "execute_result"
    }
   ],
   "source": [
    "d >= h\n"
   ]
  },
  {
   "cell_type": "code",
   "execution_count": 62,
   "metadata": {},
   "outputs": [
    {
     "data": {
      "text/plain": [
       "{6, 9}"
      ]
     },
     "execution_count": 62,
     "metadata": {},
     "output_type": "execute_result"
    }
   ],
   "source": [
    "d & h # Пересечение множеств"
   ]
  },
  {
   "cell_type": "code",
   "execution_count": 63,
   "metadata": {},
   "outputs": [
    {
     "data": {
      "text/plain": [
       "{6, 9}"
      ]
     },
     "execution_count": 63,
     "metadata": {},
     "output_type": "execute_result"
    }
   ],
   "source": [
    "d.intersection(h)"
   ]
  },
  {
   "cell_type": "code",
   "execution_count": 65,
   "metadata": {},
   "outputs": [
    {
     "data": {
      "text/plain": [
       "{1, 3, 6, 8, 9, 10}"
      ]
     },
     "execution_count": 65,
     "metadata": {},
     "output_type": "execute_result"
    }
   ],
   "source": [
    "d | h # Объединение множеств"
   ]
  },
  {
   "cell_type": "code",
   "execution_count": 67,
   "metadata": {},
   "outputs": [
    {
     "data": {
      "text/plain": [
       "{1, 3, 6, 8, 9, 10}"
      ]
     },
     "execution_count": 67,
     "metadata": {},
     "output_type": "execute_result"
    }
   ],
   "source": [
    "d.union(h)"
   ]
  },
  {
   "cell_type": "code",
   "execution_count": 68,
   "metadata": {},
   "outputs": [
    {
     "data": {
      "text/plain": [
       "{1, 3, 8, 10}"
      ]
     },
     "execution_count": 68,
     "metadata": {},
     "output_type": "execute_result"
    }
   ],
   "source": [
    "d ^ h"
   ]
  },
  {
   "cell_type": "code",
   "execution_count": 69,
   "metadata": {},
   "outputs": [
    {
     "data": {
      "text/plain": [
       "{1, 3, 8, 10}"
      ]
     },
     "execution_count": 69,
     "metadata": {},
     "output_type": "execute_result"
    }
   ],
   "source": [
    "d.symmetric_difference(h)"
   ]
  },
  {
   "cell_type": "markdown",
   "metadata": {},
   "source": [
    "### Особенност ссылочной работы с переменными ###"
   ]
  },
  {
   "cell_type": "code",
   "execution_count": 80,
   "metadata": {},
   "outputs": [
    {
     "name": "stdout",
     "output_type": "stream",
     "text": [
      "100\n"
     ]
    }
   ],
   "source": [
    "atr = 100\n",
    "btr = atr\n",
    "atr = 200\n",
    "print(btr)"
   ]
  },
  {
   "cell_type": "code",
   "execution_count": 74,
   "metadata": {},
   "outputs": [
    {
     "name": "stdout",
     "output_type": "stream",
     "text": [
      "100\n"
     ]
    }
   ],
   "source": [
    "atr = 100\n",
    "btr = atr\n",
    "atr += 10\n",
    "print(btr)"
   ]
  },
  {
   "cell_type": "code",
   "execution_count": 79,
   "metadata": {},
   "outputs": [
    {
     "name": "stdout",
     "output_type": "stream",
     "text": [
      "[1, 2, 3, 10]\n",
      "[1, 2, 3]\n"
     ]
    }
   ],
   "source": [
    "atr = [1, 2, 3]\n",
    "btr = atr\n",
    "atr = atr + [10]\n",
    "print(atr)\n",
    "print(btr)"
   ]
  },
  {
   "cell_type": "code",
   "execution_count": 81,
   "metadata": {},
   "outputs": [
    {
     "name": "stdout",
     "output_type": "stream",
     "text": [
      "[1, 2, 3, 8]\n"
     ]
    }
   ],
   "source": [
    "atr = [1, 2, 3]\n",
    "btr = atr\n",
    "atr.append(8)\n",
    "print(btr)"
   ]
  },
  {
   "cell_type": "code",
   "execution_count": 149,
   "metadata": {},
   "outputs": [
    {
     "name": "stdout",
     "output_type": "stream",
     "text": [
      "[1, 2, 3, 4]\n",
      "[2, 3, 4]\n"
     ]
    }
   ],
   "source": [
    "# Пример того что переменная это ссылка на объект. и если объект изменяемый, то можнт вот такой прикол \n",
    "# случится\n",
    "sp1 = [1, 2, 3]\n",
    "sp2 = sp1\n",
    "sp2.append(4)\n",
    "print(sp1)\n",
    "del sp2[0]\n",
    "print(sp1)"
   ]
  },
  {
   "cell_type": "code",
   "execution_count": 151,
   "metadata": {},
   "outputs": [
    {
     "data": {
      "text/plain": [
       "[1, 2, 3, 4, 5, 'new']"
      ]
     },
     "execution_count": 151,
     "metadata": {},
     "output_type": "execute_result"
    }
   ],
   "source": [
    "# Пример использования этого ссылочного свойства в функциях.\n",
    "sp3 = [1, 2, 3, 4, 5]\n",
    "def change_list(l):\n",
    "    l.append('new')\n",
    "\n",
    "change_list(sp3)\n",
    "sp3"
   ]
  },
  {
   "cell_type": "code",
   "execution_count": 152,
   "metadata": {},
   "outputs": [
    {
     "data": {
      "text/plain": [
       "[1, 2, 3, 4, 5, 'new']"
      ]
     },
     "execution_count": 152,
     "metadata": {},
     "output_type": "execute_result"
    }
   ],
   "source": [
    "# Используя полный срез [ : ], вы получите только поверхностную копию, вложенные изменяемые\n",
    "# объекты так и останутся ссылками.\n",
    "change_list(sp3[:])\n",
    "sp3"
   ]
  },
  {
   "cell_type": "markdown",
   "metadata": {},
   "source": [
    "### Работа range, max, enumerate ###"
   ]
  },
  {
   "cell_type": "code",
   "execution_count": 87,
   "metadata": {},
   "outputs": [
    {
     "data": {
      "text/plain": [
       "range"
      ]
     },
     "execution_count": 87,
     "metadata": {},
     "output_type": "execute_result"
    }
   ],
   "source": [
    "type(range(6)) # <class 'range'>"
   ]
  },
  {
   "cell_type": "code",
   "execution_count": 88,
   "metadata": {},
   "outputs": [
    {
     "data": {
      "text/plain": [
       "3"
      ]
     },
     "execution_count": 88,
     "metadata": {},
     "output_type": "execute_result"
    }
   ],
   "source": [
    "range(10)[3]"
   ]
  },
  {
   "cell_type": "code",
   "execution_count": 89,
   "metadata": {},
   "outputs": [
    {
     "name": "stdout",
     "output_type": "stream",
     "text": [
      "[0, 1, 2, 3, 4, 5, 6, 7, 8, 9]\n"
     ]
    }
   ],
   "source": [
    "a = range(10)\n",
    "print(list(a))"
   ]
  },
  {
   "cell_type": "code",
   "execution_count": 90,
   "metadata": {},
   "outputs": [
    {
     "data": {
      "text/plain": [
       "'отмпвуолмтуму'"
      ]
     },
     "execution_count": 90,
     "metadata": {},
     "output_type": "execute_result"
    }
   ],
   "source": [
    "max('отмпвуолмтуму', 'fhfkkw')"
   ]
  },
  {
   "cell_type": "code",
   "execution_count": 94,
   "metadata": {},
   "outputs": [
    {
     "data": {
      "text/plain": [
       "{0: 'r', 1: 'g', 2: 'h', 3: 'u'}"
      ]
     },
     "execution_count": 94,
     "metadata": {},
     "output_type": "execute_result"
    }
   ],
   "source": [
    "a = enumerate(['r', 'g', 'h', 'u'])\n",
    "dict(a)"
   ]
  },
  {
   "cell_type": "code",
   "execution_count": 100,
   "metadata": {},
   "outputs": [
    {
     "data": {
      "text/plain": [
       "\"\\n(0, 'r')\\n(1, 'g')\\n(2, 'h')\\n(3, 'u')\\n\""
      ]
     },
     "execution_count": 100,
     "metadata": {},
     "output_type": "execute_result"
    }
   ],
   "source": [
    "for i in a:\n",
    "    print(i)\n",
    "'''\n",
    "(0, 'r')\n",
    "(1, 'g')\n",
    "(2, 'h')\n",
    "(3, 'u')\n",
    "'''"
   ]
  },
  {
   "cell_type": "markdown",
   "metadata": {},
   "source": [
    "### Область видимости ###\n",
    "В python есть 4 области видимости:\n",
    "\n",
    "1 Локальная.\n",
    "2 Объемлющей функции.\n",
    "3 Глобальная(модуля).\n",
    "4 Встроенная (builtins) — предопределённые имена, например, имена встроенных функций.\n",
    "Поиск переменной происходит поочередно с 1 по 4-ую."
   ]
  },
  {
   "cell_type": "code",
   "execution_count": 116,
   "metadata": {},
   "outputs": [
    {
     "name": "stdout",
     "output_type": "stream",
     "text": [
      "Выполняется inside x = 5, y = 10, z = 22\n",
      "Выполняется outside x = 5, y = 10, z - не доступна\n",
      "Только можем напечатать 5\n"
     ]
    }
   ],
   "source": [
    "x = 5  # глобальная переменная - доступна в любом месте данного модуля\n",
    "def outside():\n",
    "    y = 10  # доступна в теле данной функции и + во всех вложенных функциях\n",
    "    def inside():\n",
    "        zz = 15   # доступна только в теле данной функции\n",
    "        print(f'Выполняется inside x = {x}, y = {y}, z = {z}')\n",
    "    inside()\n",
    "    print(f'Выполняется outside x = {x}, y = {y}, z - не доступна')\n",
    "outside()\n",
    "print(f'Только можем напечатать {x}' )"
   ]
  },
  {
   "cell_type": "code",
   "execution_count": 117,
   "metadata": {},
   "outputs": [],
   "source": [
    "z = 22\n",
    "def local(x):\n",
    "    y = 10\n",
    "    print(x, y, z)"
   ]
  },
  {
   "cell_type": "code",
   "execution_count": 102,
   "metadata": {},
   "outputs": [
    {
     "name": "stdout",
     "output_type": "stream",
     "text": [
      "99 10 22\n"
     ]
    }
   ],
   "source": [
    "local(99)"
   ]
  },
  {
   "cell_type": "code",
   "execution_count": 91,
   "metadata": {},
   "outputs": [
    {
     "data": {
      "text/plain": [
       "<function __main__.local(x)>"
      ]
     },
     "execution_count": 91,
     "metadata": {},
     "output_type": "execute_result"
    }
   ],
   "source": [
    "local"
   ]
  },
  {
   "cell_type": "markdown",
   "metadata": {},
   "source": [
    "### Лямбда функция ###"
   ]
  },
  {
   "cell_type": "code",
   "execution_count": 103,
   "metadata": {},
   "outputs": [
    {
     "data": {
      "text/plain": [
       "<function __main__.<lambda>(x)>"
      ]
     },
     "execution_count": 103,
     "metadata": {},
     "output_type": "execute_result"
    }
   ],
   "source": [
    "lambda x: x**2"
   ]
  },
  {
   "cell_type": "code",
   "execution_count": 104,
   "metadata": {},
   "outputs": [
    {
     "data": {
      "text/plain": [
       "[1, 4, 9]"
      ]
     },
     "execution_count": 104,
     "metadata": {},
     "output_type": "execute_result"
    }
   ],
   "source": [
    "o = [1, 2, 3]\n",
    "\n",
    "list(map(lambda i: i**2, o))"
   ]
  },
  {
   "cell_type": "code",
   "execution_count": 105,
   "metadata": {},
   "outputs": [
    {
     "data": {
      "text/plain": [
       "[1, 4, 9]"
      ]
     },
     "execution_count": 105,
     "metadata": {},
     "output_type": "execute_result"
    }
   ],
   "source": [
    "[i**2 for i in [1, 2, 3]]"
   ]
  },
  {
   "cell_type": "code",
   "execution_count": 106,
   "metadata": {},
   "outputs": [
    {
     "data": {
      "text/plain": [
       "4"
      ]
     },
     "execution_count": 106,
     "metadata": {},
     "output_type": "execute_result"
    }
   ],
   "source": [
    "new_func = lambda x: x + 1\n",
    "new_func(3)"
   ]
  },
  {
   "cell_type": "code",
   "execution_count": 107,
   "metadata": {},
   "outputs": [
    {
     "data": {
      "text/plain": [
       "6"
      ]
     },
     "execution_count": 107,
     "metadata": {},
     "output_type": "execute_result"
    }
   ],
   "source": [
    "(lambda x, y, z: x + y + z)(1, 2, 3)"
   ]
  },
  {
   "cell_type": "code",
   "execution_count": 108,
   "metadata": {},
   "outputs": [
    {
     "data": {
      "text/plain": [
       "'Сергей Новожилов'"
      ]
     },
     "execution_count": 108,
     "metadata": {},
     "output_type": "execute_result"
    }
   ],
   "source": [
    "'''\n",
    "Type hinting - предопределение типов данных заранее\n",
    "При такой заданной функции, в IDE будет подсвечиваться как ошибка не правильно подставленные аргументы:\n",
    "\"expected str indtead int\"\n",
    "'''\n",
    "def full_name(first: str, last: str) -> str:\n",
    "    return f'{first.title()} {last.title()}'\n",
    "full_name('сергей', 'новожилов')\n"
   ]
  },
  {
   "cell_type": "code",
   "execution_count": 110,
   "metadata": {},
   "outputs": [
    {
     "data": {
      "text/plain": [
       "10"
      ]
     },
     "execution_count": 110,
     "metadata": {},
     "output_type": "execute_result"
    }
   ],
   "source": [
    "sum([1, 2, 3, 4])"
   ]
  },
  {
   "cell_type": "code",
   "execution_count": 111,
   "metadata": {},
   "outputs": [
    {
     "data": {
      "text/plain": [
       "10"
      ]
     },
     "execution_count": 111,
     "metadata": {},
     "output_type": "execute_result"
    }
   ],
   "source": [
    "(lambda *args: sum(args))(1, 2, 3, 4)"
   ]
  },
  {
   "cell_type": "code",
   "execution_count": 112,
   "metadata": {},
   "outputs": [
    {
     "data": {
      "text/plain": [
       "6"
      ]
     },
     "execution_count": 112,
     "metadata": {},
     "output_type": "execute_result"
    }
   ],
   "source": [
    "(lambda **kwa: sum(kwa.values()))(one=1,two=2,three=3)"
   ]
  },
  {
   "cell_type": "code",
   "execution_count": 115,
   "metadata": {},
   "outputs": [
    {
     "data": {
      "text/plain": [
       "6"
      ]
     },
     "execution_count": 115,
     "metadata": {},
     "output_type": "execute_result"
    }
   ],
   "source": [
    "(lambda x=0, y=0: x + y)(2, 4)"
   ]
  },
  {
   "cell_type": "markdown",
   "metadata": {},
   "source": [
    "### Функция с произвольным количеством аргументов ###"
   ]
  },
  {
   "cell_type": "code",
   "execution_count": 120,
   "metadata": {},
   "outputs": [
    {
     "data": {
      "text/plain": [
       "3.0"
      ]
     },
     "execution_count": 120,
     "metadata": {},
     "output_type": "execute_result"
    }
   ],
   "source": [
    "def average(*args):\n",
    "    sum = 0\n",
    "    for i in args:\n",
    "        sum += i\n",
    "    return sum / len(args)\n",
    "\n",
    "average(1, 2, 3, 4, 5)"
   ]
  },
  {
   "cell_type": "markdown",
   "metadata": {},
   "source": [
    "Передача именованныз аргументов"
   ]
  },
  {
   "cell_type": "code",
   "execution_count": 123,
   "metadata": {},
   "outputs": [
    {
     "name": "stdout",
     "output_type": "stream",
     "text": [
      "name = Вася\n",
      "age = 23\n"
     ]
    }
   ],
   "source": [
    "def print_info(**kwargs):\n",
    "    print(f'name = {kwargs[\"name\"]}\\nage = {kwargs[\"age\"]}')\n",
    "          \n",
    "print_info(name='Вася', age=23)"
   ]
  },
  {
   "cell_type": "code",
   "execution_count": 124,
   "metadata": {},
   "outputs": [
    {
     "name": "stdout",
     "output_type": "stream",
     "text": [
      "(1, 2, 'kkk')\n",
      "{'name': 'Bob', 'age': 23}\n"
     ]
    }
   ],
   "source": [
    "def print_info2(*args, **kwargs):\n",
    "    print(args)\n",
    "    print(kwargs)\n",
    "    \n",
    "print_info2(1, 2, 'kkk', name='Bob', age=23)  "
   ]
  },
  {
   "cell_type": "code",
   "execution_count": 125,
   "metadata": {},
   "outputs": [
    {
     "name": "stdout",
     "output_type": "stream",
     "text": [
      "(1, 2, 'ttt')\n",
      "{'name': 'Bob', 'age': 23}\n"
     ]
    }
   ],
   "source": [
    "g = [1, 2, 'ttt']\n",
    "d = {'name': 'Bob', 'age': 23}\n",
    "print_info2(*g, **d)"
   ]
  },
  {
   "cell_type": "code",
   "execution_count": 127,
   "metadata": {},
   "outputs": [
    {
     "name": "stdout",
     "output_type": "stream",
     "text": [
      "([1, 2, 'ttt'], {'name': 'Bob', 'age': 23})\n",
      "{}\n"
     ]
    }
   ],
   "source": [
    "print_info2([1, 2, 'ttt'], {'name': 'Bob', 'age': 23}) # Так не работает!!"
   ]
  },
  {
   "cell_type": "markdown",
   "metadata": {},
   "source": [
    "### Функция zip, map, filter ###"
   ]
  },
  {
   "cell_type": "code",
   "execution_count": 132,
   "metadata": {},
   "outputs": [
    {
     "data": {
      "text/plain": [
       "<zip at 0x7fd174377b88>"
      ]
     },
     "execution_count": 132,
     "metadata": {},
     "output_type": "execute_result"
    }
   ],
   "source": [
    "a = ['b', 'c']\n",
    "b = [1, 2]\n",
    "zip(a, b)"
   ]
  },
  {
   "cell_type": "code",
   "execution_count": 133,
   "metadata": {},
   "outputs": [
    {
     "data": {
      "text/plain": [
       "[('b', 1), ('c', 2)]"
      ]
     },
     "execution_count": 133,
     "metadata": {},
     "output_type": "execute_result"
    }
   ],
   "source": [
    "list(zip(a, b))"
   ]
  },
  {
   "cell_type": "code",
   "execution_count": 134,
   "metadata": {},
   "outputs": [
    {
     "data": {
      "text/plain": [
       "{'b': 1, 'c': 2}"
      ]
     },
     "execution_count": 134,
     "metadata": {},
     "output_type": "execute_result"
    }
   ],
   "source": [
    "dict(zip(a, b))"
   ]
  },
  {
   "cell_type": "code",
   "execution_count": 135,
   "metadata": {},
   "outputs": [
    {
     "data": {
      "text/plain": [
       "[0, 0, 0, 4, 5]"
      ]
     },
     "execution_count": 135,
     "metadata": {},
     "output_type": "execute_result"
    }
   ],
   "source": [
    "def map_func(i):\n",
    "    if i > 3:\n",
    "        return i\n",
    "    else:\n",
    "        return 0\n",
    "    \n",
    "c = [1, 2, 3, 4, 5]\n",
    "list(map(lambda x: map_func(x), c))"
   ]
  },
  {
   "cell_type": "code",
   "execution_count": 136,
   "metadata": {},
   "outputs": [
    {
     "data": {
      "text/plain": [
       "[4, 5]"
      ]
     },
     "execution_count": 136,
     "metadata": {},
     "output_type": "execute_result"
    }
   ],
   "source": [
    "list(filter(lambda x: map_func(x), c))"
   ]
  },
  {
   "cell_type": "code",
   "execution_count": 137,
   "metadata": {},
   "outputs": [
    {
     "data": {
      "text/plain": [
       "['CAT', 'DOG', 'SLON']"
      ]
     },
     "execution_count": 137,
     "metadata": {},
     "output_type": "execute_result"
    }
   ],
   "source": [
    "list(map(lambda x : x.upper(), ['cat', 'dog', 'slon']))"
   ]
  },
  {
   "cell_type": "code",
   "execution_count": 138,
   "metadata": {},
   "outputs": [
    {
     "data": {
      "text/plain": [
       "['dog']"
      ]
     },
     "execution_count": 138,
     "metadata": {},
     "output_type": "execute_result"
    }
   ],
   "source": [
    "list(filter(lambda x: 'o' in x, ['cat', 'dog']))"
   ]
  },
  {
   "cell_type": "code",
   "execution_count": 139,
   "metadata": {},
   "outputs": [
    {
     "name": "stdout",
     "output_type": "stream",
     "text": [
      "<_io.TextIOWrapper name='test.txt' mode='r+' encoding='UTF-8'>\n",
      "0 0\n",
      "\n",
      "1 1\n",
      "\n",
      "2 2\n",
      "\n",
      "3 3\n",
      "\n",
      "4 4\n",
      "\n",
      "5 5\n",
      "\n",
      "6 6\n",
      "\n",
      "7 7\n",
      "\n",
      "8 8\n",
      "\n",
      "9 9\n",
      "\n",
      "10 \n",
      "\n",
      "11 Еще одна строка\n",
      "\n",
      "12 Еще одна строка\n"
     ]
    }
   ],
   "source": [
    "with open('test.txt', 'r+') as file:\n",
    "    print(file)\n",
    "    for index, i in enumerate(file):\n",
    "        print(index, i)\n",
    "\n",
    "    file.write('\\nЕще одна строка', )\n",
    "        "
   ]
  },
  {
   "cell_type": "code",
   "execution_count": 154,
   "metadata": {},
   "outputs": [],
   "source": [
    "# Примеры косяков с циклами\n",
    "sp4 = [1, -1, -8, 2, 3, -3, -11, 4, -2]\n"
   ]
  },
  {
   "cell_type": "code",
   "execution_count": 155,
   "metadata": {},
   "outputs": [
    {
     "name": "stdout",
     "output_type": "stream",
     "text": [
      "1\n",
      "-1\n",
      "2\n",
      "3\n",
      "-3\n",
      "4\n",
      "-2\n"
     ]
    },
    {
     "data": {
      "text/plain": [
       "[1, -8, 2, 3, -11, 4]"
      ]
     },
     "execution_count": 155,
     "metadata": {},
     "output_type": "execute_result"
    }
   ],
   "source": [
    "for value in sp4:\n",
    "    print(value)\n",
    "    if value < 0:\n",
    "        sp4.remove(value)\n",
    "sp4"
   ]
  },
  {
   "cell_type": "markdown",
   "metadata": {},
   "source": [
    "### Сокращенная запись if ###"
   ]
  },
  {
   "cell_type": "code",
   "execution_count": 157,
   "metadata": {},
   "outputs": [
    {
     "name": "stdout",
     "output_type": "stream",
     "text": [
      "Bob\n"
     ]
    }
   ],
   "source": [
    "d = {'name': 'Bob'}\n",
    "print(d.get('name') if d.get('name') else 'Безимянный')"
   ]
  },
  {
   "cell_type": "code",
   "execution_count": 158,
   "metadata": {},
   "outputs": [
    {
     "data": {
      "text/plain": [
       "True"
      ]
     },
     "execution_count": 158,
     "metadata": {},
     "output_type": "execute_result"
    }
   ],
   "source": [
    "sp5 = [1, 2]\n",
    "sp6 = sp5\n",
    "sp5 is sp6"
   ]
  },
  {
   "cell_type": "code",
   "execution_count": 159,
   "metadata": {},
   "outputs": [
    {
     "data": {
      "text/plain": [
       "False"
      ]
     },
     "execution_count": 159,
     "metadata": {},
     "output_type": "execute_result"
    }
   ],
   "source": [
    "sp7 = [1, 2]\n",
    "sp5 is sp7"
   ]
  },
  {
   "cell_type": "markdown",
   "metadata": {},
   "source": [
    "### Генераторы спиской ###"
   ]
  },
  {
   "cell_type": "code",
   "execution_count": 160,
   "metadata": {},
   "outputs": [
    {
     "data": {
      "text/plain": [
       "[0, 1, 2, 3, 4, 5, 6, 7, 8, 9, 10]"
      ]
     },
     "execution_count": 160,
     "metadata": {},
     "output_type": "execute_result"
    }
   ],
   "source": [
    "sp8 = [i for i in range(0, 11)]\n",
    "sp8"
   ]
  },
  {
   "cell_type": "code",
   "execution_count": 162,
   "metadata": {},
   "outputs": [
    {
     "data": {
      "text/plain": [
       "<generator object <genexpr> at 0x7fd17431b048>"
      ]
     },
     "execution_count": 162,
     "metadata": {},
     "output_type": "execute_result"
    }
   ],
   "source": [
    "sp9 = (i for i in range(0, 11))\n",
    "sp9"
   ]
  },
  {
   "cell_type": "code",
   "execution_count": 164,
   "metadata": {},
   "outputs": [
    {
     "data": {
      "text/plain": [
       "1"
      ]
     },
     "execution_count": 164,
     "metadata": {},
     "output_type": "execute_result"
    }
   ],
   "source": [
    "next(sp9)\n"
   ]
  },
  {
   "cell_type": "markdown",
   "metadata": {},
   "source": [
    "### try  - except ###"
   ]
  },
  {
   "cell_type": "code",
   "execution_count": 167,
   "metadata": {},
   "outputs": [
    {
     "name": "stdout",
     "output_type": "stream",
     "text": [
      "Тут выполняется else если не было ошибки\n",
      "Этот код выполняется всегда finally\n",
      "Код после блока try\n"
     ]
    }
   ],
   "source": [
    "# БЕЗ ОШИБКИ\n",
    "sp10 = [1, '2', 3, '4']\n",
    "try:\n",
    "    sp10[3]\n",
    "#     s = sp10[0] + sp10[2]\n",
    "#     c = sp23[0]\n",
    "except IndexError:\n",
    "    print('Нет такого индекса')\n",
    "except TypeError:\n",
    "    print('Вы складываете разные типы данных')\n",
    "except Exception as e:\n",
    "    print(f'Неведомая ошибка {e}')\n",
    "else:\n",
    "    print('Тут выполняется else если не было ошибки')\n",
    "finally:\n",
    "    print('Этот код выполняется всегда finally')\n",
    "\n",
    "print('Код после блока try')"
   ]
  },
  {
   "cell_type": "code",
   "execution_count": 168,
   "metadata": {},
   "outputs": [
    {
     "name": "stdout",
     "output_type": "stream",
     "text": [
      "Нет такого индекса\n",
      "Этот код выполняется всегда finally\n",
      "Код после блока try\n"
     ]
    }
   ],
   "source": [
    "try:\n",
    "    sp10[15]\n",
    "except IndexError:\n",
    "    print('Нет такого индекса')\n",
    "except TypeError:\n",
    "    print('Вы складываете разные типы данных')\n",
    "except Exception as e:\n",
    "    print(f'Неведомая ошибка {e}')\n",
    "else:\n",
    "    print('Тут выполняется else если не было ошибки')\n",
    "finally:\n",
    "    print('Этот код выполняется всегда finally')\n",
    "\n",
    "print('Код после блока try')"
   ]
  },
  {
   "cell_type": "code",
   "execution_count": 169,
   "metadata": {},
   "outputs": [
    {
     "data": {
      "text/plain": [
       "('sys.path = ',\n",
       " ['/usr/lib64/python36.zip',\n",
       "  '/usr/lib64/python3.6',\n",
       "  '/usr/lib64/python3.6/lib-dynload',\n",
       "  '',\n",
       "  '/home/novozhilovsv/PROJECT/python_next_level/venv/lib64/python3.6/site-packages',\n",
       "  '/home/novozhilovsv/PROJECT/python_next_level/venv/lib64/python3.6/site-packages/setuptools-39.1.0-py3.6.egg',\n",
       "  '/home/novozhilovsv/PROJECT/python_next_level/venv/lib/python3.6/site-packages',\n",
       "  '/home/novozhilovsv/PROJECT/python_next_level/venv/lib/python3.6/site-packages/setuptools-39.1.0-py3.6.egg',\n",
       "  '/home/novozhilovsv/PROJECT/python_next_level/venv/lib64/python3.6/site-packages/IPython/extensions',\n",
       "  '/home/novozhilovsv/.ipython'])"
      ]
     },
     "execution_count": 169,
     "metadata": {},
     "output_type": "execute_result"
    }
   ],
   "source": [
    "# Пути поиска модулей при import`e \n",
    "import sys\n",
    "'sys.path = ', sys.path"
   ]
  },
  {
   "cell_type": "code",
   "execution_count": 145,
   "metadata": {},
   "outputs": [],
   "source": [
    "# sys.modules{str: types.ModuleType}\n",
    "#Словарь уже загруженных в Питон модулей.\n",
    "# sys.modules"
   ]
  },
  {
   "cell_type": "code",
   "execution_count": 146,
   "metadata": {},
   "outputs": [
    {
     "name": "stdout",
     "output_type": "stream",
     "text": [
      "/home/novozhilovsv/PROJECT/python_next_level\n"
     ]
    }
   ],
   "source": [
    "import os\n",
    "print(os.getcwd())"
   ]
  },
  {
   "cell_type": "code",
   "execution_count": 147,
   "metadata": {},
   "outputs": [
    {
     "name": "stdout",
     "output_type": "stream",
     "text": [
      "['/home/novozhilovsv/PROJECT/python_next_level/venv/lib64/python3.6/site-packages/ipykernel_launcher.py', '-f', '/run/user/1000/jupyter/kernel-59507754-c9ff-41d3-8ae8-375513e681d3.json']\n"
     ]
    }
   ],
   "source": [
    "# Запуск скрипта из консоли с параметрами\n",
    "# > python3 my_script.py param1 param2 param3\n",
    "\n",
    "import sys\n",
    "print(sys.argv)"
   ]
  },
  {
   "cell_type": "code",
   "execution_count": 171,
   "metadata": {},
   "outputs": [],
   "source": [
    "# self._method(self) - инкапсуляция\n",
    "# @property - позволяет обращаться к методу как к атрибуту\n",
    "# .class_room() --> .class_room\n",
    "\n",
    "\n",
    "class Man:\n",
    "    def __init__(self, name, age):\n",
    "        self.name = name\n",
    "        self.age = age\n",
    "        \n",
    "    @property\n",
    "    def _check_age(self):\n",
    "        if self.age < 18:\n",
    "            return False\n",
    "        else:\n",
    "            return True\n",
    "    \n",
    "    def buy_alco(self):\n",
    "        if self._check_age:\n",
    "            return 'ok'\n",
    "        else:\n",
    "            return 'Ты слишком молод дружок'\n",
    "    \n",
    "    @property\n",
    "    def birhday(self):\n",
    "        self.age += 1\n",
    "        return self.age"
   ]
  },
  {
   "cell_type": "code",
   "execution_count": 172,
   "metadata": {},
   "outputs": [],
   "source": [
    "man = Man('Вася', 15)"
   ]
  },
  {
   "cell_type": "code",
   "execution_count": 173,
   "metadata": {},
   "outputs": [
    {
     "data": {
      "text/plain": [
       "16"
      ]
     },
     "execution_count": 173,
     "metadata": {},
     "output_type": "execute_result"
    }
   ],
   "source": [
    "man.birhday"
   ]
  },
  {
   "cell_type": "code",
   "execution_count": 174,
   "metadata": {},
   "outputs": [
    {
     "data": {
      "text/plain": [
       "'Ты слишком молод дружок'"
      ]
     },
     "execution_count": 174,
     "metadata": {},
     "output_type": "execute_result"
    }
   ],
   "source": [
    "man.buy_alco()"
   ]
  },
  {
   "cell_type": "code",
   "execution_count": 175,
   "metadata": {},
   "outputs": [],
   "source": [
    "# Добавляем новый атрибут в класс, и добавляем новый метод\n",
    "class OldMan(Man):\n",
    "    def __init__(self, name, age, is_old):\n",
    "        super().__init__(name, age)\n",
    "        self.is_old = is_old\n",
    "        \n",
    "    def __add__(self, other):\n",
    "        return OldMan(self.name + other.name, self.age + other.age, self.is_old)\n",
    "    \n",
    "    def __str__(self):\n",
    "        return f'Объект OldMan с именем => {self.name} в возрасте => {self.age}'\n",
    "    \n",
    "    def __repr__(self):\n",
    "        return f'name : {self.name}, age: {self.age}'\n",
    "    \n",
    "    def get_help(self):\n",
    "        return 'Выдана помощь'"
   ]
  },
  {
   "cell_type": "code",
   "execution_count": 176,
   "metadata": {},
   "outputs": [
    {
     "name": "stdout",
     "output_type": "stream",
     "text": [
      "Объект OldMan с именем => Дедушка в возрасте => 65\n",
      "Объект OldMan с именем => ДедушкаБабушка в возрасте => 140\n"
     ]
    }
   ],
   "source": [
    "old = OldMan('Дедушка', 65, True)\n",
    "old2 = OldMan('Бабушка', 75, True)\n",
    "print(old)\n",
    "old3 = old + old2\n",
    "print(old3)"
   ]
  },
  {
   "cell_type": "code",
   "execution_count": 177,
   "metadata": {},
   "outputs": [
    {
     "data": {
      "text/plain": [
       "'name : Дедушка, age: 65'"
      ]
     },
     "execution_count": 177,
     "metadata": {},
     "output_type": "execute_result"
    }
   ],
   "source": [
    "old.__repr__()"
   ]
  },
  {
   "cell_type": "code",
   "execution_count": 178,
   "metadata": {},
   "outputs": [
    {
     "data": {
      "text/plain": [
       "'Выдана помощь'"
      ]
     },
     "execution_count": 178,
     "metadata": {},
     "output_type": "execute_result"
    }
   ],
   "source": [
    "old.get_help()"
   ]
  },
  {
   "cell_type": "code",
   "execution_count": 179,
   "metadata": {},
   "outputs": [
    {
     "data": {
      "text/plain": [
       "name : Бабушка, age: 75"
      ]
     },
     "execution_count": 179,
     "metadata": {},
     "output_type": "execute_result"
    }
   ],
   "source": [
    "old2"
   ]
  },
  {
   "cell_type": "code",
   "execution_count": 180,
   "metadata": {},
   "outputs": [
    {
     "data": {
      "text/plain": [
       "True"
      ]
     },
     "execution_count": 180,
     "metadata": {},
     "output_type": "execute_result"
    }
   ],
   "source": [
    "old.is_old"
   ]
  },
  {
   "cell_type": "code",
   "execution_count": 185,
   "metadata": {},
   "outputs": [],
   "source": [
    "'''\n",
    "Дескрипторы (те которые используют методы __del__, __get__, __set__)\n",
    "'''\n",
    "class NotYangMan:\n",
    "    \n",
    "#     def __init__(self, name):\n",
    "#         self.name = name\n",
    "        \n",
    "    def __get__(self, instance, owner):\n",
    "        print('Вызов метода __get__ в классе NotYangMan')\n",
    "        return instance.__dict__[self.name]\n",
    "    \n",
    "    def __set__(self, instance, value):\n",
    "        if value < 18:\n",
    "            raise ValueError('Ты слишком молод')\n",
    "        instance.__dict__[self.name] = value\n",
    "    def __set_name__(self, owner, name):\n",
    "        self.name = name\n",
    "\n",
    "class Man:\n",
    "#     age = NotYangMan('age')\n",
    "    age = NotYangMan()\n",
    "\n",
    "    \n",
    "    def __init__(self, name, age):\n",
    "        self.name = name\n",
    "        self.age = age\n",
    "        \n",
    "    @property\n",
    "    def _check_age(self):\n",
    "        if self.age < 18:\n",
    "            return False\n",
    "        else:\n",
    "            return True\n",
    "    \n",
    "    def buy_alco(self):\n",
    "        if self._check_age:\n",
    "            return 'ok'\n",
    "        else:\n",
    "            return 'Ты слишком молод дружок'\n",
    "    \n",
    "    @property\n",
    "    def birhday(self):\n",
    "        self.age += 1\n",
    "        return self.age\n",
    "\n",
    "man = Man('Bob', 18)"
   ]
  },
  {
   "cell_type": "code",
   "execution_count": 188,
   "metadata": {},
   "outputs": [
    {
     "name": "stdout",
     "output_type": "stream",
     "text": [
      "Вызов метода __get__ в классе NotYangMan\n",
      "Bobik 25\n",
      "{'name': 'Bobik', 'age': 45}\n"
     ]
    }
   ],
   "source": [
    "man = Man('Bobik', 25)\n",
    "print(man.name, man.age)\n",
    "man.__dict__['age'] = 45\n",
    "print(man.__dict__)"
   ]
  },
  {
   "cell_type": "markdown",
   "metadata": {},
   "source": [
    "### Магические методы ###\n",
    "\\__len__ - будет вызываться при обращение к объекту len(object)  \n",
    "\\__call__  - объект можно вызать как функцию (или написать декоратор например)  \n",
    "\\__dict__ - представляет все атрибуты класса в виде словаря  \n",
    "\\__get__ - срабатывает при вызове атрибута  \n",
    "\\__set__ - срабатывает при установке атрибута  \n",
    "\\__new__ - вызывается самым первым при создание объекта класса еще перед __init__  \n",
    "\\__del__ , по сути описывает что происходит, когда до него добирается сборщик мусора.  \n",
    "\\__pos__ (self) Определяет поведение для унарного плюса (+some_object)  \n",
    "\\__call__ - может имитировать вызов функции у объекта класса  \n",
    "\\__add__ (self, other) Сложение объектов  \n",
    "\\__str__ (self):  - переопределяет вывод в print()  \n",
    "\\__repr__ (self) - вызывается встроенной функцией repr; возвращает \"сырые\" данные,  \n",
    "\\__iter__() - возвращает объект итератор  \n",
    "\\__next__() - выдает следующий объект последовательности  \n",
    "использующиеся для внутреннего представления в python.  \n",
    "  \n",
    "*** Про отличие repr b str  \n",
    "Ещё раз: потребитель repr()—программист Питона, который видит это представление в REPL или debugger."
   ]
  },
  {
   "cell_type": "markdown",
   "metadata": {},
   "source": [
    "### Итераторы ###\n",
    "Сам список итератором не является, но у него есть волшебный метод, который __iter__ который возвращает итератор\n",
    "* По итератору можно пройтись только один раз!!!\n",
    "* Объект считается итератором, если у него есть метод __next__"
   ]
  },
  {
   "cell_type": "code",
   "execution_count": 189,
   "metadata": {},
   "outputs": [
    {
     "data": {
      "text/plain": [
       "<list_iterator at 0x7fd174365c50>"
      ]
     },
     "execution_count": 189,
     "metadata": {},
     "output_type": "execute_result"
    }
   ],
   "source": [
    "sp11 = [1, 2, 3]\n",
    "iter_obj = sp11.__iter__()\n",
    "iter_obj"
   ]
  },
  {
   "cell_type": "code",
   "execution_count": 190,
   "metadata": {},
   "outputs": [
    {
     "data": {
      "text/plain": [
       "2"
      ]
     },
     "execution_count": 190,
     "metadata": {},
     "output_type": "execute_result"
    }
   ],
   "source": [
    "# Одинаковая запись\n",
    "iter_obj.__next__()\n",
    "next(iter_obj)"
   ]
  },
  {
   "cell_type": "code",
   "execution_count": 191,
   "metadata": {},
   "outputs": [],
   "source": [
    "# Пишем свой итератор\n",
    "class IterObj():\n",
    "    def __init__(self, start=0):\n",
    "        self.start = start\n",
    "        \n",
    "    def __next__(self):\n",
    "        self.start += 1\n",
    "        if self.start <= 5:\n",
    "            return self.start\n",
    "        else:\n",
    "            raise StopIteration  # raise - Возбуждает указанное исключение"
   ]
  },
  {
   "cell_type": "code",
   "execution_count": 192,
   "metadata": {},
   "outputs": [],
   "source": [
    "test_iter = IterObj()"
   ]
  },
  {
   "cell_type": "code",
   "execution_count": 193,
   "metadata": {},
   "outputs": [
    {
     "data": {
      "text/plain": [
       "1"
      ]
     },
     "execution_count": 193,
     "metadata": {},
     "output_type": "execute_result"
    }
   ],
   "source": [
    "next(test_iter)"
   ]
  },
  {
   "cell_type": "code",
   "execution_count": 194,
   "metadata": {},
   "outputs": [],
   "source": [
    "# Пишем класс, который поддепживает итерацию\n",
    "class SupportIter():\n",
    "    def __init__(self, start=0):\n",
    "        self.start = start\n",
    "    \n",
    "    def __iter__(self):\n",
    "        return IterObj(self.start)"
   ]
  },
  {
   "cell_type": "code",
   "execution_count": 195,
   "metadata": {},
   "outputs": [
    {
     "data": {
      "text/plain": [
       "<__main__.SupportIter at 0x7fd1743656a0>"
      ]
     },
     "execution_count": 195,
     "metadata": {},
     "output_type": "execute_result"
    }
   ],
   "source": [
    "test_obj = SupportIter()\n",
    "test_obj"
   ]
  },
  {
   "cell_type": "code",
   "execution_count": 197,
   "metadata": {},
   "outputs": [
    {
     "name": "stdout",
     "output_type": "stream",
     "text": [
      "1\n",
      "2\n",
      "3\n",
      "4\n",
      "5\n"
     ]
    }
   ],
   "source": [
    "for i in test_obj:\n",
    "    print(i)"
   ]
  },
  {
   "cell_type": "code",
   "execution_count": 198,
   "metadata": {},
   "outputs": [],
   "source": [
    "map_iter = map(int, '123')"
   ]
  },
  {
   "cell_type": "code",
   "execution_count": 199,
   "metadata": {},
   "outputs": [
    {
     "data": {
      "text/plain": [
       "1"
      ]
     },
     "execution_count": 199,
     "metadata": {},
     "output_type": "execute_result"
    }
   ],
   "source": [
    "next(map_iter)"
   ]
  },
  {
   "cell_type": "code",
   "execution_count": 200,
   "metadata": {},
   "outputs": [],
   "source": [
    "class Iter2():\n",
    "    \n",
    "    def __init__(self, start=0):\n",
    "        self.start = start\n",
    "    \n",
    "    def __iter__(self):\n",
    "        return self\n",
    "    \n",
    "    def __next__(self):\n",
    "        self.start += 1\n",
    "        if self.start <= 5:\n",
    "            return self.start\n",
    "        else:\n",
    "            raise StopIteration\n",
    "            \n",
    "        "
   ]
  },
  {
   "cell_type": "code",
   "execution_count": 201,
   "metadata": {},
   "outputs": [],
   "source": [
    "obj = Iter2()"
   ]
  },
  {
   "cell_type": "code",
   "execution_count": 202,
   "metadata": {},
   "outputs": [
    {
     "name": "stdout",
     "output_type": "stream",
     "text": [
      "1\n",
      "2\n",
      "3\n",
      "4\n",
      "5\n"
     ]
    }
   ],
   "source": [
    "for i in obj:\n",
    "    print(i)"
   ]
  },
  {
   "cell_type": "code",
   "execution_count": 203,
   "metadata": {},
   "outputs": [],
   "source": [
    "'''\n",
    "Класс строитель который на вход принимает словар, а возращает объект с ключами-атрибутами\n",
    "'''\n",
    "class Builder():\n",
    "    \n",
    "    def __init__(self, d):\n",
    "        for key, value in d.items():\n",
    "            setattr(self, key, value)\n",
    "            "
   ]
  },
  {
   "cell_type": "code",
   "execution_count": 204,
   "metadata": {},
   "outputs": [],
   "source": [
    "bob = Builder({'name': 'Bob', 'age': 23})"
   ]
  },
  {
   "cell_type": "code",
   "execution_count": 205,
   "metadata": {},
   "outputs": [
    {
     "name": "stdout",
     "output_type": "stream",
     "text": [
      "Bob 23\n"
     ]
    }
   ],
   "source": [
    "print(bob.name, bob.age)"
   ]
  },
  {
   "cell_type": "code",
   "execution_count": 207,
   "metadata": {},
   "outputs": [
    {
     "name": "stdout",
     "output_type": "stream",
     "text": [
      "Ошибка\n"
     ]
    }
   ],
   "source": [
    "'''\n",
    "Создаем свои классы с исключениями\n",
    "'''\n",
    "\n",
    "class ShotWordError(Exception):\n",
    "    \n",
    "    def __init__(self, length):\n",
    "        super().__init__(self)\n",
    "        self.length = length\n",
    "        \n",
    "    def __str__(self):\n",
    "        return f'ShotWordExeption: Слово слишком короткое, длинна строки {self.length} должно быть как минимум 3'\n",
    "        \n",
    "def chek_length(word):\n",
    "    if len(word) < 3:\n",
    "        raise ShotWordError(len(word))\n",
    "        \n",
    "\n",
    "try:\n",
    "    chek_length('ok')\n",
    "except ShotWordError:\n",
    "    print('Ошибка')\n",
    "    "
   ]
  },
  {
   "cell_type": "code",
   "execution_count": 208,
   "metadata": {},
   "outputs": [
    {
     "ename": "ShotWordError",
     "evalue": "ShotWordExeption: Слово слишком короткое, длинна строки 2 должно быть как минимум 3",
     "output_type": "error",
     "traceback": [
      "\u001b[0;31m---------------------------------------------------------------------------\u001b[0m",
      "\u001b[0;31mShotWordError\u001b[0m                             Traceback (most recent call last)",
      "\u001b[0;32m<ipython-input-208-175bd42dfca6>\u001b[0m in \u001b[0;36m<module>\u001b[0;34m\u001b[0m\n\u001b[0;32m----> 1\u001b[0;31m \u001b[0mchek_length\u001b[0m\u001b[0;34m(\u001b[0m\u001b[0;34m'ok'\u001b[0m\u001b[0;34m)\u001b[0m\u001b[0;34m\u001b[0m\u001b[0;34m\u001b[0m\u001b[0m\n\u001b[0m",
      "\u001b[0;32m<ipython-input-207-4b979c8755c1>\u001b[0m in \u001b[0;36mchek_length\u001b[0;34m(word)\u001b[0m\n\u001b[1;32m     14\u001b[0m \u001b[0;32mdef\u001b[0m \u001b[0mchek_length\u001b[0m\u001b[0;34m(\u001b[0m\u001b[0mword\u001b[0m\u001b[0;34m)\u001b[0m\u001b[0;34m:\u001b[0m\u001b[0;34m\u001b[0m\u001b[0;34m\u001b[0m\u001b[0m\n\u001b[1;32m     15\u001b[0m     \u001b[0;32mif\u001b[0m \u001b[0mlen\u001b[0m\u001b[0;34m(\u001b[0m\u001b[0mword\u001b[0m\u001b[0;34m)\u001b[0m \u001b[0;34m<\u001b[0m \u001b[0;36m3\u001b[0m\u001b[0;34m:\u001b[0m\u001b[0;34m\u001b[0m\u001b[0;34m\u001b[0m\u001b[0m\n\u001b[0;32m---> 16\u001b[0;31m         \u001b[0;32mraise\u001b[0m \u001b[0mShotWordError\u001b[0m\u001b[0;34m(\u001b[0m\u001b[0mlen\u001b[0m\u001b[0;34m(\u001b[0m\u001b[0mword\u001b[0m\u001b[0;34m)\u001b[0m\u001b[0;34m)\u001b[0m\u001b[0;34m\u001b[0m\u001b[0;34m\u001b[0m\u001b[0m\n\u001b[0m\u001b[1;32m     17\u001b[0m \u001b[0;34m\u001b[0m\u001b[0m\n\u001b[1;32m     18\u001b[0m \u001b[0;34m\u001b[0m\u001b[0m\n",
      "\u001b[0;31mShotWordError\u001b[0m: ShotWordExeption: Слово слишком короткое, длинна строки 2 должно быть как минимум 3"
     ]
    }
   ],
   "source": [
    "chek_length('ok')"
   ]
  },
  {
   "cell_type": "markdown",
   "metadata": {},
   "source": [
    "### Рекурсия ###\n",
    "Рекурсия - функция вызывающая сама себя  \n",
    "Базовый случай - это когда функция перестает вызываться и возвращает нужное значение  \n",
    "Шаг рекурсии = > условие для выполнения шага"
   ]
  },
  {
   "cell_type": "code",
   "execution_count": 235,
   "metadata": {},
   "outputs": [],
   "source": [
    "def func(a, b):\n",
    "    '''\n",
    "    >>> func(2, 5):\n",
    "    '2, 3, 4, 5'\n",
    "    '''\n",
    "    if a == b:\n",
    "        return f'{a}'\n",
    "    \n",
    "    if a > b:\n",
    "        return f'{a}, {func(a - 1, b)}'\n",
    "    else:\n",
    "        return f'{a}, {func(a + 1, b)}'\n"
   ]
  },
  {
   "cell_type": "code",
   "execution_count": 236,
   "metadata": {},
   "outputs": [
    {
     "data": {
      "text/plain": [
       "'9, 8, 7, 6, 5, 4'"
      ]
     },
     "execution_count": 236,
     "metadata": {},
     "output_type": "execute_result"
    }
   ],
   "source": [
    "func(9, 4)"
   ]
  },
  {
   "cell_type": "markdown",
   "metadata": {},
   "source": [
    "### ПАМЯТЬ ###\n",
    "Когда делаем что то типа a = 'первая строка' + 'вторая строка'  \n",
    "То в памяти резирвируется место под новый объект, туда копируется содержимое первой строки, потом второй,  \n",
    "и далее устанавливается ссылка в переменной на этот новый объект"
   ]
  },
  {
   "cell_type": "code",
   "execution_count": 237,
   "metadata": {},
   "outputs": [
    {
     "name": "stdout",
     "output_type": "stream",
     "text": [
      "[1, 2, 3, 4, 5] [1, 2, 3]\n"
     ]
    }
   ],
   "source": [
    "# ссылочная структура, но тут ссылка на массив 1, 2, 3 осталась в b\n",
    "a = [1, 2, 3]\n",
    "b = a\n",
    "a = a + [4, 5]\n",
    "print(a, b)\n"
   ]
  },
  {
   "cell_type": "code",
   "execution_count": 238,
   "metadata": {},
   "outputs": [
    {
     "name": "stdout",
     "output_type": "stream",
     "text": [
      "[1, 2, 3, 4, 5] [1, 2, 3, 4, 5]\n"
     ]
    }
   ],
   "source": [
    "# операция += аналогична extend и мы просим добавить к объекту новые элементы\n",
    "a = [1, 2, 3]\n",
    "b = a\n",
    "a += [4, 5]\n",
    "# a.extend(4, 5)\n",
    "print(a, b)"
   ]
  },
  {
   "cell_type": "code",
   "execution_count": 239,
   "metadata": {},
   "outputs": [
    {
     "name": "stdout",
     "output_type": "stream",
     "text": [
      "[[' ', ' ', ' '], [' ', ' ', ' '], [' ', ' ', ' ']]\n",
      "[['X', ' ', ' '], ['X', ' ', ' '], ['X', ' ', ' ']]\n"
     ]
    },
    {
     "data": {
      "text/plain": [
       "\"\\nПаврильно создавать такие матрицы при помощи генератора скиска [[' '] * 3 for _ in range(3)]\\n\""
      ]
     },
     "execution_count": 239,
     "metadata": {},
     "output_type": "execute_result"
    }
   ],
   "source": [
    "row = [' '] * 3\n",
    "board = [row] * 3\n",
    "print(board)\n",
    "board[0][0] = 'X'\n",
    "print(board)\n",
    "'''\n",
    "Паврильно создавать такие матрицы при помощи генератора скиска [[' '] * 3 for _ in range(3)]\n",
    "'''"
   ]
  },
  {
   "cell_type": "markdown",
   "metadata": {},
   "source": [
    "### Генератор ###"
   ]
  },
  {
   "cell_type": "code",
   "execution_count": 240,
   "metadata": {},
   "outputs": [
    {
     "name": "stdout",
     "output_type": "stream",
     "text": [
      "<generator object gen at 0x7fd174349990>\n"
     ]
    }
   ],
   "source": [
    "'''\n",
    "Генератор это функция (с yeild)\n",
    "Итератор - это объект у которого есть метод __next__\n",
    "'''\n",
    "def gen(a, b):\n",
    "    for i in range(a, b - a):\n",
    "        yield i\n",
    "\n",
    "print(gen(1, 5))\n",
    "        "
   ]
  },
  {
   "cell_type": "code",
   "execution_count": 94,
   "metadata": {},
   "outputs": [
    {
     "data": {
      "text/plain": [
       "inf"
      ]
     },
     "execution_count": 94,
     "metadata": {},
     "output_type": "execute_result"
    }
   ],
   "source": [
    "# Пример макисмлаьно большого числа\n",
    "float('inf') \n"
   ]
  },
  {
   "cell_type": "code",
   "execution_count": 95,
   "metadata": {},
   "outputs": [
    {
     "data": {
      "text/plain": [
       "'\\nОценка сложности алгоритма\\nO(n) - линейная\\nO(n**2) - квадратичная (парабола)\\nO(log(n)) - логарифмическая  БИНАРНЫЙ ПОИСК\\nO(n!) === O(2**n) - О от n факториал  задача о рюкзаке например.. связанная с перебором всех вариантов\\n'"
      ]
     },
     "execution_count": 95,
     "metadata": {},
     "output_type": "execute_result"
    }
   ],
   "source": [
    "'''\n",
    "Оценка сложности алгоритма\n",
    "O(n) - линейная\n",
    "O(n**2) - квадратичная (парабола)\n",
    "O(log(n)) - логарифмическая  БИНАРНЫЙ ПОИСК\n",
    "O(n!) === O(2**n) - О от n факториал  задача о рюкзаке например.. связанная с перебором всех вариантов\n",
    "'''"
   ]
  },
  {
   "cell_type": "code",
   "execution_count": 243,
   "metadata": {},
   "outputs": [
    {
     "name": "stdout",
     "output_type": "stream",
     "text": [
      "Генератор 6.258899520616978e-05 6.487241982991691\n",
      "List 4.798658056999557 6.48596107699268\n",
      "Set 7.721603452999261 7.798524554993492\n"
     ]
    }
   ],
   "source": [
    "import timeit\n",
    "# Пример генератора, и ифами\n",
    "b = [i for i in range(100) if i % 2 == 0]\n",
    "gena = (i for i in range(1000000))\n",
    "list_ = [i for i in range(1000000)]\n",
    "set_ = {i for i in range(1000000)}\n",
    "\n",
    "# Пример замера времени\n",
    "print('Генератор',timeit.timeit('(i for i in range(1000000))', number=100), timeit.timeit('999999 in (i for i in range(1000000))', number=100)) \n",
    "print('List', timeit.timeit('[i for i in range(1000000)]', number=100), timeit.timeit('999999 in [i for i in range(1000000)]', number=100)) \n",
    "print('Set', timeit.timeit('{i for i in range(1000000)}', number=100), timeit.timeit('999999 in {i for i in range(1000000)}', number=100)) "
   ]
  },
  {
   "cell_type": "code",
   "execution_count": 245,
   "metadata": {},
   "outputs": [
    {
     "name": "stdout",
     "output_type": "stream",
     "text": [
      "         100009 function calls in 1.249 seconds\n",
      "\n",
      "   Ordered by: standard name\n",
      "\n",
      "   ncalls  tottime  percall  cumtime  percall filename:lineno(function)\n",
      "        1    0.000    0.000    0.000    0.000 <ipython-input-245-8a9f5f74a614>:12(pop_list)\n",
      "        1    0.000    0.000    1.249    1.249 <ipython-input-245-8a9f5f74a614>:16(main)\n",
      "        1    0.000    0.000    0.006    0.006 <ipython-input-245-8a9f5f74a614>:4(gen_list)\n",
      "        1    0.006    0.006    0.006    0.006 <ipython-input-245-8a9f5f74a614>:5(<listcomp>)\n",
      "        1    0.028    0.028    1.243    1.243 <ipython-input-245-8a9f5f74a614>:8(remove_list)\n",
      "        1    0.000    0.000    1.249    1.249 <string>:1(<module>)\n",
      "        1    0.000    0.000    1.249    1.249 {built-in method builtins.exec}\n",
      "        1    0.000    0.000    0.000    0.000 {built-in method builtins.len}\n",
      "        1    0.000    0.000    0.000    0.000 {method 'disable' of '_lsprof.Profiler' objects}\n",
      "   100000    1.215    0.000    1.215    0.000 {method 'remove' of 'list' objects}\n",
      "\n",
      "\n"
     ]
    }
   ],
   "source": [
    "# Еще один способ замеров времени работы кода\n",
    "import cProfile\n",
    "\n",
    "def gen_list(n):\n",
    "    l = [i for i in range(n)]\n",
    "    return l\n",
    "\n",
    "def remove_list(n):\n",
    "    for i in n[:]:\n",
    "        n.remove(i)\n",
    "\n",
    "def pop_list(n):\n",
    "    while len(n) > 0:\n",
    "        n.pop()\n",
    "  \n",
    "def main(n):\n",
    "    l = gen_list(n)\n",
    "    remove_list(l)\n",
    "    pop_list(l)\n",
    "    \n",
    "cProfile.run('main(100000)') "
   ]
  },
  {
   "cell_type": "code",
   "execution_count": 219,
   "metadata": {},
   "outputs": [
    {
     "data": {
      "text/plain": [
       "139837823762752"
      ]
     },
     "execution_count": 219,
     "metadata": {},
     "output_type": "execute_result"
    }
   ],
   "source": [
    "'''\n",
    "Есть счетчик ссылок на область памяти.\n",
    "Если ссылок на облатсь нет, то объект удалчется из памяти сборщиком мусора.\n",
    "\n",
    "можно заранее зарезервировать по список память, чтобы потом не тратилось время на выделение\n",
    "a = [None] * 1000\n",
    "'''\n",
    "a = 100\n",
    "id(a)\n"
   ]
  },
  {
   "cell_type": "code",
   "execution_count": 220,
   "metadata": {},
   "outputs": [
    {
     "data": {
      "text/plain": [
       "139837823762752"
      ]
     },
     "execution_count": 220,
     "metadata": {},
     "output_type": "execute_result"
    }
   ],
   "source": [
    "b = 125- 25\n",
    "id(b)"
   ]
  },
  {
   "cell_type": "code",
   "execution_count": 14,
   "metadata": {},
   "outputs": [
    {
     "name": "stdout",
     "output_type": "stream",
     "text": [
      "140659844195504\n",
      "140659844195952\n"
     ]
    }
   ],
   "source": [
    "'''\n",
    "числа от -5 до 256 хранятся в памяти заранее.. и соответсвенно ссылки на них одинаовые\n",
    "'''\n",
    "c = 257\n",
    "print(id(c))\n",
    "d = 260 - 3\n",
    "print(id(d))"
   ]
  },
  {
   "cell_type": "code",
   "execution_count": 246,
   "metadata": {},
   "outputs": [
    {
     "data": {
      "text/plain": [
       "28"
      ]
     },
     "execution_count": 246,
     "metadata": {},
     "output_type": "execute_result"
    }
   ],
   "source": [
    "'''\n",
    "Место в памяти\n",
    "1000000000000000000\n",
    "36 байт\n",
    "1000 000 000\n",
    "28 байт\n",
    "'''\n",
    "import sys\n",
    "\n",
    "sys.getsizeof(1000000000)"
   ]
  },
  {
   "cell_type": "code",
   "execution_count": 247,
   "metadata": {},
   "outputs": [
    {
     "data": {
      "text/plain": [
       "50"
      ]
     },
     "execution_count": 247,
     "metadata": {},
     "output_type": "execute_result"
    }
   ],
   "source": [
    "sys.getsizeof('a')"
   ]
  },
  {
   "cell_type": "code",
   "execution_count": 2,
   "metadata": {
    "scrolled": true
   },
   "outputs": [
    {
     "name": "stdout",
     "output_type": "stream",
     "text": [
      " type = <class 'list'>, size = 192, obj = [0, 1, 2, 3, 4, 5, 6, 7, 8, 9]\n",
      "\t type = <class 'int'>, size = 24, obj = 0\n",
      "\t type = <class 'int'>, size = 28, obj = 1\n",
      "\t type = <class 'int'>, size = 28, obj = 2\n",
      "\t type = <class 'int'>, size = 28, obj = 3\n",
      "\t type = <class 'int'>, size = 28, obj = 4\n",
      "\t type = <class 'int'>, size = 28, obj = 5\n",
      "\t type = <class 'int'>, size = 28, obj = 6\n",
      "\t type = <class 'int'>, size = 28, obj = 7\n",
      "\t type = <class 'int'>, size = 28, obj = 8\n",
      "\t type = <class 'int'>, size = 28, obj = 9\n",
      "None\n",
      " type = <class 'generator'>, size = 88, obj = <generator object <genexpr> at 0x7fef044cbba0>\n",
      "\t type = <class 'int'>, size = 24, obj = 0\n",
      "\t type = <class 'int'>, size = 28, obj = 1\n",
      "\t type = <class 'int'>, size = 28, obj = 2\n",
      "\t type = <class 'int'>, size = 28, obj = 3\n",
      "\t type = <class 'int'>, size = 28, obj = 4\n",
      "\t type = <class 'int'>, size = 28, obj = 5\n",
      "\t type = <class 'int'>, size = 28, obj = 6\n",
      "\t type = <class 'int'>, size = 28, obj = 7\n",
      "\t type = <class 'int'>, size = 28, obj = 8\n",
      "\t type = <class 'int'>, size = 28, obj = 9\n",
      "None\n"
     ]
    }
   ],
   "source": [
    "import sys\n",
    "\n",
    "\n",
    "def show_size(x, level=0):\n",
    "    print('\\t' * level, f'type = {type(x)}, size = {sys.getsizeof(x)}, obj = {x}')\n",
    "\n",
    "    if hasattr(x, '__iter__'):\n",
    "\n",
    "        if hasattr(x, 'items'):\n",
    "\n",
    "            for key, value in x.items():\n",
    "                show_size(key, level + 1)\n",
    "                show_size(value, level + 1)\n",
    "\n",
    "        elif not isinstance(x, str):\n",
    "\n",
    "            for item in x:\n",
    "                show_size(item, level + 1)\n",
    "\n",
    "\n",
    "\n",
    "\n",
    "\n",
    "a = [i for i in range(10)] \n",
    "b = (i for i in range(10))\n",
    "print(show_size(a))\n",
    "print(show_size(b))"
   ]
  },
  {
   "cell_type": "markdown",
   "metadata": {},
   "source": [
    "## Функцию можно удалить , но если на нее ссылается переменная, то она все равно будет доступна ##"
   ]
  },
  {
   "cell_type": "code",
   "execution_count": 5,
   "metadata": {},
   "outputs": [
    {
     "name": "stdout",
     "output_type": "stream",
     "text": [
      "Да!\n",
      "Да!\n",
      "name 'shout' is not defined\n",
      "Да!\n"
     ]
    }
   ],
   "source": [
    "def shout(word=\"да\"):\n",
    "    return word.capitalize()+\"!\"\n",
    " \n",
    "print(shout())\n",
    "# Так как функция - это объект, вы связать её с переменнной,\n",
    "# как и любой другой объект\n",
    "scream = shout\n",
    " \n",
    "# Заметьте, что мы не используем скобок: мы НЕ вызываем функцию \"shout\",\n",
    "# мы связываем её с переменной \"scream\". Это означает, что теперь мы\n",
    "# можем вызывать \"shout\" через \"scream\":\n",
    " \n",
    "print(scream())\n",
    "# выведет: 'Да!'\n",
    "\n",
    "# Более того, это значит, что мы можем удалить \"shout\", и функция всё ещё\n",
    "# будет доступна через переменную \"scream\"\n",
    " \n",
    "del shout\n",
    "try:\n",
    "    print(shout())\n",
    "except NameError as e:\n",
    "    print(e)\n",
    "    #выведет: \"name 'shout' is not defined\"\n",
    " \n",
    "print(scream())"
   ]
  },
  {
   "cell_type": "markdown",
   "metadata": {},
   "source": [
    "## Внешний декоратор написанный для метода ##"
   ]
  },
  {
   "cell_type": "code",
   "execution_count": 8,
   "metadata": {},
   "outputs": [
    {
     "name": "stdout",
     "output_type": "stream",
     "text": [
      "Мне 26, а ты бы сколько дал?\n"
     ]
    }
   ],
   "source": [
    "def method_friendly_decorator(method_to_decorate):\n",
    "    def wrapper(self, lie):\n",
    "        lie = lie - 3 # действительно, дружелюбно - снизим возраст ещё сильней :-)\n",
    "        return method_to_decorate(self, lie)\n",
    "    return wrapper\n",
    " \n",
    " \n",
    "class Lucy(object):\n",
    " \n",
    "    def __init__(self):\n",
    "        self.age = 32\n",
    " \n",
    "    @method_friendly_decorator\n",
    "    def sayYourAge(self, lie):\n",
    "        print(f\"Мне {self.age + lie}, а ты бы сколько дал?\")\n",
    " \n",
    "l = Lucy()\n",
    "l.sayYourAge(-3)"
   ]
  },
  {
   "cell_type": "code",
   "execution_count": 248,
   "metadata": {},
   "outputs": [
    {
     "name": "stdout",
     "output_type": "stream",
     "text": [
      "Счетчик вызова: [1]\n",
      "2019-08-29 10:14:45.022442: стартовала функция test_func, с агрументами (0,)\n",
      "2019-08-29 10:14:45.022654: закончила работу test_func\n",
      "Время выполнения 0:00:00.000212\n",
      "0\n",
      "\n",
      "\n",
      "Счетчик вызова: [2]\n",
      "2019-08-29 10:14:45.022939: стартовала функция test_func, с агрументами (1,)\n",
      "2019-08-29 10:14:45.023029: закончила работу test_func\n",
      "Время выполнения 0:00:00.000090\n",
      "1\n",
      "\n",
      "\n",
      "Счетчик вызова: [3]\n",
      "2019-08-29 10:14:45.023162: стартовала функция test_func, с агрументами (2,)\n",
      "2019-08-29 10:14:45.023234: закончила работу test_func\n",
      "Время выполнения 0:00:00.000072\n",
      "4\n",
      "\n",
      "\n",
      "Счетчик вызова: [4]\n",
      "2019-08-29 10:14:45.023403: стартовала функция test_func, с агрументами (3,)\n",
      "2019-08-29 10:14:45.023476: закончила работу test_func\n",
      "Время выполнения 0:00:00.000073\n",
      "9\n",
      "\n",
      "\n",
      "Счетчик вызова: [5]\n",
      "2019-08-29 10:14:45.023604: стартовала функция test_func, с агрументами (4,)\n",
      "2019-08-29 10:14:45.023907: закончила работу test_func\n",
      "Время выполнения 0:00:00.000303\n",
      "16\n",
      "\n",
      "\n"
     ]
    }
   ],
   "source": [
    "'''\n",
    "Декоратор + lambda\n",
    "\n",
    "'''\n",
    "from datetime import datetime\n",
    "\n",
    "\n",
    "def decorator(func):\n",
    "    counter = [0]  # с переменной не будет работать\n",
    "    def wrapper(*args, **kwargs):\n",
    "        start = datetime.now()\n",
    "        counter[0] += 1\n",
    "        print(f'Счетчик вызова: {counter}')\n",
    "        print(f'{start}: стартовала функция {func.__name__}, с агрументами {args}')\n",
    "        result = func(*args, **kwargs)\n",
    "        finish = datetime.now()\n",
    "        print(f'{finish}: закончила работу {func.__name__}')\n",
    "        print(f'Время выполнения {finish - start}')\n",
    "        return result\n",
    "    return wrapper\n",
    "\n",
    "@decorator\n",
    "def test_func(x):\n",
    "    return x ** 2\n",
    "\n",
    "for i in range(5):\n",
    "    print(test_func(i))\n",
    "    print('\\n')\n",
    "\n"
   ]
  },
  {
   "cell_type": "code",
   "execution_count": 249,
   "metadata": {},
   "outputs": [
    {
     "name": "stdout",
     "output_type": "stream",
     "text": [
      "Счетчик вызова: [1]\n",
      "2019-08-29 10:15:34.597754: стартовала функция <lambda>, с агрументами (0,)\n",
      "2019-08-29 10:15:34.597930: закончила работу <lambda>\n",
      "Время выполнения 0:00:00.000176\n",
      "0\n",
      "Счетчик вызова: [1]\n",
      "2019-08-29 10:15:34.598012: стартовала функция <lambda>, с агрументами (1,)\n",
      "2019-08-29 10:15:34.598066: закончила работу <lambda>\n",
      "Время выполнения 0:00:00.000054\n",
      "1\n",
      "Счетчик вызова: [1]\n",
      "2019-08-29 10:15:34.598139: стартовала функция <lambda>, с агрументами (2,)\n",
      "2019-08-29 10:15:34.598190: закончила работу <lambda>\n",
      "Время выполнения 0:00:00.000051\n",
      "4\n",
      "Счетчик вызова: [1]\n",
      "2019-08-29 10:15:34.598263: стартовала функция <lambda>, с агрументами (3,)\n",
      "2019-08-29 10:15:34.598354: закончила работу <lambda>\n",
      "Время выполнения 0:00:00.000091\n",
      "9\n"
     ]
    }
   ],
   "source": [
    "a = lambda x: x ** 2\n",
    "for i in range(4):\n",
    "    print(decorator(lambda x: x ** 2)(i))\n",
    "# cчетчик при таком вызове работать не будет"
   ]
  },
  {
   "cell_type": "code",
   "execution_count": 250,
   "metadata": {},
   "outputs": [
    {
     "name": "stdout",
     "output_type": "stream",
     "text": [
      "Счетчик вызова: [1]\n",
      "2019-08-29 10:15:48.086915: стартовала функция <lambda>, с агрументами (0,)\n",
      "2019-08-29 10:15:48.087564: закончила работу <lambda>\n",
      "Время выполнения 0:00:00.000649\n",
      "Счетчик вызова: [2]\n",
      "2019-08-29 10:15:48.087695: стартовала функция <lambda>, с агрументами (1,)\n",
      "2019-08-29 10:15:48.087861: закончила работу <lambda>\n",
      "Время выполнения 0:00:00.000166\n",
      "Счетчик вызова: [3]\n",
      "2019-08-29 10:15:48.087944: стартовала функция <lambda>, с агрументами (2,)\n",
      "2019-08-29 10:15:48.088019: закончила работу <lambda>\n",
      "Время выполнения 0:00:00.000075\n"
     ]
    },
    {
     "data": {
      "text/plain": [
       "[0, 2, 4]"
      ]
     },
     "execution_count": 250,
     "metadata": {},
     "output_type": "execute_result"
    }
   ],
   "source": [
    "list(map(decorator(lambda x: x * 2), range(3)))"
   ]
  },
  {
   "cell_type": "markdown",
   "metadata": {},
   "source": [
    "## To write decorator with args ##"
   ]
  },
  {
   "cell_type": "code",
   "execution_count": 251,
   "metadata": {},
   "outputs": [
    {
     "name": "stdout",
     "output_type": "stream",
     "text": [
      "I am sleep\n",
      "Bob => 5\n",
      "5\n"
     ]
    }
   ],
   "source": [
    "import time\n",
    "\n",
    "def decorator_with_args(*args, **kwargs):\n",
    "    \n",
    "    def first_wrapper(func):\n",
    "        if kwargs.get('time'):\n",
    "            print('I am sleep')\n",
    "            time.sleep(1)\n",
    "        if kwargs.get('bob'):\n",
    "            print(f'Bob => {kwargs.get(\"bob\")}')\n",
    "        \n",
    "        def wrapper(*args, **kwargs):\n",
    "            \n",
    "            return func(*args, **kwargs)\n",
    "        \n",
    "        return wrapper\n",
    "    \n",
    "    return first_wrapper\n",
    "\n",
    "@decorator_with_args(time=True, bob=5)\n",
    "def simple_func(a, b):\n",
    "    return a + b\n",
    "\n",
    "print(simple_func(2, 3))"
   ]
  },
  {
   "cell_type": "code",
   "execution_count": 253,
   "metadata": {},
   "outputs": [],
   "source": [
    "class DecoratorClass:\n",
    "    \"\"\"\n",
    "    Пример декоратора, который считает число вызовов и время\n",
    "    \"\"\"\n",
    "    def __init__(self, func, counter=0):\n",
    "        from datetime import datetime\n",
    "        print('Инициализация декоратора')\n",
    "        self.func = func\n",
    "        self.counter = counter\n",
    "        \n",
    "    def __call__(self, *args, **kwargs):\n",
    "        start = datetime.now()\n",
    "        print(f'{start}: Стартует вызов {self.func.__name__}')\n",
    "        self.counter += 1\n",
    "        print(f'Счетчик {self.counter}')\n",
    "        result = self.func(*args, **kwargs)\n",
    "        print(f'{datetime.now()}: Вызов функции закончился, время выполнения{datetime.now() - start}')\n",
    "        return result\n",
    "        "
   ]
  },
  {
   "cell_type": "code",
   "execution_count": 254,
   "metadata": {},
   "outputs": [
    {
     "name": "stdout",
     "output_type": "stream",
     "text": [
      "Инициализация декоратора\n",
      "2019-08-29 10:17:55.347667: Стартует вызов my_func\n",
      "Счетчик 1\n",
      "2019-08-29 10:17:56.348347: Вызов функции закончился, время выполнения0:00:01.000717\n",
      "5\n",
      "2019-08-29 10:17:56.348557: Стартует вызов my_func\n",
      "Счетчик 2\n",
      "2019-08-29 10:17:57.349413: Вызов функции закончился, время выполнения0:00:01.000920\n",
      "6\n",
      "2019-08-29 10:17:57.350000: Стартует вызов my_func\n",
      "Счетчик 3\n",
      "2019-08-29 10:17:58.351449: Вызов функции закончился, время выполнения0:00:01.001534\n",
      "7\n",
      "2019-08-29 10:17:58.353233: Стартует вызов my_func\n",
      "Счетчик 4\n",
      "2019-08-29 10:17:59.354515: Вызов функции закончился, время выполнения0:00:01.001346\n",
      "8\n",
      "2019-08-29 10:17:59.355126: Стартует вызов my_func\n",
      "Счетчик 5\n",
      "2019-08-29 10:18:00.356475: Вызов функции закончился, время выполнения0:00:01.001495\n",
      "9\n"
     ]
    }
   ],
   "source": [
    "@DecoratorClass\n",
    "def my_func(a, b):\n",
    "    import time\n",
    "    time.sleep(1)\n",
    "    return a + b\n",
    "\n",
    "for i in range(5):\n",
    "    print(my_func(i, 5))"
   ]
  },
  {
   "cell_type": "code",
   "execution_count": 255,
   "metadata": {},
   "outputs": [
    {
     "name": "stdout",
     "output_type": "stream",
     "text": [
      "x=5, y=4, z=9\n",
      "18\n"
     ]
    }
   ],
   "source": [
    "'''\n",
    "Вот такая еще питрушка возможна с вызовом функции внутри другой функции\n",
    "'''\n",
    "\n",
    "def outer(x):\n",
    "    y = 4\n",
    "    def inner(z):\n",
    "#         y = y + 1  не работает\n",
    "        print(f'x={x}, y={y}, z={z}')\n",
    "        return x + y + z\n",
    "    return inner\n",
    "\n",
    "print(outer(5)(9))"
   ]
  },
  {
   "cell_type": "code",
   "execution_count": 256,
   "metadata": {},
   "outputs": [
    {
     "name": "stdout",
     "output_type": "stream",
     "text": [
      "26\n",
      "27\n",
      "28\n"
     ]
    }
   ],
   "source": [
    "class Shark:\n",
    "    a_var = 3\n",
    "    b_var = 5\n",
    "    \n",
    "    def __init__(self, name, age):\n",
    "        self.name = name\n",
    "        self.age = age\n",
    "        \n",
    "    @property\n",
    "    def how_many_year(self):\n",
    "        self.age += 1\n",
    "        return self.age\n",
    "\n",
    "s = Shark('Bob', 25)\n",
    "print(s.how_many_year)\n",
    "print(s.how_many_year)\n",
    "print(s.how_many_year)"
   ]
  },
  {
   "cell_type": "code",
   "execution_count": 257,
   "metadata": {},
   "outputs": [
    {
     "name": "stdout",
     "output_type": "stream",
     "text": [
      "75\n",
      "15\n",
      "8\n"
     ]
    }
   ],
   "source": [
    "class Shark:\n",
    "    a_var = 3\n",
    "    b_var = 5\n",
    "    \n",
    "    def __init__(self, name, age):\n",
    "        self.name = name\n",
    "        self.age = age\n",
    "        \n",
    "    def how_many_year(self):\n",
    "        return self.age * Shark.a_var\n",
    "    \n",
    "    @classmethod\n",
    "    def class_method(cls):\n",
    "        return cls.a_var * cls.b_var\n",
    "    \n",
    "    @staticmethod\n",
    "    def ststic(a, b):\n",
    "        return a + b\n",
    "\n",
    "s = Shark('Bob', 25)\n",
    "print(s.how_many_year())\n",
    "print(Shark.class_method())\n",
    "print(Shark.ststic(3, 5))"
   ]
  },
  {
   "cell_type": "code",
   "execution_count": 45,
   "metadata": {},
   "outputs": [
    {
     "name": "stdout",
     "output_type": "stream",
     "text": [
      "{'name': 'Piter', 'age': 23, 'is_young': 'Старый'}\n",
      "Kolya\n",
      "{'name': 'Kolya', 'age': 23, 'is_young': 'Старый'}\n"
     ]
    }
   ],
   "source": [
    "'''\n",
    "__dict__\n",
    "Атрибуты объекта можно условно разделить две группы: \n",
    "определённые python-ом (такие как __class__, __bases__) \n",
    "и определённые пользователем, о них я как раз собираюсь рассказать. \n",
    "__dict__ согласно этой классификации, относится к “системным” (определённым python-ом) атрибутам. \n",
    "Его задача — хранить пользовательские атрибуты. Он представляет собой dictionary, в котором ключом \n",
    "является имя_атрибута, значением, соответственно, значение_атрибута\n",
    "'''\n",
    "\n",
    "class SomeClass():\n",
    "    \n",
    "    def __init__(self, name, age):\n",
    "        self.name = name\n",
    "        self.age = age\n",
    "        self.is_young = self._chek_age()\n",
    "\n",
    "    def _chek_age(self):\n",
    "        if self.age < 18:\n",
    "            return 'Молодой'\n",
    "        else:\n",
    "            return 'Старый'\n",
    "\n",
    "\n",
    "piter = SomeClass('Piter', 23)\n",
    "\n",
    "print(piter.__dict__)\n",
    "piter.__dict__['name'] = 'Kolya'\n",
    "print(piter.name)\n",
    "print(piter.__dict__)"
   ]
  },
  {
   "cell_type": "code",
   "execution_count": 261,
   "metadata": {},
   "outputs": [
    {
     "data": {
      "text/plain": [
       "{'name': 'test', 'age': 'test'}"
      ]
     },
     "execution_count": 261,
     "metadata": {},
     "output_type": "execute_result"
    }
   ],
   "source": [
    "a = ('name', 'age')\n",
    "dict.fromkeys(a, 'test')"
   ]
  },
  {
   "cell_type": "code",
   "execution_count": 262,
   "metadata": {},
   "outputs": [
    {
     "data": {
      "text/plain": [
       "'\\nsetattr(obj, name, value)\\nobj : object Объект, который следует дополнить атрибутом.\\nname : str Строка с именем атрибута. Можно указывать как имя нового, так и существующего атрибута.\\nvalue : Произвольное значение атрибута.\\n\\nАтрибут объекта (свойство, метод, элемент) будет добавлен в случае, если объект разрешает/поддерживает это действие.\\nМетод зачастую используется в случаях, когда имя атрибута и/или значение заранее неизвестно и \\nсодержится в переменной. \\n\\nДля возвращения атрибута используется getattr().\\nДля удаления атрибута используется delattr().\\nДля проверки существования атрибута используется hasattr().\\n'"
      ]
     },
     "execution_count": 262,
     "metadata": {},
     "output_type": "execute_result"
    }
   ],
   "source": [
    "'''\n",
    "setattr(obj, name, value)\n",
    "obj : object Объект, который следует дополнить атрибутом.\n",
    "name : str Строка с именем атрибута. Можно указывать как имя нового, так и существующего атрибута.\n",
    "value : Произвольное значение атрибута.\n",
    "\n",
    "Атрибут объекта (свойство, метод, элемент) будет добавлен в случае, если объект разрешает/поддерживает это действие.\n",
    "Метод зачастую используется в случаях, когда имя атрибута и/или значение заранее неизвестно и \n",
    "содержится в переменной. \n",
    "\n",
    "Для возвращения атрибута используется getattr().\n",
    "Для удаления атрибута используется delattr().\n",
    "Для проверки существования атрибута используется hasattr().\n",
    "'''\n",
    "\n"
   ]
  },
  {
   "cell_type": "code",
   "execution_count": 263,
   "metadata": {},
   "outputs": [
    {
     "name": "stdout",
     "output_type": "stream",
     "text": [
      "Mikle\n"
     ]
    }
   ],
   "source": [
    "class TestClass():\n",
    "    def test_method(self):\n",
    "        print('hello')\n",
    "\n",
    "a = TestClass()\n",
    "setattr(a, 'name', 'Mikle')\n",
    "print(a.name)"
   ]
  },
  {
   "cell_type": "code",
   "execution_count": 1,
   "metadata": {},
   "outputs": [
    {
     "data": {
      "text/plain": [
       "['__displayhook__',\n",
       " '__doc__',\n",
       " '__excepthook__',\n",
       " '__interactivehook__',\n",
       " '__loader__',\n",
       " '__name__',\n",
       " '__package__',\n",
       " '__spec__',\n",
       " '__stderr__',\n",
       " '__stdin__',\n",
       " '__stdout__',\n",
       " '_clear_type_cache',\n",
       " '_current_frames',\n",
       " '_debugmallocstats',\n",
       " '_getframe',\n",
       " '_git',\n",
       " '_home',\n",
       " '_xoptions',\n",
       " 'abiflags',\n",
       " 'api_version',\n",
       " 'argv',\n",
       " 'base_exec_prefix',\n",
       " 'base_prefix',\n",
       " 'builtin_module_names',\n",
       " 'byteorder',\n",
       " 'call_tracing',\n",
       " 'callstats',\n",
       " 'copyright',\n",
       " 'displayhook',\n",
       " 'dont_write_bytecode',\n",
       " 'exc_info',\n",
       " 'excepthook',\n",
       " 'exec_prefix',\n",
       " 'executable',\n",
       " 'exit',\n",
       " 'flags',\n",
       " 'float_info',\n",
       " 'float_repr_style',\n",
       " 'get_asyncgen_hooks',\n",
       " 'get_coroutine_wrapper',\n",
       " 'getallocatedblocks',\n",
       " 'getcheckinterval',\n",
       " 'getdefaultencoding',\n",
       " 'getdlopenflags',\n",
       " 'getfilesystemencodeerrors',\n",
       " 'getfilesystemencoding',\n",
       " 'getprofile',\n",
       " 'getrecursionlimit',\n",
       " 'getrefcount',\n",
       " 'getsizeof',\n",
       " 'getswitchinterval',\n",
       " 'gettrace',\n",
       " 'hash_info',\n",
       " 'hexversion',\n",
       " 'implementation',\n",
       " 'int_info',\n",
       " 'intern',\n",
       " 'is_finalizing',\n",
       " 'maxsize',\n",
       " 'maxunicode',\n",
       " 'meta_path',\n",
       " 'modules',\n",
       " 'path',\n",
       " 'path_hooks',\n",
       " 'path_importer_cache',\n",
       " 'platform',\n",
       " 'prefix',\n",
       " 'ps1',\n",
       " 'ps2',\n",
       " 'ps3',\n",
       " 'set_asyncgen_hooks',\n",
       " 'set_coroutine_wrapper',\n",
       " 'setcheckinterval',\n",
       " 'setdlopenflags',\n",
       " 'setprofile',\n",
       " 'setrecursionlimit',\n",
       " 'setswitchinterval',\n",
       " 'settrace',\n",
       " 'stderr',\n",
       " 'stdin',\n",
       " 'stdout',\n",
       " 'thread_info',\n",
       " 'version',\n",
       " 'version_info',\n",
       " 'warnoptions']"
      ]
     },
     "execution_count": 1,
     "metadata": {},
     "output_type": "execute_result"
    }
   ],
   "source": [
    "import sys\n",
    "'''\n",
    "Функция dir возвращает список атрибутов объекта..\n",
    "'''\n",
    "dir(sys)"
   ]
  },
  {
   "cell_type": "code",
   "execution_count": 2,
   "metadata": {},
   "outputs": [
    {
     "data": {
      "text/plain": [
       "['__class__',\n",
       " '__delattr__',\n",
       " '__dict__',\n",
       " '__dir__',\n",
       " '__doc__',\n",
       " '__eq__',\n",
       " '__format__',\n",
       " '__ge__',\n",
       " '__getattribute__',\n",
       " '__gt__',\n",
       " '__hash__',\n",
       " '__init__',\n",
       " '__init_subclass__',\n",
       " '__le__',\n",
       " '__lt__',\n",
       " '__module__',\n",
       " '__ne__',\n",
       " '__new__',\n",
       " '__reduce__',\n",
       " '__reduce_ex__',\n",
       " '__repr__',\n",
       " '__setattr__',\n",
       " '__sizeof__',\n",
       " '__str__',\n",
       " '__subclasshook__',\n",
       " '__weakref__']"
      ]
     },
     "execution_count": 2,
     "metadata": {},
     "output_type": "execute_result"
    }
   ],
   "source": [
    "class Bobik():\n",
    "    def __init__(self, name, age):\n",
    "        self.name = name\n",
    "        self.age = age\n",
    "        \n",
    "dir(Bobik)"
   ]
  },
  {
   "cell_type": "code",
   "execution_count": 4,
   "metadata": {},
   "outputs": [
    {
     "data": {
      "text/plain": [
       "['__class__',\n",
       " '__delattr__',\n",
       " '__dict__',\n",
       " '__dir__',\n",
       " '__doc__',\n",
       " '__eq__',\n",
       " '__format__',\n",
       " '__ge__',\n",
       " '__getattribute__',\n",
       " '__gt__',\n",
       " '__hash__',\n",
       " '__init__',\n",
       " '__init_subclass__',\n",
       " '__le__',\n",
       " '__lt__',\n",
       " '__module__',\n",
       " '__ne__',\n",
       " '__new__',\n",
       " '__reduce__',\n",
       " '__reduce_ex__',\n",
       " '__repr__',\n",
       " '__setattr__',\n",
       " '__sizeof__',\n",
       " '__str__',\n",
       " '__subclasshook__',\n",
       " '__weakref__',\n",
       " 'age',\n",
       " 'name']"
      ]
     },
     "execution_count": 4,
     "metadata": {},
     "output_type": "execute_result"
    }
   ],
   "source": [
    "b = Bobik('Bobik', 23)\n",
    "dir(b)"
   ]
  },
  {
   "cell_type": "code",
   "execution_count": 8,
   "metadata": {},
   "outputs": [
    {
     "name": "stdout",
     "output_type": "stream",
     "text": [
      "This module provides access to some objects used or maintained by the\n",
      "interpreter and to functions that interact strongly with the interpreter.\n",
      "\n",
      "Dynamic objects:\n",
      "\n",
      "argv -- command line arguments; argv[0] is the script pathname if known\n",
      "path -- module search path; path[0] is the script directory, else ''\n",
      "modules -- dictionary of loaded modules\n",
      "\n",
      "displayhook -- called to show results in an interactive session\n",
      "excepthook -- called to handle any uncaught exception other than SystemExit\n",
      "  To customize printing in an interactive session or to install a custom\n",
      "  top-level exception handler, assign other functions to replace these.\n",
      "\n",
      "stdin -- standard input file object; used by input()\n",
      "stdout -- standard output file object; used by print()\n",
      "stderr -- standard error object; used for error messages\n",
      "  By assigning other file objects (or objects that behave like files)\n",
      "  to these, it is possible to redirect all of the interpreter's I/O.\n",
      "\n",
      "last_type -- type of last uncaught exception\n",
      "last_value -- value of last uncaught exception\n",
      "last_traceback -- traceback of last uncaught exception\n",
      "  These three are only available in an interactive session after a\n",
      "  traceback has been printed.\n",
      "\n",
      "Static objects:\n",
      "\n",
      "builtin_module_names -- tuple of module names built into this interpreter\n",
      "copyright -- copyright notice pertaining to this interpreter\n",
      "exec_prefix -- prefix used to find the machine-specific Python library\n",
      "executable -- absolute path of the executable binary of the Python interpreter\n",
      "float_info -- a struct sequence with information about the float implementation.\n",
      "float_repr_style -- string indicating the style of repr() output for floats\n",
      "hash_info -- a struct sequence with information about the hash algorithm.\n",
      "hexversion -- version information encoded as a single integer\n",
      "implementation -- Python implementation information.\n",
      "int_info -- a struct sequence with information about the int implementation.\n",
      "maxsize -- the largest supported length of containers.\n",
      "maxunicode -- the value of the largest Unicode code point\n",
      "platform -- platform identifier\n",
      "prefix -- prefix used to find the Python library\n",
      "thread_info -- a struct sequence with information about the thread implementation.\n",
      "version -- the version of this interpreter as a string\n",
      "version_info -- version information as a named tuple\n",
      "__stdin__ -- the original stdin; don't touch!\n",
      "__stdout__ -- the original stdout; don't touch!\n",
      "__stderr__ -- the original stderr; don't touch!\n",
      "__displayhook__ -- the original displayhook; don't touch!\n",
      "__excepthook__ -- the original excepthook; don't touch!\n",
      "\n",
      "Functions:\n",
      "\n",
      "displayhook() -- print an object to the screen, and save it in builtins._\n",
      "excepthook() -- print an exception and its traceback to sys.stderr\n",
      "exc_info() -- return thread-safe information about the current exception\n",
      "exit() -- exit the interpreter by raising SystemExit\n",
      "getdlopenflags() -- returns flags to be used for dlopen() calls\n",
      "getprofile() -- get the global profiling function\n",
      "getrefcount() -- return the reference count for an object (plus one :-)\n",
      "getrecursionlimit() -- return the max recursion depth for the interpreter\n",
      "getsizeof() -- return the size of an object in bytes\n",
      "gettrace() -- get the global debug tracing function\n",
      "setcheckinterval() -- control how often the interpreter checks for events\n",
      "setdlopenflags() -- set the flags to be used for dlopen() calls\n",
      "setprofile() -- set the global profiling function\n",
      "setrecursionlimit() -- set the max recursion depth for the interpreter\n",
      "settrace() -- set the global debug tracing function\n",
      "\n"
     ]
    }
   ],
   "source": [
    "print(sys.__doc__)"
   ]
  },
  {
   "cell_type": "code",
   "execution_count": 10,
   "metadata": {},
   "outputs": [
    {
     "name": "stdout",
     "output_type": "stream",
     "text": [
      "Help on class Bobik in module __main__:\n",
      "\n",
      "class Bobik(builtins.object)\n",
      " |  Methods defined here:\n",
      " |  \n",
      " |  __init__(self, name, age)\n",
      " |      Initialize self.  See help(type(self)) for accurate signature.\n",
      " |  \n",
      " |  ----------------------------------------------------------------------\n",
      " |  Data descriptors defined here:\n",
      " |  \n",
      " |  __dict__\n",
      " |      dictionary for instance variables (if defined)\n",
      " |  \n",
      " |  __weakref__\n",
      " |      list of weak references to the object (if defined)\n",
      "\n"
     ]
    }
   ],
   "source": [
    "help(Bobik)"
   ]
  },
  {
   "cell_type": "code",
   "execution_count": 13,
   "metadata": {},
   "outputs": [
    {
     "name": "stdout",
     "output_type": "stream",
     "text": [
      "hi\n"
     ]
    }
   ],
   "source": [
    "'''\n",
    "Короткая запись if \n",
    "'''\n",
    "if 2 in [1, 2]: print('hi')"
   ]
  },
  {
   "cell_type": "code",
   "execution_count": 14,
   "metadata": {},
   "outputs": [
    {
     "data": {
      "text/plain": [
       "'aaaKyKyeeee'"
      ]
     },
     "execution_count": 14,
     "metadata": {},
     "output_type": "execute_result"
    }
   ],
   "source": [
    "'aaaBBeeee'.replace('BB', 'KyKy')"
   ]
  },
  {
   "cell_type": "code",
   "execution_count": 16,
   "metadata": {},
   "outputs": [
    {
     "data": {
      "text/plain": [
       "3"
      ]
     },
     "execution_count": 16,
     "metadata": {},
     "output_type": "execute_result"
    }
   ],
   "source": [
    "'eeeRRttt'.find('R')"
   ]
  },
  {
   "cell_type": "code",
   "execution_count": 17,
   "metadata": {},
   "outputs": [
    {
     "data": {
      "text/plain": [
       "'abcdefghijklmnopqrstuvwxyz'"
      ]
     },
     "execution_count": 17,
     "metadata": {},
     "output_type": "execute_result"
    }
   ],
   "source": [
    "import string\n",
    "string.ascii_lowercase"
   ]
  },
  {
   "cell_type": "code",
   "execution_count": 18,
   "metadata": {},
   "outputs": [
    {
     "data": {
      "text/plain": [
       "' \\t\\n\\r\\x0b\\x0c'"
      ]
     },
     "execution_count": 18,
     "metadata": {},
     "output_type": "execute_result"
    }
   ],
   "source": [
    "string.whitespace"
   ]
  },
  {
   "cell_type": "code",
   "execution_count": 20,
   "metadata": {},
   "outputs": [
    {
     "data": {
      "text/plain": [
       "'egsdssgg'"
      ]
     },
     "execution_count": 20,
     "metadata": {},
     "output_type": "execute_result"
    }
   ],
   "source": [
    "'\\t\\n\\regsdssgg\\n'.strip()"
   ]
  },
  {
   "cell_type": "code",
   "execution_count": 21,
   "metadata": {},
   "outputs": [
    {
     "data": {
      "text/plain": [
       "['reffe', 'erfref', '']"
      ]
     },
     "execution_count": 21,
     "metadata": {},
     "output_type": "execute_result"
    }
   ],
   "source": [
    "'reffe\\nerfref\\n'.split('\\n')"
   ]
  },
  {
   "cell_type": "code",
   "execution_count": 22,
   "metadata": {},
   "outputs": [
    {
     "data": {
      "text/plain": [
       "['reffe', 'erfref']"
      ]
     },
     "execution_count": 22,
     "metadata": {},
     "output_type": "execute_result"
    }
   ],
   "source": [
    "'reffe\\nerfref\\n'.splitlines()"
   ]
  },
  {
   "cell_type": "code",
   "execution_count": 23,
   "metadata": {},
   "outputs": [
    {
     "data": {
      "text/plain": [
       "['f', 'r', 'e', 'f', 'e', 'g']"
      ]
     },
     "execution_count": 23,
     "metadata": {},
     "output_type": "execute_result"
    }
   ],
   "source": [
    "list('frefeg')"
   ]
  },
  {
   "cell_type": "code",
   "execution_count": 24,
   "metadata": {},
   "outputs": [
    {
     "data": {
      "text/plain": [
       "'frefeg'"
      ]
     },
     "execution_count": 24,
     "metadata": {},
     "output_type": "execute_result"
    }
   ],
   "source": [
    "''.join(['f', 'r', 'e', 'f', 'e', 'g'])"
   ]
  },
  {
   "cell_type": "code",
   "execution_count": 25,
   "metadata": {},
   "outputs": [
    {
     "data": {
      "text/plain": [
       "'42'"
      ]
     },
     "execution_count": 25,
     "metadata": {},
     "output_type": "execute_result"
    }
   ],
   "source": [
    "repr(42)"
   ]
  },
  {
   "cell_type": "code",
   "execution_count": 26,
   "metadata": {},
   "outputs": [
    {
     "data": {
      "text/plain": [
       "42"
      ]
     },
     "execution_count": 26,
     "metadata": {},
     "output_type": "execute_result"
    }
   ],
   "source": [
    "eval(repr(42))"
   ]
  },
  {
   "cell_type": "code",
   "execution_count": 2,
   "metadata": {},
   "outputs": [],
   "source": [
    "a = open('spam.txt', 'w')\n",
    "a.write('123\\n'*10)\n",
    "a.close()"
   ]
  },
  {
   "cell_type": "code",
   "execution_count": 1,
   "metadata": {},
   "outputs": [
    {
     "name": "stdout",
     "output_type": "stream",
     "text": [
      "['123\\n', '123\\n', '123\\n', '123\\n', '123\\n', '123\\n', '123\\n', '123\\n', '123\\n', '123\\n']\n",
      "123\n",
      "123\n",
      "123\n",
      "123\n",
      "123\n",
      "123\n",
      "123\n",
      "123\n",
      "123\n",
      "123\n",
      "\n"
     ]
    }
   ],
   "source": [
    "b = open('spam.txt', 'r')\n",
    "c = b.readlines()\n",
    "print(c)\n",
    "b.close()\n",
    "\n",
    "b = open('spam.txt', 'r')\n",
    "c = b.read()\n",
    "print(c)\n",
    "b.close()"
   ]
  },
  {
   "cell_type": "code",
   "execution_count": 28,
   "metadata": {},
   "outputs": [
    {
     "name": "stdout",
     "output_type": "stream",
     "text": [
      "140659724341640\n",
      "140659724417288\n",
      "\n",
      " 140660260451552\n",
      "140660260451552\n",
      "\n",
      " 140660260451584\n",
      "140660260451584\n",
      "\n",
      " 140660260451616\n",
      "140660260451616\n"
     ]
    }
   ],
   "source": [
    "print(id([1, 2, 3]))  \n",
    "print(id([1, 2, 3]))\n",
    "a = [1, 2, 3]\n",
    "b = [1, 2, 3]\n",
    "for i in range(3):\n",
    "    \n",
    "    print('\\n', id(a[i]))\n",
    "    print(id(b[i]))"
   ]
  },
  {
   "cell_type": "code",
   "execution_count": 31,
   "metadata": {},
   "outputs": [
    {
     "name": "stdout",
     "output_type": "stream",
     "text": [
      "linux\n",
      "3.6.8 (default, Mar 21 2019, 10:08:12) \n",
      "[GCC 8.3.1 20190223 (Red Hat 8.3.1-2)]\n",
      "9223372036854775807\n"
     ]
    }
   ],
   "source": [
    "import sys\n",
    "print(sys.platform)\n",
    "print(sys.version)\n",
    "print(sys.maxsize)"
   ]
  },
  {
   "cell_type": "code",
   "execution_count": null,
   "metadata": {},
   "outputs": [],
   "source": [
    "'''\n",
    "В sys.path - пути импорта модулей, питон начинает их просматривать слева на право, в эту переменную можно добавлять \n",
    "пути с помощью например append\n",
    "'''"
   ]
  },
  {
   "cell_type": "code",
   "execution_count": 33,
   "metadata": {},
   "outputs": [
    {
     "data": {
      "text/plain": [
       "'\\nsys.modules - возвращает список загруженных модулей\\n'"
      ]
     },
     "execution_count": 33,
     "metadata": {},
     "output_type": "execute_result"
    }
   ],
   "source": [
    "'''\n",
    "sys.modules - возвращает список загруженных модулей\n",
    "'''"
   ]
  },
  {
   "cell_type": "code",
   "execution_count": 53,
   "metadata": {},
   "outputs": [
    {
     "name": "stdout",
     "output_type": "stream",
     "text": [
      "<class 'IndexError'>\n",
      "Получили ошибку: list index out of range\n",
      "  File \"<ipython-input-53-f6df1f0ea018>\", line 8, in <module>\n",
      "    a[5]\n",
      "\n"
     ]
    },
    {
     "ename": "IndexError",
     "evalue": "list index out of range",
     "output_type": "error",
     "traceback": [
      "\u001b[0;31m---------------------------------------------------------------------------\u001b[0m",
      "\u001b[0;31mIndexError\u001b[0m                                Traceback (most recent call last)",
      "\u001b[0;32m<ipython-input-53-f6df1f0ea018>\u001b[0m in \u001b[0;36m<module>\u001b[0;34m\u001b[0m\n\u001b[1;32m     12\u001b[0m     \u001b[0mprint\u001b[0m\u001b[0;34m(\u001b[0m\u001b[0;34mf'{sys.exc_info()[0]}\\nПолучили ошибку: {error_type}\\n{\"\".join(traceback.extract_tb(trace).format())}'\u001b[0m\u001b[0;34m)\u001b[0m\u001b[0;34m\u001b[0m\u001b[0;34m\u001b[0m\u001b[0m\n\u001b[1;32m     13\u001b[0m \u001b[0;34m\u001b[0m\u001b[0m\n\u001b[0;32m---> 14\u001b[0;31m \u001b[0ma\u001b[0m\u001b[0;34m[\u001b[0m\u001b[0;36m5\u001b[0m\u001b[0;34m]\u001b[0m\u001b[0;34m\u001b[0m\u001b[0;34m\u001b[0m\u001b[0m\n\u001b[0m",
      "\u001b[0;31mIndexError\u001b[0m: list index out of range"
     ]
    }
   ],
   "source": [
    "'''\n",
    "sys.exc_info - функция возвращает кортежж содержащий информацию о последнем исключении\n",
    "Ниже пример печати своего вывода ошибки\n",
    "'''\n",
    "import traceback\n",
    "a = [1, 2]\n",
    "try:\n",
    "    a[5]\n",
    "except IndexError:\n",
    "    error_type = sys.exc_info()[1]\n",
    "    trace = sys.exc_info()[2]\n",
    "    print(f'{sys.exc_info()[0]}\\nПолучили ошибку: {error_type}\\n{\"\".join(traceback.extract_tb(trace).format())}')\n",
    "          \n",
    "a[5]"
   ]
  },
  {
   "cell_type": "code",
   "execution_count": null,
   "metadata": {},
   "outputs": [],
   "source": [
    "'''\n",
    "sys.argv = получаем список аргументов командной строки\n",
    "sys.stdin\n",
    "sys.stdout - Потоки ввода-вывода\n",
    "'''"
   ]
  },
  {
   "cell_type": "code",
   "execution_count": 56,
   "metadata": {},
   "outputs": [
    {
     "data": {
      "text/plain": [
       "14396"
      ]
     },
     "execution_count": 56,
     "metadata": {},
     "output_type": "execute_result"
    }
   ],
   "source": [
    "import os\n",
    "'''\n",
    "os.environ - вывводит переменные окружения\n",
    "'''\n",
    "# dir(os)\n",
    "os.getpid()"
   ]
  },
  {
   "cell_type": "code",
   "execution_count": 57,
   "metadata": {},
   "outputs": [
    {
     "data": {
      "text/plain": [
       "'/'"
      ]
     },
     "execution_count": 57,
     "metadata": {},
     "output_type": "execute_result"
    }
   ],
   "source": [
    "os.sep # Возвращает разделитель который используетс в путях каталогов системы\n",
    "'''\n",
    "dirpath.split(os.sep) - правильно разберет путь на папки в любой системе\n",
    "'''"
   ]
  },
  {
   "cell_type": "code",
   "execution_count": 58,
   "metadata": {},
   "outputs": [
    {
     "data": {
      "text/plain": [
       "'\\n'"
      ]
     },
     "execution_count": 58,
     "metadata": {},
     "output_type": "execute_result"
    }
   ],
   "source": [
    "os.linesep # Возвращает символы экранирования используемые в системе"
   ]
  },
  {
   "cell_type": "code",
   "execution_count": 66,
   "metadata": {},
   "outputs": [
    {
     "name": "stdout",
     "output_type": "stream",
     "text": [
      "40\n",
      "False\n",
      "True\n",
      "True\n",
      "('', 'spam.txt')\n",
      "/home/novozhilovsv/PROJECT/python_next_level/spam.txt\n"
     ]
    }
   ],
   "source": [
    "'''\n",
    "os.path  - куча методов для работы с файлами и каталогами\n",
    "Все методы являются переносимыми между разными платформами\n",
    "'''\n",
    "print(os.path.getsize('spam.txt'))\n",
    "print(os.path.isdir('spam.txt'))\n",
    "print(os.path.isfile('spam.txt'))\n",
    "print(os.path.exists('spam.txt'))\n",
    "print(os.path.split('spam.txt'))\n",
    "print(os.path.abspath('spam.txt'))"
   ]
  },
  {
   "cell_type": "code",
   "execution_count": null,
   "metadata": {},
   "outputs": [],
   "source": [
    "'''\n",
    "os.system - выполняет bash команду из скрипта python\n",
    "os.popen - запускат команду и соединяет ее с потоками ввода вывода. Можно читать как из файла например..\n",
    "Можно вместо баш скрипта писать скрипт на питоне, который будет запускать баш команды\n",
    "ыгиз\n",
    "'''"
   ]
  },
  {
   "cell_type": "code",
   "execution_count": 9,
   "metadata": {},
   "outputs": [
    {
     "ename": "KeyError",
     "evalue": "'PYTHONPATH'",
     "output_type": "error",
     "traceback": [
      "\u001b[0;31m---------------------------------------------------------------------------\u001b[0m",
      "\u001b[0;31mKeyError\u001b[0m                                  Traceback (most recent call last)",
      "\u001b[0;32m<ipython-input-9-f280d6c770bf>\u001b[0m in \u001b[0;36m<module>\u001b[0;34m\u001b[0m\n\u001b[1;32m      3\u001b[0m \"\"\"\n\u001b[1;32m      4\u001b[0m \u001b[0;32mimport\u001b[0m \u001b[0mos\u001b[0m\u001b[0;34m\u001b[0m\u001b[0;34m\u001b[0m\u001b[0m\n\u001b[0;32m----> 5\u001b[0;31m \u001b[0mos\u001b[0m\u001b[0;34m.\u001b[0m\u001b[0menviron\u001b[0m\u001b[0;34m[\u001b[0m\u001b[0;34m'PYTHONPATH'\u001b[0m\u001b[0;34m]\u001b[0m\u001b[0;34m\u001b[0m\u001b[0;34m\u001b[0m\u001b[0m\n\u001b[0m",
      "\u001b[0;32m/usr/lib64/python3.6/os.py\u001b[0m in \u001b[0;36m__getitem__\u001b[0;34m(self, key)\u001b[0m\n\u001b[1;32m    667\u001b[0m         \u001b[0;32mexcept\u001b[0m \u001b[0mKeyError\u001b[0m\u001b[0;34m:\u001b[0m\u001b[0;34m\u001b[0m\u001b[0;34m\u001b[0m\u001b[0m\n\u001b[1;32m    668\u001b[0m             \u001b[0;31m# raise KeyError with the original key value\u001b[0m\u001b[0;34m\u001b[0m\u001b[0;34m\u001b[0m\u001b[0;34m\u001b[0m\u001b[0m\n\u001b[0;32m--> 669\u001b[0;31m             \u001b[0;32mraise\u001b[0m \u001b[0mKeyError\u001b[0m\u001b[0;34m(\u001b[0m\u001b[0mkey\u001b[0m\u001b[0;34m)\u001b[0m \u001b[0;32mfrom\u001b[0m \u001b[0;32mNone\u001b[0m\u001b[0;34m\u001b[0m\u001b[0;34m\u001b[0m\u001b[0m\n\u001b[0m\u001b[1;32m    670\u001b[0m         \u001b[0;32mreturn\u001b[0m \u001b[0mself\u001b[0m\u001b[0;34m.\u001b[0m\u001b[0mdecodevalue\u001b[0m\u001b[0;34m(\u001b[0m\u001b[0mvalue\u001b[0m\u001b[0;34m)\u001b[0m\u001b[0;34m\u001b[0m\u001b[0;34m\u001b[0m\u001b[0m\n\u001b[1;32m    671\u001b[0m \u001b[0;34m\u001b[0m\u001b[0m\n",
      "\u001b[0;31mKeyError\u001b[0m: 'PYTHONPATH'"
     ]
    }
   ],
   "source": [
    "\"\"\"\n",
    "Обращение к переменным окружения\n",
    "\"\"\"\n",
    "import os\n",
    "os.environ['PATH']"
   ]
  },
  {
   "cell_type": "code",
   "execution_count": 8,
   "metadata": {},
   "outputs": [
    {
     "data": {
      "text/plain": [
       "'135'"
      ]
     },
     "execution_count": 8,
     "metadata": {},
     "output_type": "execute_result"
    }
   ],
   "source": [
    "os.environ['NEW_TEST'] = '135'\n",
    "os.environ['NEW_TEST'] "
   ]
  },
  {
   "cell_type": "code",
   "execution_count": 1,
   "metadata": {},
   "outputs": [
    {
     "name": "stdout",
     "output_type": "stream",
     "text": [
      "hello world\n",
      "hello stdout world\n"
     ]
    }
   ],
   "source": [
    "'''\n",
    "Стандартные потоки ввода вывода\n",
    "'''\n",
    "import sys\n",
    "print('hello world')\n",
    "sys.stdout.write('hello stdout world\\n')"
   ]
  },
  {
   "cell_type": "code",
   "execution_count": null,
   "metadata": {},
   "outputs": [],
   "source": [
    "'''\n",
    "input()\n",
    "sys.stdin.readline()[:-1]\n",
    "\n",
    "Аналогичные команды\n",
    "'''"
   ]
  },
  {
   "cell_type": "code",
   "execution_count": null,
   "metadata": {},
   "outputs": [],
   "source": [
    "'''\n",
    "В Linux можно заменить команду input, вводом данных из фалу таким образом:\n",
    "$> python teststreams.py < input.txt\n",
    "Вывыод данных в файл так:\n",
    "$> python teststreams.py < input.txt > output.txt\n",
    "Перенаправить вывод можно и другому сценарию python:\n",
    "$> python writer.py | python reader.py\n",
    "\n",
    "'''"
   ]
  },
  {
   "cell_type": "code",
   "execution_count": null,
   "metadata": {},
   "outputs": [],
   "source": [
    "'''\n",
    "Пример перенаправления потока функции print в файл\n",
    "'''\n",
    "def test_print(n):\n",
    "    for i in range(n):\n",
    "        print(i)\n",
    "\n",
    "\n",
    "class Output:\n",
    "\n",
    "    def __init__(self, output=''):\n",
    "        self.text = ''\n",
    "\n",
    "    def write(self, output=''):\n",
    "        self.text += output\n",
    "        if self.text:\n",
    "            with open('test.txt', 'w') as file:\n",
    "                file.write(self.text)\n",
    "\n",
    "\n",
    "def redirect(func, *args, **kwargs):\n",
    "    save = sys.stdout\n",
    "    sys.stdout = Output()\n",
    "    try:\n",
    "     result = func(*args, **kwargs)\n",
    "    finally:\n",
    "        sys.stdout = save\n",
    "    return result\n"
   ]
  },
  {
   "cell_type": "code",
   "execution_count": null,
   "metadata": {},
   "outputs": [],
   "source": [
    "\"\"\"\n",
    "Написать свой контекстный МЕНЕДЖЕР with, через классы\n",
    "\"\"\""
   ]
  },
  {
   "cell_type": "code",
   "execution_count": 5,
   "metadata": {},
   "outputs": [
    {
     "data": {
      "text/plain": [
       "5"
      ]
     },
     "execution_count": 5,
     "metadata": {},
     "output_type": "execute_result"
    }
   ],
   "source": [
    "\"\"\"\n",
    "Есть модуль io.StringIO - можеть как буфер использоваться\n",
    "io.BytesIO - аналогичный строке только буффер байтов\n",
    "Можно также перенаправить поток stdin stdout - по аналогии переопределим метод write\n",
    "\"\"\"\n",
    "from io import StringIO\n",
    "\n",
    "buff = StringIO()\n",
    "buff.write('spam\\n')\n",
    "buff.write('eggs\\n')"
   ]
  },
  {
   "cell_type": "code",
   "execution_count": 3,
   "metadata": {},
   "outputs": [
    {
     "data": {
      "text/plain": [
       "'spam\\neggs\\n'"
      ]
     },
     "execution_count": 3,
     "metadata": {},
     "output_type": "execute_result"
    }
   ],
   "source": [
    "buff.getvalue()"
   ]
  },
  {
   "cell_type": "code",
   "execution_count": 4,
   "metadata": {},
   "outputs": [
    {
     "data": {
      "text/plain": [
       "''"
      ]
     },
     "execution_count": 4,
     "metadata": {},
     "output_type": "execute_result"
    }
   ],
   "source": [
    "buff.readline()"
   ]
  },
  {
   "cell_type": "code",
   "execution_count": 6,
   "metadata": {},
   "outputs": [
    {
     "name": "stderr",
     "output_type": "stream",
     "text": [
      "spamspam\n"
     ]
    }
   ],
   "source": [
    "'''\n",
    "sys.stderr. - стандартный поток ошибок в python, можно в него например перенаправить принт,\\\n",
    "и тогда вывод будет подкаршиваться как ошибка.\n",
    "'''\n",
    "import sys\n",
    "print('spam' * 2, file=sys.stderr)"
   ]
  },
  {
   "cell_type": "code",
   "execution_count": 1,
   "metadata": {},
   "outputs": [
    {
     "data": {
      "text/plain": [
       "b'Hello kykyshka\\n'"
      ]
     },
     "execution_count": 1,
     "metadata": {},
     "output_type": "execute_result"
    }
   ],
   "source": [
    "'''\n",
    "Модуль subprocess - еще более продвинутое решение по управлению потоками ввода-вывода\\\n",
    "код модуля reader.py:\n",
    "a = input()\n",
    "print(f'Hello {a}')\n",
    "Можно средствами python перенаправить вывод одного сценария на вход другому сценарию.\n",
    "'''\n",
    "from subprocess import Popen, PIPE\n",
    "import sys\n",
    "import os\n",
    "\n",
    "pipe = Popen(f'python {os.getcwd()}/reader.py', stdin=PIPE, stdout=PIPE, shell=True)\n",
    "pipe.stdin.write(b'kykyshka\\n')\n",
    "pipe.stdin.write(b'123454\\n')\n",
    "\n",
    "pipe.stdin.close()\n",
    "output = pipe.stdout.read()\n",
    "pipe.wait()\n",
    "output"
   ]
  },
  {
   "cell_type": "code",
   "execution_count": 4,
   "metadata": {},
   "outputs": [
    {
     "data": {
      "text/plain": [
       "'\\nМенеджеры контекста with\\nwith A() as a, B() as b:\\n    pass\\n\\nАналогичная запись\\nwith A() as a:\\n    with B() as b:\\n'"
      ]
     },
     "execution_count": 4,
     "metadata": {},
     "output_type": "execute_result"
    }
   ],
   "source": [
    "\"\"\"\n",
    "Менеджеры контекста with\n",
    "with A() as a, B() as b:\n",
    "    pass\n",
    "\n",
    "Аналогичная запись\n",
    "with A() as a:\n",
    "    with B() as b:\n",
    "        pass\n",
    "\"\"\"\n"
   ]
  },
  {
   "cell_type": "code",
   "execution_count": 68,
   "metadata": {},
   "outputs": [
    {
     "data": {
      "text/plain": [
       "[2, 6, 8, 0]"
      ]
     },
     "execution_count": 68,
     "metadata": {},
     "output_type": "execute_result"
    }
   ],
   "source": [
    "def chek_func(x):\n",
    "    if type(x) == int:\n",
    "        return x * 2\n",
    "    return 0\n",
    "\n",
    "print(list(map(lambda x: chek_func(x), [1, 3, 4, 'rge'])))"
   ]
  },
  {
   "cell_type": "code",
   "execution_count": 141,
   "metadata": {},
   "outputs": [
    {
     "name": "stdout",
     "output_type": "stream",
     "text": [
      "Создаем класс SomeClass\n",
      "Обращение к атрибуту name\n",
      "name\n",
      "age\n",
      "{'__module__': '__main__', '__new__': <staticmethod object at 0x7fede445c0b8>, '__init__': <function SomeClass.__init__ at 0x7fede4463048>, '__getattribute__': <function SomeClass.__getattribute__ at 0x7fede44631e0>, '__dict__': <attribute '__dict__' of 'SomeClass' objects>, '__weakref__': <attribute '__weakref__' of 'SomeClass' objects>, '__doc__': None}\n"
     ]
    }
   ],
   "source": [
    "class SomeClass:\n",
    "\n",
    "    def __new__(cls, *args, **kwargs):\n",
    "        print(f'Создаем класс {cls.__name__}')\n",
    "        return super(SomeClass, cls).__new__(cls)\n",
    "\n",
    "    def __init__(self, name, age):\n",
    "        self.name = name\n",
    "        self.age = age\n",
    "\n",
    "    def __getattribute__(self, atr):\n",
    "        if atr == 'name':\n",
    "            print(f'Обращение к атрибуту {atr}')\n",
    "        return atr\n",
    "    \n",
    "\n",
    "a = SomeClass('Bob', 34)\n",
    "print(a.name)\n",
    "print(a.age)\n",
    "print(a.__dict__)"
   ]
  },
  {
   "cell_type": "code",
   "execution_count": 143,
   "metadata": {},
   "outputs": [
    {
     "name": "stdout",
     "output_type": "stream",
     "text": [
      "Bob\n",
      "1\n"
     ]
    }
   ],
   "source": [
    "class SomeClass:\n",
    "\n",
    "    def __init__(self, name, age):\n",
    "        self.name = name\n",
    "        self.age = age\n",
    "\n",
    "\n",
    "    def __setattr__(self, atr, value):\n",
    "            if atr == 'age':\n",
    "                if value <= 0:\n",
    "                    raise ValueError('Должно быть > 0')\n",
    "            self.__dict__[atr] = value\n",
    "\n",
    "\n",
    "a = SomeClass('Bob', 1)\n",
    "print(a.name)\n",
    "print(a.age)\n"
   ]
  },
  {
   "cell_type": "markdown",
   "metadata": {},
   "source": [
    "### Метод работы с файлами ###"
   ]
  },
  {
   "cell_type": "markdown",
   "metadata": {},
   "source": [
    "![title](img/open.png)"
   ]
  },
  {
   "cell_type": "markdown",
   "metadata": {},
   "source": [
    "file.flush - сброс данных из файла в буфер\n",
    "file.seek - перемещение каретки в указанную позицию"
   ]
  }
 ],
 "metadata": {
  "kernelspec": {
   "display_name": "Python 3",
   "language": "python",
   "name": "python3"
  },
  "language_info": {
   "codemirror_mode": {
    "name": "ipython",
    "version": 3
   },
   "file_extension": ".py",
   "mimetype": "text/x-python",
   "name": "python",
   "nbconvert_exporter": "python",
   "pygments_lexer": "ipython3",
   "version": "3.6.8"
  },
  "pycharm": {
   "stem_cell": {
    "cell_type": "raw",
    "metadata": {
     "collapsed": false
    },
    "source": []
   }
  }
 },
 "nbformat": 4,
 "nbformat_minor": 1
}
