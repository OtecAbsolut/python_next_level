{
 "cells": [
  {
   "cell_type": "code",
   "execution_count": 1,
   "metadata": {},
   "outputs": [
    {
     "name": "stdout",
     "output_type": "stream",
     "text": [
      "1\n"
     ]
    }
   ],
   "source": [
    "a = 3\n",
    "b = 2\n",
    "print(a % b)\n"
   ]
  },
  {
   "cell_type": "code",
   "execution_count": 2,
   "metadata": {},
   "outputs": [
    {
     "name": "stdout",
     "output_type": "stream",
     "text": [
      "4\n",
      "5\n",
      "6\n",
      "7\n",
      "8\n",
      "9\n",
      "10\n",
      "цикл закончился 10\n"
     ]
    }
   ],
   "source": [
    "# Если обрывается break то else не сработает\n",
    "while a < 10:\n",
    "    a += 1\n",
    "    print(a)\n",
    "else:\n",
    "    print('цикл закончился', a)"
   ]
  },
  {
   "cell_type": "code",
   "execution_count": 3,
   "metadata": {},
   "outputs": [
    {
     "data": {
      "text/plain": [
       "' '"
      ]
     },
     "execution_count": 3,
     "metadata": {},
     "output_type": "execute_result"
    }
   ],
   "source": [
    "a = ' test string '\n",
    "a[-1]"
   ]
  },
  {
   "cell_type": "code",
   "execution_count": 4,
   "metadata": {},
   "outputs": [
    {
     "data": {
      "text/plain": [
       "' nrste '"
      ]
     },
     "execution_count": 4,
     "metadata": {},
     "output_type": "execute_result"
    }
   ],
   "source": [
    "a[::-2]"
   ]
  },
  {
   "cell_type": "code",
   "execution_count": 5,
   "metadata": {},
   "outputs": [
    {
     "data": {
      "text/plain": [
       "' Test String '"
      ]
     },
     "execution_count": 5,
     "metadata": {},
     "output_type": "execute_result"
    }
   ],
   "source": [
    "a.title()\n"
   ]
  },
  {
   "cell_type": "code",
   "execution_count": 6,
   "metadata": {},
   "outputs": [
    {
     "data": {
      "text/plain": [
       "' TEST STRING '"
      ]
     },
     "execution_count": 6,
     "metadata": {},
     "output_type": "execute_result"
    }
   ],
   "source": [
    "a.upper()\n"
   ]
  },
  {
   "cell_type": "code",
   "execution_count": 7,
   "metadata": {},
   "outputs": [
    {
     "data": {
      "text/plain": [
       "' test string '"
      ]
     },
     "execution_count": 7,
     "metadata": {},
     "output_type": "execute_result"
    }
   ],
   "source": [
    "a.capitalize()\n"
   ]
  },
  {
   "cell_type": "code",
   "execution_count": 8,
   "metadata": {},
   "outputs": [
    {
     "data": {
      "text/plain": [
       "['', 'test', 'string', '']"
      ]
     },
     "execution_count": 8,
     "metadata": {},
     "output_type": "execute_result"
    }
   ],
   "source": [
    "a.split(' ')"
   ]
  },
  {
   "cell_type": "code",
   "execution_count": 9,
   "metadata": {},
   "outputs": [
    {
     "data": {
      "text/plain": [
       "' test string '"
      ]
     },
     "execution_count": 9,
     "metadata": {},
     "output_type": "execute_result"
    }
   ],
   "source": [
    "''.join(a)\n"
   ]
  },
  {
   "cell_type": "code",
   "execution_count": 10,
   "metadata": {},
   "outputs": [
    {
     "data": {
      "text/plain": [
       "'p'"
      ]
     },
     "execution_count": 10,
     "metadata": {},
     "output_type": "execute_result"
    }
   ],
   "source": [
    "chr(112)\n"
   ]
  },
  {
   "cell_type": "code",
   "execution_count": 11,
   "metadata": {},
   "outputs": [
    {
     "data": {
      "text/plain": [
       "'test string'"
      ]
     },
     "execution_count": 11,
     "metadata": {},
     "output_type": "execute_result"
    }
   ],
   "source": [
    "a.strip(' ')  #Удаляет пробелы с концов строки\n"
   ]
  },
  {
   "cell_type": "code",
   "execution_count": 12,
   "metadata": {},
   "outputs": [
    {
     "data": {
      "text/plain": [
       "[1, 2, 1, 2, 1, 2]"
      ]
     },
     "execution_count": 12,
     "metadata": {},
     "output_type": "execute_result"
    }
   ],
   "source": [
    "[1, 2] * 3"
   ]
  },
  {
   "cell_type": "code",
   "execution_count": 13,
   "metadata": {},
   "outputs": [
    {
     "data": {
      "text/plain": [
       "[5, 1, 2, 3, 4, 5, 6]"
      ]
     },
     "execution_count": 13,
     "metadata": {},
     "output_type": "execute_result"
    }
   ],
   "source": [
    "g = [1, 2, 3, 4, 5, 6]\n",
    "g[:0] = [5]\n",
    "g"
   ]
  },
  {
   "cell_type": "code",
   "execution_count": 14,
   "metadata": {},
   "outputs": [
    {
     "data": {
      "text/plain": [
       "[5, 9, 0, 3, 4, 5, 6]"
      ]
     },
     "execution_count": 14,
     "metadata": {},
     "output_type": "execute_result"
    }
   ],
   "source": [
    "g[:3] = [5, 9, 0]\n",
    "g"
   ]
  },
  {
   "cell_type": "code",
   "execution_count": 15,
   "metadata": {},
   "outputs": [
    {
     "data": {
      "text/plain": [
       "1"
      ]
     },
     "execution_count": 15,
     "metadata": {},
     "output_type": "execute_result"
    }
   ],
   "source": [
    "g.index(9)"
   ]
  },
  {
   "cell_type": "code",
   "execution_count": 16,
   "metadata": {},
   "outputs": [
    {
     "data": {
      "text/plain": [
       "[5, 9, 0, 3, 4, 5, 6]"
      ]
     },
     "execution_count": 16,
     "metadata": {},
     "output_type": "execute_result"
    }
   ],
   "source": [
    "f = g.copy()\n",
    "f"
   ]
  },
  {
   "cell_type": "code",
   "execution_count": 17,
   "metadata": {},
   "outputs": [
    {
     "data": {
      "text/plain": [
       "['t', 9, 0, 3, 4, 5, 6]"
      ]
     },
     "execution_count": 17,
     "metadata": {},
     "output_type": "execute_result"
    }
   ],
   "source": [
    "f[0] = 't'\n",
    "f\n"
   ]
  },
  {
   "cell_type": "code",
   "execution_count": 18,
   "metadata": {},
   "outputs": [
    {
     "data": {
      "text/plain": [
       "[5, 9, 0, 3, 4, 5, 6]"
      ]
     },
     "execution_count": 18,
     "metadata": {},
     "output_type": "execute_result"
    }
   ],
   "source": [
    "g\n"
   ]
  },
  {
   "cell_type": "code",
   "execution_count": 19,
   "metadata": {},
   "outputs": [
    {
     "data": {
      "text/plain": [
       "(1, 2, 3, 4, 5, 5)"
      ]
     },
     "execution_count": 19,
     "metadata": {},
     "output_type": "execute_result"
    }
   ],
   "source": [
    "\n",
    "j = (1, 2, 3, 4, 5) + (5, )\n",
    "j"
   ]
  },
  {
   "cell_type": "code",
   "execution_count": 20,
   "metadata": {},
   "outputs": [],
   "source": [
    "d = {1, 3, 6, 8, 9}\n",
    "h = {6, 9, 10}"
   ]
  },
  {
   "cell_type": "code",
   "execution_count": 21,
   "metadata": {},
   "outputs": [
    {
     "data": {
      "text/plain": [
       "False"
      ]
     },
     "execution_count": 21,
     "metadata": {},
     "output_type": "execute_result"
    }
   ],
   "source": [
    "d.issuperset(h)"
   ]
  },
  {
   "cell_type": "code",
   "execution_count": 22,
   "metadata": {},
   "outputs": [
    {
     "data": {
      "text/plain": [
       "False"
      ]
     },
     "execution_count": 22,
     "metadata": {},
     "output_type": "execute_result"
    }
   ],
   "source": [
    "h.issubset(d)"
   ]
  },
  {
   "cell_type": "code",
   "execution_count": 23,
   "metadata": {},
   "outputs": [
    {
     "data": {
      "text/plain": [
       "False"
      ]
     },
     "execution_count": 23,
     "metadata": {},
     "output_type": "execute_result"
    }
   ],
   "source": [
    "d <= h"
   ]
  },
  {
   "cell_type": "code",
   "execution_count": 24,
   "metadata": {},
   "outputs": [
    {
     "data": {
      "text/plain": [
       "False"
      ]
     },
     "execution_count": 24,
     "metadata": {},
     "output_type": "execute_result"
    }
   ],
   "source": [
    "d >= h\n"
   ]
  },
  {
   "cell_type": "code",
   "execution_count": 25,
   "metadata": {},
   "outputs": [
    {
     "data": {
      "text/plain": [
       "{6, 9}"
      ]
     },
     "execution_count": 25,
     "metadata": {},
     "output_type": "execute_result"
    }
   ],
   "source": [
    "d & h\n"
   ]
  },
  {
   "cell_type": "code",
   "execution_count": 26,
   "metadata": {},
   "outputs": [
    {
     "data": {
      "text/plain": [
       "{6, 9}"
      ]
     },
     "execution_count": 26,
     "metadata": {},
     "output_type": "execute_result"
    }
   ],
   "source": [
    "d.intersection(h)\n"
   ]
  },
  {
   "cell_type": "code",
   "execution_count": 27,
   "metadata": {},
   "outputs": [
    {
     "data": {
      "text/plain": [
       "{1, 3, 6, 8, 9, 10}"
      ]
     },
     "execution_count": 27,
     "metadata": {},
     "output_type": "execute_result"
    }
   ],
   "source": [
    "d | h\n"
   ]
  },
  {
   "cell_type": "code",
   "execution_count": 28,
   "metadata": {},
   "outputs": [
    {
     "data": {
      "text/plain": [
       "{1, 3, 6, 8, 9, 10}"
      ]
     },
     "execution_count": 28,
     "metadata": {},
     "output_type": "execute_result"
    }
   ],
   "source": [
    "d.union(h)\n"
   ]
  },
  {
   "cell_type": "code",
   "execution_count": 29,
   "metadata": {},
   "outputs": [
    {
     "data": {
      "text/plain": [
       "{1, 3, 8, 10}"
      ]
     },
     "execution_count": 29,
     "metadata": {},
     "output_type": "execute_result"
    }
   ],
   "source": [
    "d ^ h\n"
   ]
  },
  {
   "cell_type": "code",
   "execution_count": 30,
   "metadata": {},
   "outputs": [
    {
     "data": {
      "text/plain": [
       "{1, 3, 8, 10}"
      ]
     },
     "execution_count": 30,
     "metadata": {},
     "output_type": "execute_result"
    }
   ],
   "source": [
    "d.symmetric_difference(h)"
   ]
  },
  {
   "cell_type": "code",
   "execution_count": 31,
   "metadata": {},
   "outputs": [],
   "source": [
    "atr = 100\n",
    "btr = atr"
   ]
  },
  {
   "cell_type": "code",
   "execution_count": 32,
   "metadata": {},
   "outputs": [],
   "source": [
    "atr = 200"
   ]
  },
  {
   "cell_type": "code",
   "execution_count": 33,
   "metadata": {},
   "outputs": [
    {
     "data": {
      "text/plain": [
       "100"
      ]
     },
     "execution_count": 33,
     "metadata": {},
     "output_type": "execute_result"
    }
   ],
   "source": [
    "\n",
    "btr"
   ]
  },
  {
   "cell_type": "code",
   "execution_count": 34,
   "metadata": {},
   "outputs": [
    {
     "data": {
      "text/plain": [
       "3"
      ]
     },
     "execution_count": 34,
     "metadata": {},
     "output_type": "execute_result"
    }
   ],
   "source": [
    "range(10)[3]"
   ]
  },
  {
   "cell_type": "code",
   "execution_count": 35,
   "metadata": {},
   "outputs": [
    {
     "data": {
      "text/plain": [
       "'отмпвуолмтуму'"
      ]
     },
     "execution_count": 35,
     "metadata": {},
     "output_type": "execute_result"
    }
   ],
   "source": [
    "max('отмпвуолмтуму', 'fhfkkw')"
   ]
  },
  {
   "cell_type": "code",
   "execution_count": 36,
   "metadata": {},
   "outputs": [
    {
     "data": {
      "text/plain": [
       "<enumerate at 0x7f6f5c3eb3a8>"
      ]
     },
     "execution_count": 36,
     "metadata": {},
     "output_type": "execute_result"
    }
   ],
   "source": [
    "a = enumerate(['r', 'g', 'h', 'u'])\n",
    "a"
   ]
  },
  {
   "cell_type": "code",
   "execution_count": 37,
   "metadata": {},
   "outputs": [
    {
     "name": "stdout",
     "output_type": "stream",
     "text": [
      "(0, 'r')\n",
      "(1, 'g')\n",
      "(2, 'h')\n",
      "(3, 'u')\n"
     ]
    }
   ],
   "source": [
    "for i in a:\n",
    "    print(i)"
   ]
  },
  {
   "cell_type": "code",
   "execution_count": 38,
   "metadata": {},
   "outputs": [],
   "source": [
    "z = 22\n",
    "def local(x):\n",
    "    y = 10\n",
    "    print(x, y, z)"
   ]
  },
  {
   "cell_type": "code",
   "execution_count": 39,
   "metadata": {},
   "outputs": [
    {
     "name": "stdout",
     "output_type": "stream",
     "text": [
      "99 10 22\n"
     ]
    }
   ],
   "source": [
    "local(99)"
   ]
  },
  {
   "cell_type": "code",
   "execution_count": 40,
   "metadata": {},
   "outputs": [
    {
     "data": {
      "text/plain": [
       "<function __main__.local(x)>"
      ]
     },
     "execution_count": 40,
     "metadata": {},
     "output_type": "execute_result"
    }
   ],
   "source": [
    "local"
   ]
  },
  {
   "cell_type": "code",
   "execution_count": 41,
   "metadata": {},
   "outputs": [
    {
     "data": {
      "text/plain": [
       "<function __main__.<lambda>(x)>"
      ]
     },
     "execution_count": 41,
     "metadata": {},
     "output_type": "execute_result"
    }
   ],
   "source": [
    "lambda x: x**2"
   ]
  },
  {
   "cell_type": "code",
   "execution_count": 42,
   "metadata": {},
   "outputs": [
    {
     "data": {
      "text/plain": [
       "[1, 4, 9]"
      ]
     },
     "execution_count": 42,
     "metadata": {},
     "output_type": "execute_result"
    }
   ],
   "source": [
    "o = [1, 2, 3]\n",
    "\n",
    "[(lambda i: i**2) (i) for i in o]"
   ]
  },
  {
   "cell_type": "code",
   "execution_count": 43,
   "metadata": {},
   "outputs": [
    {
     "data": {
      "text/plain": [
       "'\\nВ python есть 4 области видимости:\\n\\n1 Локальная.\\n2 Объемлющей функции.\\n3 Глобальная(модуля).\\n4 Встроенная (builtins) — предопределённые имена, например, имена встроенных функций.\\nПоиск переменной происходит поочередно с 1 по 4-ую.\\n\\n'"
      ]
     },
     "execution_count": 43,
     "metadata": {},
     "output_type": "execute_result"
    }
   ],
   "source": [
    "'''\n",
    "В python есть 4 области видимости:\n",
    "\n",
    "1 Локальная.\n",
    "2 Объемлющей функции.\n",
    "3 Глобальная(модуля).\n",
    "4 Встроенная (builtins) — предопределённые имена, например, имена встроенных функций.\n",
    "Поиск переменной происходит поочередно с 1 по 4-ую.\n",
    "\n",
    "'''"
   ]
  },
  {
   "cell_type": "code",
   "execution_count": 44,
   "metadata": {},
   "outputs": [
    {
     "name": "stdout",
     "output_type": "stream",
     "text": [
      "Выполняется inside x = 5, y = 10, z = 22\n",
      "Выполняется outside x = 5, y = 10, z - не доступна\n",
      "Только можем напечатать 5\n"
     ]
    }
   ],
   "source": [
    "x = 5  # глобальная переменная - доступна в любом месте данного модуля\n",
    "def outside():\n",
    "    y = 10  # доступна в теле данной функции и + во всех вложенных функциях\n",
    "    def inside():\n",
    "        zz = 15   # доступна только в теле данной функции\n",
    "        print(f'Выполняется inside x = {x}, y = {y}, z = {z}')\n",
    "    inside()\n",
    "    print(f'Выполняется outside x = {x}, y = {y}, z - не доступна')\n",
    "outside()\n",
    "print(f'Только можем напечатать {x}' )"
   ]
  },
  {
   "cell_type": "code",
   "execution_count": 45,
   "metadata": {},
   "outputs": [],
   "source": [
    "# Функция с произвольным количеством аргументов\n",
    "def average(*args):\n",
    "    sum = 0\n",
    "    for i in args:\n",
    "        sum += i\n",
    "    return sum / len(args)"
   ]
  },
  {
   "cell_type": "code",
   "execution_count": 46,
   "metadata": {},
   "outputs": [
    {
     "data": {
      "text/plain": [
       "3.0"
      ]
     },
     "execution_count": 46,
     "metadata": {},
     "output_type": "execute_result"
    }
   ],
   "source": [
    "average(1, 2, 3, 4, 5)"
   ]
  },
  {
   "cell_type": "code",
   "execution_count": 47,
   "metadata": {},
   "outputs": [],
   "source": [
    "# Передача именованных аргументов\n",
    "def print_info(**kwargs):\n",
    "    print(f'name = {kwargs[\"name\"]}\\nage = {kwargs[\"age\"]}')"
   ]
  },
  {
   "cell_type": "code",
   "execution_count": 48,
   "metadata": {},
   "outputs": [
    {
     "name": "stdout",
     "output_type": "stream",
     "text": [
      "name = Вася\n",
      "age = 23\n"
     ]
    }
   ],
   "source": [
    "print_info(name='Вася', age=23)"
   ]
  },
  {
   "cell_type": "code",
   "execution_count": 61,
   "metadata": {},
   "outputs": [],
   "source": [
    "def print_info2(*args, **kwargs):\n",
    "    print(args)\n",
    "    print(kwargs)"
   ]
  },
  {
   "cell_type": "code",
   "execution_count": 62,
   "metadata": {},
   "outputs": [
    {
     "name": "stdout",
     "output_type": "stream",
     "text": [
      "(1, 2, 'kkk')\n",
      "{'name': 'Bob', 'age': 23}\n"
     ]
    }
   ],
   "source": [
    "print_info2(1, 2, 'kkk', name='Bob', age=23)"
   ]
  },
  {
   "cell_type": "code",
   "execution_count": 63,
   "metadata": {},
   "outputs": [],
   "source": [
    "g = [1, 2, 'ttt']\n",
    "d = {'name': 'Bob', 'age': 23}"
   ]
  },
  {
   "cell_type": "code",
   "execution_count": 65,
   "metadata": {},
   "outputs": [
    {
     "name": "stdout",
     "output_type": "stream",
     "text": [
      "(1, 2, 'ttt')\n",
      "{'name': 'Bob', 'age': 23}\n"
     ]
    }
   ],
   "source": [
    "print_info2(*g, **d)"
   ]
  },
  {
   "cell_type": "code",
   "execution_count": 66,
   "metadata": {},
   "outputs": [
    {
     "name": "stdout",
     "output_type": "stream",
     "text": [
      "([1, 2, 'ttt'], {'name': 'Bob', 'age': 23})\n",
      "{}\n"
     ]
    }
   ],
   "source": [
    "print_info2([1, 2, 'ttt'], {'name': 'Bob', 'age': 23})"
   ]
  },
  {
   "cell_type": "code",
   "execution_count": 67,
   "metadata": {},
   "outputs": [
    {
     "data": {
      "text/plain": [
       "<zip at 0x7f6f5fd14248>"
      ]
     },
     "execution_count": 67,
     "metadata": {},
     "output_type": "execute_result"
    }
   ],
   "source": [
    "a = ['b', 'c']\n",
    "b = [1, 2]\n",
    "zip(a, b)"
   ]
  },
  {
   "cell_type": "code",
   "execution_count": 68,
   "metadata": {},
   "outputs": [
    {
     "data": {
      "text/plain": [
       "[('b', 1), ('c', 2)]"
      ]
     },
     "execution_count": 68,
     "metadata": {},
     "output_type": "execute_result"
    }
   ],
   "source": [
    "list(zip(a, b))"
   ]
  },
  {
   "cell_type": "code",
   "execution_count": 69,
   "metadata": {},
   "outputs": [
    {
     "data": {
      "text/plain": [
       "{'b': 1, 'c': 2}"
      ]
     },
     "execution_count": 69,
     "metadata": {},
     "output_type": "execute_result"
    }
   ],
   "source": [
    "dict(zip(a, b))"
   ]
  },
  {
   "cell_type": "code",
   "execution_count": 70,
   "metadata": {},
   "outputs": [
    {
     "data": {
      "text/plain": [
       "[0, 0, 0, 4, 5]"
      ]
     },
     "execution_count": 70,
     "metadata": {},
     "output_type": "execute_result"
    }
   ],
   "source": [
    "def map_func(i):\n",
    "    if i > 3:\n",
    "        return i\n",
    "    else:\n",
    "        return 0\n",
    "    \n",
    "c = [1, 2, 3, 4, 5]\n",
    "list(map(lambda x: map_func(x), c))"
   ]
  },
  {
   "cell_type": "code",
   "execution_count": 71,
   "metadata": {},
   "outputs": [
    {
     "data": {
      "text/plain": [
       "[4, 5]"
      ]
     },
     "execution_count": 71,
     "metadata": {},
     "output_type": "execute_result"
    }
   ],
   "source": [
    "list(filter(lambda x: map_func(x), c))"
   ]
  },
  {
   "cell_type": "code",
   "execution_count": 72,
   "metadata": {},
   "outputs": [
    {
     "name": "stdout",
     "output_type": "stream",
     "text": [
      "<_io.TextIOWrapper name='test.txt' mode='r+' encoding='UTF-8'>\n",
      "0 Первая строка\n",
      "\n",
      "1 Вторая строка\n",
      "\n",
      "2 Третья строкаЕще одна строкаЕще одна строкаЕще одна строка\n",
      "\n",
      "3 Еще одна строка\n",
      "\n",
      "4 Еще одна строка\n",
      "\n",
      "5 Еще одна строка\n",
      "\n",
      "6 Еще одна строка\n",
      "\n",
      "7 Еще одна строка\n"
     ]
    }
   ],
   "source": [
    "with open('test.txt', 'r+') as file:\n",
    "    print(file)\n",
    "    for index, i in enumerate(file):\n",
    "        print(index, i)\n",
    "\n",
    "    file.write('\\nЕще одна строка', )\n",
    "        "
   ]
  },
  {
   "cell_type": "code",
   "execution_count": 73,
   "metadata": {},
   "outputs": [],
   "source": [
    "# Пример того что переменная это ссылка на объект. и если объект изменяемый, то можнт вот такой прикол \n",
    "# случится\n",
    "sp1 = [1, 2, 3]\n",
    "sp2 = sp1"
   ]
  },
  {
   "cell_type": "code",
   "execution_count": 74,
   "metadata": {},
   "outputs": [
    {
     "data": {
      "text/plain": [
       "[1, 2, 3, 4]"
      ]
     },
     "execution_count": 74,
     "metadata": {},
     "output_type": "execute_result"
    }
   ],
   "source": [
    "sp2.append(4)\n",
    "sp1"
   ]
  },
  {
   "cell_type": "code",
   "execution_count": 75,
   "metadata": {},
   "outputs": [],
   "source": [
    "del sp2[0]"
   ]
  },
  {
   "cell_type": "code",
   "execution_count": 76,
   "metadata": {},
   "outputs": [
    {
     "data": {
      "text/plain": [
       "[2, 3, 4]"
      ]
     },
     "execution_count": 76,
     "metadata": {},
     "output_type": "execute_result"
    }
   ],
   "source": [
    "sp1"
   ]
  },
  {
   "cell_type": "code",
   "execution_count": 77,
   "metadata": {},
   "outputs": [],
   "source": [
    "# Пример использования этого ссылочного свойства в функциях.\n",
    "sp3 = [1, 2, 3, 4, 5]\n",
    "def change_list(l):\n",
    "    l.append('new')\n",
    "\n",
    "change_list(sp3)"
   ]
  },
  {
   "cell_type": "code",
   "execution_count": 78,
   "metadata": {},
   "outputs": [
    {
     "data": {
      "text/plain": [
       "[1, 2, 3, 4, 5, 'new']"
      ]
     },
     "execution_count": 78,
     "metadata": {},
     "output_type": "execute_result"
    }
   ],
   "source": [
    "sp3"
   ]
  },
  {
   "cell_type": "code",
   "execution_count": 79,
   "metadata": {},
   "outputs": [
    {
     "data": {
      "text/plain": [
       "[1, 2, 3, 4, 5, 'new']"
      ]
     },
     "execution_count": 79,
     "metadata": {},
     "output_type": "execute_result"
    }
   ],
   "source": [
    "# Используя полный срез [ : ], вы получите только поверхностную копию, вложенные изменяемые\n",
    "# объекты так и останутся ссылками.\n",
    "change_list(sp3[:])\n",
    "sp3"
   ]
  },
  {
   "cell_type": "code",
   "execution_count": 80,
   "metadata": {},
   "outputs": [],
   "source": [
    "# Примеры косяков с циклами\n",
    "sp4 = [1, -1, -8, 2, 3, -3, -11, 4, -2]\n"
   ]
  },
  {
   "cell_type": "code",
   "execution_count": 81,
   "metadata": {},
   "outputs": [
    {
     "name": "stdout",
     "output_type": "stream",
     "text": [
      "1\n",
      "-1\n",
      "2\n",
      "3\n",
      "-3\n",
      "4\n",
      "-2\n"
     ]
    },
    {
     "data": {
      "text/plain": [
       "[1, -8, 2, 3, -11, 4]"
      ]
     },
     "execution_count": 81,
     "metadata": {},
     "output_type": "execute_result"
    }
   ],
   "source": [
    "for value in sp4:\n",
    "    print(value)\n",
    "    if value < 0:\n",
    "        sp4.remove(value)\n",
    "sp4"
   ]
  },
  {
   "cell_type": "code",
   "execution_count": 82,
   "metadata": {},
   "outputs": [
    {
     "name": "stdout",
     "output_type": "stream",
     "text": [
      "Bob\n"
     ]
    }
   ],
   "source": [
    "d = {'name': 'Bob'}\n",
    "print(d.get('name') if d.get('name') else 'Безимянный')"
   ]
  },
  {
   "cell_type": "code",
   "execution_count": 83,
   "metadata": {},
   "outputs": [
    {
     "data": {
      "text/plain": [
       "True"
      ]
     },
     "execution_count": 83,
     "metadata": {},
     "output_type": "execute_result"
    }
   ],
   "source": [
    "sp5 = [1, 2]\n",
    "sp6 = sp5\n",
    "sp5 is sp6"
   ]
  },
  {
   "cell_type": "code",
   "execution_count": 84,
   "metadata": {},
   "outputs": [
    {
     "data": {
      "text/plain": [
       "False"
      ]
     },
     "execution_count": 84,
     "metadata": {},
     "output_type": "execute_result"
    }
   ],
   "source": [
    "sp7 = [1, 2]\n",
    "sp5 is sp7"
   ]
  },
  {
   "cell_type": "code",
   "execution_count": 85,
   "metadata": {},
   "outputs": [
    {
     "data": {
      "text/plain": [
       "[0, 1, 2, 3, 4, 5, 6, 7, 8, 9, 10]"
      ]
     },
     "execution_count": 85,
     "metadata": {},
     "output_type": "execute_result"
    }
   ],
   "source": [
    "sp8 = [i for i in range(0, 11)]\n",
    "sp8"
   ]
  },
  {
   "cell_type": "code",
   "execution_count": 86,
   "metadata": {},
   "outputs": [
    {
     "data": {
      "text/plain": [
       "<generator object <genexpr> at 0x7f6f5c379308>"
      ]
     },
     "execution_count": 86,
     "metadata": {},
     "output_type": "execute_result"
    }
   ],
   "source": [
    "sp9 = (i for i in range(0, 11))\n",
    "sp9"
   ]
  },
  {
   "cell_type": "code",
   "execution_count": 88,
   "metadata": {},
   "outputs": [
    {
     "data": {
      "text/plain": [
       "1"
      ]
     },
     "execution_count": 88,
     "metadata": {},
     "output_type": "execute_result"
    }
   ],
   "source": [
    "next(sp9)\n"
   ]
  },
  {
   "cell_type": "code",
   "execution_count": 11,
   "metadata": {},
   "outputs": [
    {
     "name": "stdout",
     "output_type": "stream",
     "text": [
      "Тут выполняется else\n",
      "Этот код выполняется finally\n",
      "Код после блока try\n"
     ]
    }
   ],
   "source": [
    "sp10 = [1, '2', 3, '4']\n",
    "try:\n",
    "    sp10[3]\n",
    "#     s = sp10[0] + sp10[2]\n",
    "#     c = sp23[0]\n",
    "except IndexError:\n",
    "    print('Нет такого индекса')\n",
    "except TypeError:\n",
    "    print('Вы складываете разные типы данных')\n",
    "except Exception as e:\n",
    "    print(f'Неведомая ошибка {e}')\n",
    "else:\n",
    "    print('Тут выполняется else')\n",
    "finally:\n",
    "    print('Этот код выполняется finally')\n",
    "\n",
    "print('Код после блока try')"
   ]
  },
  {
   "cell_type": "code",
   "execution_count": 90,
   "metadata": {},
   "outputs": [
    {
     "data": {
      "text/plain": [
       "('sys.path = ',\n",
       " ['/usr/lib64/python36.zip',\n",
       "  '/usr/lib64/python3.6',\n",
       "  '/usr/lib64/python3.6/lib-dynload',\n",
       "  '',\n",
       "  '/home/novozhilovsv/PROJECT/python_next_level/venv/lib64/python3.6/site-packages',\n",
       "  '/home/novozhilovsv/PROJECT/python_next_level/venv/lib64/python3.6/site-packages/setuptools-39.1.0-py3.6.egg',\n",
       "  '/home/novozhilovsv/PROJECT/python_next_level/venv/lib/python3.6/site-packages',\n",
       "  '/home/novozhilovsv/PROJECT/python_next_level/venv/lib/python3.6/site-packages/setuptools-39.1.0-py3.6.egg',\n",
       "  '/home/novozhilovsv/PROJECT/python_next_level/venv/lib64/python3.6/site-packages/IPython/extensions',\n",
       "  '/home/novozhilovsv/.ipython'])"
      ]
     },
     "execution_count": 90,
     "metadata": {},
     "output_type": "execute_result"
    }
   ],
   "source": [
    "# Пути поиска модулей при import`e \n",
    "import sys\n",
    "'sys.path = ', sys.path"
   ]
  },
  {
   "cell_type": "code",
   "execution_count": 91,
   "metadata": {},
   "outputs": [],
   "source": [
    "# sys.modules{str: types.ModuleType}\n",
    "#Словарь уже загруженных в Питон модулей.\n",
    "# sys.modules"
   ]
  },
  {
   "cell_type": "code",
   "execution_count": 92,
   "metadata": {},
   "outputs": [
    {
     "name": "stdout",
     "output_type": "stream",
     "text": [
      "/home/novozhilovsv/PROJECT/python_next_level\n"
     ]
    }
   ],
   "source": [
    "import os\n",
    "print(os.getcwd())"
   ]
  },
  {
   "cell_type": "code",
   "execution_count": 93,
   "metadata": {},
   "outputs": [
    {
     "name": "stdout",
     "output_type": "stream",
     "text": [
      "['/home/novozhilovsv/PROJECT/python_next_level/venv/lib64/python3.6/site-packages/ipykernel_launcher.py', '-f', '/run/user/1000/jupyter/kernel-9d3ed1a3-e9ab-482e-81de-2b941fd0b74e.json']\n"
     ]
    }
   ],
   "source": [
    "# Запуск скрипта из консоли с параметрами\n",
    "# > python3 my_script.py param1 param2 param3\n",
    "\n",
    "import sys\n",
    "print(sys.argv)"
   ]
  },
  {
   "cell_type": "code",
   "execution_count": 94,
   "metadata": {},
   "outputs": [],
   "source": [
    "# self._method(self) - инкапсуляция\n",
    "# @property - позволяет обращаться к методу как к атрибуту\n",
    "# .class_room() --> .class_room\n",
    "\n",
    "\n",
    "class Man():\n",
    "    def __init__(self, name, age):\n",
    "        self.name = name\n",
    "        self.age = age\n",
    "        \n",
    "    @property\n",
    "    def _check_age(self):\n",
    "        if self.age < 18:\n",
    "            return False\n",
    "        else:\n",
    "            return True\n",
    "    \n",
    "    def buy_alco(self):\n",
    "        if self._check_age:\n",
    "            return 'ok'\n",
    "        else:\n",
    "            return 'Ты слишком молод дружок'\n",
    "    \n",
    "    @property\n",
    "    def birhday(self):\n",
    "        self.age += 1\n",
    "        return self.age"
   ]
  },
  {
   "cell_type": "code",
   "execution_count": 95,
   "metadata": {},
   "outputs": [],
   "source": [
    "man = Man('Вася', 15)"
   ]
  },
  {
   "cell_type": "code",
   "execution_count": 96,
   "metadata": {},
   "outputs": [
    {
     "data": {
      "text/plain": [
       "16"
      ]
     },
     "execution_count": 96,
     "metadata": {},
     "output_type": "execute_result"
    }
   ],
   "source": [
    "man.birhday"
   ]
  },
  {
   "cell_type": "code",
   "execution_count": 97,
   "metadata": {},
   "outputs": [
    {
     "data": {
      "text/plain": [
       "'Ты слишком молод дружок'"
      ]
     },
     "execution_count": 97,
     "metadata": {},
     "output_type": "execute_result"
    }
   ],
   "source": [
    "man.buy_alco()"
   ]
  },
  {
   "cell_type": "code",
   "execution_count": 98,
   "metadata": {},
   "outputs": [],
   "source": [
    "# Добавляем новый атрибут в класс, и добавляем новый метод\n",
    "class OldMan(Man):\n",
    "    def __init__(self, name, age, is_old):\n",
    "        super().__init__(name, age)\n",
    "        self.is_old = is_old\n",
    "        \n",
    "    def __add__(self, other):\n",
    "        return OldMan(self.name + other.name, self.age + other.age, self.is_old)\n",
    "    \n",
    "    def __str__(self):\n",
    "        return f'Объект OldMan с именем => {self.name} в возрасте => {self.age}'\n",
    "    \n",
    "    def __repr__(self):\n",
    "        return f'name : {self.name}, age: {self.age}'\n",
    "    \n",
    "    def get_help(self):\n",
    "        return 'Выдана помощь'"
   ]
  },
  {
   "cell_type": "code",
   "execution_count": 99,
   "metadata": {},
   "outputs": [
    {
     "name": "stdout",
     "output_type": "stream",
     "text": [
      "Объект OldMan с именем => Дедушка в возрасте => 65\n",
      "Объект OldMan с именем => ДедушкаБабушка в возрасте => 140\n"
     ]
    }
   ],
   "source": [
    "old = OldMan('Дедушка', 65, True)\n",
    "old2 = OldMan('Бабушка', 75, True)\n",
    "print(old)\n",
    "old3 = old + old2\n",
    "print(old3)"
   ]
  },
  {
   "cell_type": "code",
   "execution_count": 100,
   "metadata": {},
   "outputs": [
    {
     "data": {
      "text/plain": [
       "'Выдана помощь'"
      ]
     },
     "execution_count": 100,
     "metadata": {},
     "output_type": "execute_result"
    }
   ],
   "source": [
    "old.get_help()"
   ]
  },
  {
   "cell_type": "code",
   "execution_count": 101,
   "metadata": {},
   "outputs": [
    {
     "data": {
      "text/plain": [
       "name : Бабушка, age: 75"
      ]
     },
     "execution_count": 101,
     "metadata": {},
     "output_type": "execute_result"
    }
   ],
   "source": [
    "old2"
   ]
  },
  {
   "cell_type": "code",
   "execution_count": 102,
   "metadata": {},
   "outputs": [
    {
     "data": {
      "text/plain": [
       "True"
      ]
     },
     "execution_count": 102,
     "metadata": {},
     "output_type": "execute_result"
    }
   ],
   "source": [
    "old.is_old"
   ]
  },
  {
   "cell_type": "code",
   "execution_count": 103,
   "metadata": {},
   "outputs": [
    {
     "data": {
      "text/plain": [
       "'\\nМагические методы:\\n __new__ - вызывается самым первым при создание объекта класса еще перед __init__\\n \\n__del__ , по сути описывает что происходит, когда до него добирается сборщик мусора.\\n\\n__pos__(self)\\nОпределяет поведение для унарного плюса (+some_object)\\n\\n__neg__(self)\\nОпределяет поведение для отрицания(-some_object)\\n\\n__add__(self, other)\\nСложение\\n\\n__sub__(self, other)\\nВычитание\\n\\ndef __str__(self):  - переопределяет вывод в print()\\n    return f\\'Объект класса name={self.name}\\'\\n    \\n__repr__(self) - вызывается встроенной функцией repr; возвращает \"сырые\" данные, \\nиспользующиеся для внутреннего представления в python.\\n\\n*** Про отличие repr b str\\nЕщё раз: потребитель repr()—программист Питона, который видит это представление в REPL или debugger.\\n\\n'"
      ]
     },
     "execution_count": 103,
     "metadata": {},
     "output_type": "execute_result"
    }
   ],
   "source": [
    "'''\n",
    "Магические методы:\n",
    " __new__ - вызывается самым первым при создание объекта класса еще перед __init__\n",
    " \n",
    "__del__ , по сути описывает что происходит, когда до него добирается сборщик мусора.\n",
    "\n",
    "__pos__(self)\n",
    "Определяет поведение для унарного плюса (+some_object)\n",
    "\n",
    "__neg__(self)\n",
    "Определяет поведение для отрицания(-some_object)\n",
    "\n",
    "__add__(self, other)\n",
    "Сложение\n",
    "\n",
    "__sub__(self, other)\n",
    "Вычитание\n",
    "\n",
    "def __str__(self):  - переопределяет вывод в print()\n",
    "    return f'Объект класса name={self.name}'\n",
    "    \n",
    "__repr__(self) - вызывается встроенной функцией repr; возвращает \"сырые\" данные, \n",
    "использующиеся для внутреннего представления в python.\n",
    "\n",
    "*** Про отличие repr b str\n",
    "Ещё раз: потребитель repr()—программист Питона, который видит это представление в REPL или debugger.\n",
    "\n",
    "'''"
   ]
  },
  {
   "cell_type": "code",
   "execution_count": 104,
   "metadata": {},
   "outputs": [
    {
     "data": {
      "text/plain": [
       "'\\nИтераторы:\\nЕсть магические методы:\\n__iter__() - возвращает объект итератор\\n__next__() - выдает следующий объект последовательности\\n\\nСам список итератором не является, но у него есть волшебный метод, который __iter__ который возвращает итератор\\n* По итератору можно пройтись только один раз!!!\\n* Объект считается итератором, если у него есть метод __next__\\n'"
      ]
     },
     "execution_count": 104,
     "metadata": {},
     "output_type": "execute_result"
    }
   ],
   "source": [
    "'''\n",
    "Итераторы:\n",
    "Есть магические методы:\n",
    "__iter__() - возвращает объект итератор\n",
    "__next__() - выдает следующий объект последовательности\n",
    "\n",
    "Сам список итератором не является, но у него есть волшебный метод, который __iter__ который возвращает итератор\n",
    "* По итератору можно пройтись только один раз!!!\n",
    "* Объект считается итератором, если у него есть метод __next__\n",
    "'''"
   ]
  },
  {
   "cell_type": "code",
   "execution_count": 105,
   "metadata": {},
   "outputs": [
    {
     "data": {
      "text/plain": [
       "<list_iterator at 0x7f6f5c31b2e8>"
      ]
     },
     "execution_count": 105,
     "metadata": {},
     "output_type": "execute_result"
    }
   ],
   "source": [
    "sp11 = [1, 2, 3]\n",
    "iter_obj = sp11.__iter__()\n",
    "iter_obj"
   ]
  },
  {
   "cell_type": "code",
   "execution_count": 106,
   "metadata": {},
   "outputs": [
    {
     "data": {
      "text/plain": [
       "2"
      ]
     },
     "execution_count": 106,
     "metadata": {},
     "output_type": "execute_result"
    }
   ],
   "source": [
    "# Одинаковая запись\n",
    "iter_obj.__next__()\n",
    "next(iter_obj)"
   ]
  },
  {
   "cell_type": "code",
   "execution_count": 107,
   "metadata": {},
   "outputs": [],
   "source": [
    "# Пишем свой итератор\n",
    "class IterObj():\n",
    "    def __init__(self, start=0):\n",
    "        self.start = start\n",
    "        \n",
    "    def __next__(self):\n",
    "        self.start += 1\n",
    "        if self.start <= 5:\n",
    "            return self.start\n",
    "        else:\n",
    "            raise StopIteration  # raise - Возбуждает указанное исключение"
   ]
  },
  {
   "cell_type": "code",
   "execution_count": 108,
   "metadata": {},
   "outputs": [],
   "source": [
    "test_iter = IterObj()"
   ]
  },
  {
   "cell_type": "code",
   "execution_count": 109,
   "metadata": {},
   "outputs": [
    {
     "data": {
      "text/plain": [
       "1"
      ]
     },
     "execution_count": 109,
     "metadata": {},
     "output_type": "execute_result"
    }
   ],
   "source": [
    "next(test_iter)"
   ]
  },
  {
   "cell_type": "code",
   "execution_count": 110,
   "metadata": {},
   "outputs": [],
   "source": [
    "# Пишем класс, который поддепживает итерацию\n",
    "class SupportIter():\n",
    "    def __init__(self, start=0):\n",
    "        self.start = start\n",
    "    \n",
    "    def __iter__(self):\n",
    "        return IterObj(self.start)"
   ]
  },
  {
   "cell_type": "code",
   "execution_count": 111,
   "metadata": {},
   "outputs": [
    {
     "data": {
      "text/plain": [
       "<__main__.SupportIter at 0x7f6f5c31b198>"
      ]
     },
     "execution_count": 111,
     "metadata": {},
     "output_type": "execute_result"
    }
   ],
   "source": [
    "test_obj = SupportIter()\n",
    "test_obj"
   ]
  },
  {
   "cell_type": "code",
   "execution_count": 112,
   "metadata": {},
   "outputs": [
    {
     "name": "stdout",
     "output_type": "stream",
     "text": [
      "1\n",
      "2\n",
      "3\n",
      "4\n",
      "5\n"
     ]
    }
   ],
   "source": [
    "for i in test_obj:\n",
    "    print(i)"
   ]
  },
  {
   "cell_type": "code",
   "execution_count": 113,
   "metadata": {},
   "outputs": [],
   "source": [
    "map_iter = map(int, '123')"
   ]
  },
  {
   "cell_type": "code",
   "execution_count": 114,
   "metadata": {},
   "outputs": [
    {
     "data": {
      "text/plain": [
       "1"
      ]
     },
     "execution_count": 114,
     "metadata": {},
     "output_type": "execute_result"
    }
   ],
   "source": [
    "next(map_iter)"
   ]
  },
  {
   "cell_type": "code",
   "execution_count": 115,
   "metadata": {},
   "outputs": [],
   "source": [
    "class Iter2():\n",
    "    \n",
    "    def __init__(self, start=0):\n",
    "        self.start = start\n",
    "    \n",
    "    def __iter__(self):\n",
    "        return self\n",
    "    \n",
    "    def __next__(self):\n",
    "        self.start += 1\n",
    "        if self.start <= 5:\n",
    "            return self.start\n",
    "        else:\n",
    "            raise StopIteration\n",
    "            \n",
    "        "
   ]
  },
  {
   "cell_type": "code",
   "execution_count": 116,
   "metadata": {},
   "outputs": [],
   "source": [
    "obj = Iter2()"
   ]
  },
  {
   "cell_type": "code",
   "execution_count": 117,
   "metadata": {},
   "outputs": [
    {
     "name": "stdout",
     "output_type": "stream",
     "text": [
      "1\n",
      "2\n",
      "3\n",
      "4\n",
      "5\n"
     ]
    }
   ],
   "source": [
    "for i in obj:\n",
    "    print(i)"
   ]
  },
  {
   "cell_type": "code",
   "execution_count": null,
   "metadata": {},
   "outputs": [],
   "source": [
    "'''\n",
    "Метод convert_class() принимает автоматический аргумент self, но его не использует. Подобные\n",
    "методы рекомендуется делать статическими. Для этого используется декоратор @staticmethod.\n",
    "'''"
   ]
  },
  {
   "cell_type": "code",
   "execution_count": 118,
   "metadata": {},
   "outputs": [],
   "source": [
    "'''\n",
    "Класс строитель который на вход принимает словар, а возращает объект с ключами-атрибутами\n",
    "'''\n",
    "class Builder():\n",
    "    \n",
    "    def __init__(self, d):\n",
    "        for key, value in d.items():\n",
    "            setattr(self, key, value)\n",
    "            "
   ]
  },
  {
   "cell_type": "code",
   "execution_count": 119,
   "metadata": {},
   "outputs": [],
   "source": [
    "bob = Builder({'name': 'Bob', 'age': 23})"
   ]
  },
  {
   "cell_type": "code",
   "execution_count": 120,
   "metadata": {},
   "outputs": [
    {
     "name": "stdout",
     "output_type": "stream",
     "text": [
      "Bob 23\n"
     ]
    }
   ],
   "source": [
    "print(bob.name, bob.age)"
   ]
  },
  {
   "cell_type": "code",
   "execution_count": 121,
   "metadata": {},
   "outputs": [
    {
     "name": "stdout",
     "output_type": "stream",
     "text": [
      "Ошибка\n"
     ]
    }
   ],
   "source": [
    "'''\n",
    "Создаем свои классы с исключениями\n",
    "'''\n",
    "\n",
    "class ShotWordError(Exception):\n",
    "    \n",
    "    def __init__(self, length):\n",
    "        Exception.__init__(self)\n",
    "        self.length = length\n",
    "        \n",
    "    def __str__(self):\n",
    "        return f'ShotWordExeption: Слово слишком короткое, длинна строки {self.length} должно быть как минимум 3'\n",
    "        \n",
    "def chek_length(word):\n",
    "    if len(word) < 3:\n",
    "        raise ShotWordError(len(word))\n",
    "        \n",
    "\n",
    "try:\n",
    "    chek_length('ok')\n",
    "except ShotWordError:\n",
    "    print('Ошибка')\n",
    "    "
   ]
  },
  {
   "cell_type": "code",
   "execution_count": 122,
   "metadata": {},
   "outputs": [
    {
     "ename": "ShotWordError",
     "evalue": "ShotWordExeption: Слово слишком короткое, длинна строки 2 должно быть как минимум 3",
     "output_type": "error",
     "traceback": [
      "\u001b[0;31m---------------------------------------------------------------------------\u001b[0m",
      "\u001b[0;31mShotWordError\u001b[0m                             Traceback (most recent call last)",
      "\u001b[0;32m<ipython-input-122-175bd42dfca6>\u001b[0m in \u001b[0;36m<module>\u001b[0;34m\u001b[0m\n\u001b[0;32m----> 1\u001b[0;31m \u001b[0mchek_length\u001b[0m\u001b[0;34m(\u001b[0m\u001b[0;34m'ok'\u001b[0m\u001b[0;34m)\u001b[0m\u001b[0;34m\u001b[0m\u001b[0;34m\u001b[0m\u001b[0m\n\u001b[0m",
      "\u001b[0;32m<ipython-input-121-ed735436d864>\u001b[0m in \u001b[0;36mchek_length\u001b[0;34m(word)\u001b[0m\n\u001b[1;32m     14\u001b[0m \u001b[0;32mdef\u001b[0m \u001b[0mchek_length\u001b[0m\u001b[0;34m(\u001b[0m\u001b[0mword\u001b[0m\u001b[0;34m)\u001b[0m\u001b[0;34m:\u001b[0m\u001b[0;34m\u001b[0m\u001b[0;34m\u001b[0m\u001b[0m\n\u001b[1;32m     15\u001b[0m     \u001b[0;32mif\u001b[0m \u001b[0mlen\u001b[0m\u001b[0;34m(\u001b[0m\u001b[0mword\u001b[0m\u001b[0;34m)\u001b[0m \u001b[0;34m<\u001b[0m \u001b[0;36m3\u001b[0m\u001b[0;34m:\u001b[0m\u001b[0;34m\u001b[0m\u001b[0;34m\u001b[0m\u001b[0m\n\u001b[0;32m---> 16\u001b[0;31m         \u001b[0;32mraise\u001b[0m \u001b[0mShotWordError\u001b[0m\u001b[0;34m(\u001b[0m\u001b[0mlen\u001b[0m\u001b[0;34m(\u001b[0m\u001b[0mword\u001b[0m\u001b[0;34m)\u001b[0m\u001b[0;34m)\u001b[0m\u001b[0;34m\u001b[0m\u001b[0;34m\u001b[0m\u001b[0m\n\u001b[0m\u001b[1;32m     17\u001b[0m \u001b[0;34m\u001b[0m\u001b[0m\n\u001b[1;32m     18\u001b[0m \u001b[0;34m\u001b[0m\u001b[0m\n",
      "\u001b[0;31mShotWordError\u001b[0m: ShotWordExeption: Слово слишком короткое, длинна строки 2 должно быть как минимум 3"
     ]
    }
   ],
   "source": [
    "chek_length('ok')"
   ]
  },
  {
   "cell_type": "code",
   "execution_count": 123,
   "metadata": {},
   "outputs": [],
   "source": [
    "'''\n",
    "Рекурсия - функция вызывающая сама себя\n",
    "Базовый случай - это когда функция перестает вызываться и возвращает нужное значение\n",
    "шаг рекурсии = > условие для выполнения шага\n",
    "'''\n",
    "def func(a, b):\n",
    "    '''\n",
    "    >>> func(2, 5):\n",
    "    '2, 3, 4, 5'\n",
    "    '''\n",
    "    if a == b:\n",
    "        return f'{a}'\n",
    "    \n",
    "    if a > b:\n",
    "        return f'{a}, {func(a - 1, b)}'\n",
    "    else:\n",
    "        return f'{a}, {func(a + 1, b)}'\n"
   ]
  },
  {
   "cell_type": "code",
   "execution_count": 124,
   "metadata": {},
   "outputs": [
    {
     "data": {
      "text/plain": [
       "'4, 5, 6, 7, 8, 9'"
      ]
     },
     "execution_count": 124,
     "metadata": {},
     "output_type": "execute_result"
    }
   ],
   "source": [
    "func(4, 9)"
   ]
  },
  {
   "cell_type": "code",
   "execution_count": null,
   "metadata": {},
   "outputs": [],
   "source": [
    "'''\n",
    "ПРО ПАМЯТЬ\n",
    "Когда делаем что то типа a = 'первая строка' + 'вторая строка'\n",
    "То в памяти резирвируется место под новый объект, туда копируется содержимое первой строки, потом второй, \n",
    "и далее устанавливается ссылка в переменной на этот новый объект\n",
    "'''"
   ]
  },
  {
   "cell_type": "code",
   "execution_count": 125,
   "metadata": {},
   "outputs": [
    {
     "name": "stdout",
     "output_type": "stream",
     "text": [
      "[1, 2, 3, 4, 5] [1, 2, 3]\n"
     ]
    }
   ],
   "source": [
    "# ссылочная структура, но тут ссылка на массив 1, 2, 3 осталась в b\n",
    "a = [1, 2, 3]\n",
    "b = a\n",
    "a = a + [4, 5]\n",
    "print(a, b)\n"
   ]
  },
  {
   "cell_type": "code",
   "execution_count": 126,
   "metadata": {},
   "outputs": [
    {
     "name": "stdout",
     "output_type": "stream",
     "text": [
      "[1, 2, 3, 4, 5] [1, 2, 3, 4, 5]\n"
     ]
    }
   ],
   "source": [
    "# операция += аналогична extend и мы просим добавить к объекту новые элементы\n",
    "a = [1, 2, 3]\n",
    "b = a\n",
    "a += [4, 5]\n",
    "# a.extend(4, 5)\n",
    "print(a, b)"
   ]
  },
  {
   "cell_type": "code",
   "execution_count": 127,
   "metadata": {},
   "outputs": [
    {
     "name": "stdout",
     "output_type": "stream",
     "text": [
      "[[' ', ' ', ' '], [' ', ' ', ' '], [' ', ' ', ' ']]\n",
      "[['X', ' ', ' '], ['X', ' ', ' '], ['X', ' ', ' ']]\n"
     ]
    },
    {
     "data": {
      "text/plain": [
       "\"\\nПаврильно создавать такие матрицы при помощи генератора скиска [[' '] * 3 for _ in range(3)]\\n\""
      ]
     },
     "execution_count": 127,
     "metadata": {},
     "output_type": "execute_result"
    }
   ],
   "source": [
    "row = [' '] * 3\n",
    "board = [row] * 3\n",
    "print(board)\n",
    "board[0][0] = 'X'\n",
    "print(board)\n",
    "'''\n",
    "Паврильно создавать такие матрицы при помощи генератора скиска [[' '] * 3 for _ in range(3)]\n",
    "'''"
   ]
  },
  {
   "cell_type": "code",
   "execution_count": null,
   "metadata": {},
   "outputs": [],
   "source": [
    "'''\n",
    "Генератор это функция (с yeild)\n",
    "Итератор - это объект у которого есть метод __next__\n",
    "'''"
   ]
  },
  {
   "cell_type": "code",
   "execution_count": null,
   "metadata": {},
   "outputs": [],
   "source": [
    "# Пример макисмлаьно большого числа\n",
    "float('inf') "
   ]
  },
  {
   "cell_type": "code",
   "execution_count": null,
   "metadata": {},
   "outputs": [],
   "source": [
    "'''\n",
    "Оценка сложности алгоритма\n",
    "O(n) - линейная\n",
    "O(n**2) - квадратичная (парабола)\n",
    "O(log(n)) - логарифмическая  БИНАРНЫЙ ПОИСК\n",
    "O(n!) === O(2**n) - О от n факториал  задача о рюкзаке например.. связанная с перебором всех вариантов\n",
    "'''"
   ]
  },
  {
   "cell_type": "code",
   "execution_count": 128,
   "metadata": {},
   "outputs": [
    {
     "name": "stdout",
     "output_type": "stream",
     "text": [
      "0.8203172580106184\n"
     ]
    }
   ],
   "source": [
    "import timeit\n",
    "# Пример генератора, и ифами\n",
    "b = [i for i in range(100) if i % 2 == 0]\n",
    "\n",
    "# Пример замера времени\n",
    "print(timeit.timeit('b = [i for i in range(100000)]', number=100)) "
   ]
  },
  {
   "cell_type": "code",
   "execution_count": 130,
   "metadata": {},
   "outputs": [
    {
     "name": "stdout",
     "output_type": "stream",
     "text": [
      "         100009 function calls in 2.971 seconds\n",
      "\n",
      "   Ordered by: standard name\n",
      "\n",
      "   ncalls  tottime  percall  cumtime  percall filename:lineno(function)\n",
      "        1    0.000    0.000    0.000    0.000 <ipython-input-130-8a9f5f74a614>:12(pop_list)\n",
      "        1    0.000    0.000    2.971    2.971 <ipython-input-130-8a9f5f74a614>:16(main)\n",
      "        1    0.000    0.000    0.011    0.011 <ipython-input-130-8a9f5f74a614>:4(gen_list)\n",
      "        1    0.011    0.011    0.011    0.011 <ipython-input-130-8a9f5f74a614>:5(<listcomp>)\n",
      "        1    0.087    0.087    2.960    2.960 <ipython-input-130-8a9f5f74a614>:8(remove_list)\n",
      "        1    0.000    0.000    2.971    2.971 <string>:1(<module>)\n",
      "        1    0.000    0.000    2.971    2.971 {built-in method builtins.exec}\n",
      "        1    0.000    0.000    0.000    0.000 {built-in method builtins.len}\n",
      "        1    0.000    0.000    0.000    0.000 {method 'disable' of '_lsprof.Profiler' objects}\n",
      "   100000    2.873    0.000    2.873    0.000 {method 'remove' of 'list' objects}\n",
      "\n",
      "\n"
     ]
    }
   ],
   "source": [
    "# Еще один способ замеров времени работы кода\n",
    "import cProfile\n",
    "\n",
    "def gen_list(n):\n",
    "    l = [i for i in range(n)]\n",
    "    return l\n",
    "\n",
    "def remove_list(n):\n",
    "    for i in n[:]:\n",
    "        n.remove(i)\n",
    "\n",
    "def pop_list(n):\n",
    "    while len(n) > 0:\n",
    "        n.pop()\n",
    "  \n",
    "def main(n):\n",
    "    l = gen_list(n)\n",
    "    remove_list(l)\n",
    "    pop_list(l)\n",
    "    \n",
    "cProfile.run('main(100000)') "
   ]
  },
  {
   "cell_type": "code",
   "execution_count": 131,
   "metadata": {},
   "outputs": [
    {
     "data": {
      "text/plain": [
       "140116724072768"
      ]
     },
     "execution_count": 131,
     "metadata": {},
     "output_type": "execute_result"
    }
   ],
   "source": [
    "'''\n",
    "Есть счетчик ссылок на область памяти.\n",
    "Если ссылок на облатсь нет, то объект удалчется из памяти сборщиком мусора.\n",
    "\n",
    "можно заранее зарезервировать по список память, чтобы потом не тратилось время на выделение\n",
    "a = [None] * 1000\n",
    "'''\n",
    "a = 100\n",
    "id(a)\n"
   ]
  },
  {
   "cell_type": "code",
   "execution_count": 132,
   "metadata": {},
   "outputs": [
    {
     "data": {
      "text/plain": [
       "140116724072768"
      ]
     },
     "execution_count": 132,
     "metadata": {},
     "output_type": "execute_result"
    }
   ],
   "source": [
    "b = 125- 25\n",
    "id(b)"
   ]
  },
  {
   "cell_type": "code",
   "execution_count": 137,
   "metadata": {},
   "outputs": [
    {
     "name": "stdout",
     "output_type": "stream",
     "text": [
      "140116265117896\n",
      "140116724077568\n"
     ]
    }
   ],
   "source": [
    "'''\n",
    "числа от -5 до 256 хранятся в памяти заранее.. и соответсвенно ссылки на них одинаовые\n",
    "'''\n",
    "с = 250\n",
    "print(id(c))\n",
    "d = 253 - 3\n",
    "print(id(d))"
   ]
  },
  {
   "cell_type": "code",
   "execution_count": 176,
   "metadata": {},
   "outputs": [
    {
     "data": {
      "text/plain": [
       "28"
      ]
     },
     "execution_count": 176,
     "metadata": {},
     "output_type": "execute_result"
    }
   ],
   "source": [
    "'''\n",
    "Место в памяти\n",
    "1000000000000000000\n",
    "36 байт\n",
    "1000 000 000\n",
    "28 байт\n",
    "'''\n",
    "import sys\n",
    "\n",
    "sys.getsizeof(1000000000)"
   ]
  },
  {
   "cell_type": "code",
   "execution_count": 147,
   "metadata": {},
   "outputs": [
    {
     "data": {
      "text/plain": [
       "51"
      ]
     },
     "execution_count": 147,
     "metadata": {},
     "output_type": "execute_result"
    }
   ],
   "source": [
    "sys.getsizeof('da')"
   ]
  },
  {
   "cell_type": "code",
   "execution_count": 8,
   "metadata": {},
   "outputs": [
    {
     "name": "stdout",
     "output_type": "stream",
     "text": [
      " type = <class 'list'>, size = 912, obj = [0, 1, 2, 3, 4, 5, 6, 7, 8, 9, 10, 11, 12, 13, 14, 15, 16, 17, 18, 19, 20, 21, 22, 23, 24, 25, 26, 27, 28, 29, 30, 31, 32, 33, 34, 35, 36, 37, 38, 39, 40, 41, 42, 43, 44, 45, 46, 47, 48, 49, 50, 51, 52, 53, 54, 55, 56, 57, 58, 59, 60, 61, 62, 63, 64, 65, 66, 67, 68, 69, 70, 71, 72, 73, 74, 75, 76, 77, 78, 79, 80, 81, 82, 83, 84, 85, 86, 87, 88, 89, 90, 91, 92, 93, 94, 95, 96, 97, 98, 99]\n",
      "\t type = <class 'int'>, size = 24, obj = 0\n",
      "\t type = <class 'int'>, size = 28, obj = 1\n",
      "\t type = <class 'int'>, size = 28, obj = 2\n",
      "\t type = <class 'int'>, size = 28, obj = 3\n",
      "\t type = <class 'int'>, size = 28, obj = 4\n",
      "\t type = <class 'int'>, size = 28, obj = 5\n",
      "\t type = <class 'int'>, size = 28, obj = 6\n",
      "\t type = <class 'int'>, size = 28, obj = 7\n",
      "\t type = <class 'int'>, size = 28, obj = 8\n",
      "\t type = <class 'int'>, size = 28, obj = 9\n",
      "\t type = <class 'int'>, size = 28, obj = 10\n",
      "\t type = <class 'int'>, size = 28, obj = 11\n",
      "\t type = <class 'int'>, size = 28, obj = 12\n",
      "\t type = <class 'int'>, size = 28, obj = 13\n",
      "\t type = <class 'int'>, size = 28, obj = 14\n",
      "\t type = <class 'int'>, size = 28, obj = 15\n",
      "\t type = <class 'int'>, size = 28, obj = 16\n",
      "\t type = <class 'int'>, size = 28, obj = 17\n",
      "\t type = <class 'int'>, size = 28, obj = 18\n",
      "\t type = <class 'int'>, size = 28, obj = 19\n",
      "\t type = <class 'int'>, size = 28, obj = 20\n",
      "\t type = <class 'int'>, size = 28, obj = 21\n",
      "\t type = <class 'int'>, size = 28, obj = 22\n",
      "\t type = <class 'int'>, size = 28, obj = 23\n",
      "\t type = <class 'int'>, size = 28, obj = 24\n",
      "\t type = <class 'int'>, size = 28, obj = 25\n",
      "\t type = <class 'int'>, size = 28, obj = 26\n",
      "\t type = <class 'int'>, size = 28, obj = 27\n",
      "\t type = <class 'int'>, size = 28, obj = 28\n",
      "\t type = <class 'int'>, size = 28, obj = 29\n",
      "\t type = <class 'int'>, size = 28, obj = 30\n",
      "\t type = <class 'int'>, size = 28, obj = 31\n",
      "\t type = <class 'int'>, size = 28, obj = 32\n",
      "\t type = <class 'int'>, size = 28, obj = 33\n",
      "\t type = <class 'int'>, size = 28, obj = 34\n",
      "\t type = <class 'int'>, size = 28, obj = 35\n",
      "\t type = <class 'int'>, size = 28, obj = 36\n",
      "\t type = <class 'int'>, size = 28, obj = 37\n",
      "\t type = <class 'int'>, size = 28, obj = 38\n",
      "\t type = <class 'int'>, size = 28, obj = 39\n",
      "\t type = <class 'int'>, size = 28, obj = 40\n",
      "\t type = <class 'int'>, size = 28, obj = 41\n",
      "\t type = <class 'int'>, size = 28, obj = 42\n",
      "\t type = <class 'int'>, size = 28, obj = 43\n",
      "\t type = <class 'int'>, size = 28, obj = 44\n",
      "\t type = <class 'int'>, size = 28, obj = 45\n",
      "\t type = <class 'int'>, size = 28, obj = 46\n",
      "\t type = <class 'int'>, size = 28, obj = 47\n",
      "\t type = <class 'int'>, size = 28, obj = 48\n",
      "\t type = <class 'int'>, size = 28, obj = 49\n",
      "\t type = <class 'int'>, size = 28, obj = 50\n",
      "\t type = <class 'int'>, size = 28, obj = 51\n",
      "\t type = <class 'int'>, size = 28, obj = 52\n",
      "\t type = <class 'int'>, size = 28, obj = 53\n",
      "\t type = <class 'int'>, size = 28, obj = 54\n",
      "\t type = <class 'int'>, size = 28, obj = 55\n",
      "\t type = <class 'int'>, size = 28, obj = 56\n",
      "\t type = <class 'int'>, size = 28, obj = 57\n",
      "\t type = <class 'int'>, size = 28, obj = 58\n",
      "\t type = <class 'int'>, size = 28, obj = 59\n",
      "\t type = <class 'int'>, size = 28, obj = 60\n",
      "\t type = <class 'int'>, size = 28, obj = 61\n",
      "\t type = <class 'int'>, size = 28, obj = 62\n",
      "\t type = <class 'int'>, size = 28, obj = 63\n",
      "\t type = <class 'int'>, size = 28, obj = 64\n",
      "\t type = <class 'int'>, size = 28, obj = 65\n",
      "\t type = <class 'int'>, size = 28, obj = 66\n",
      "\t type = <class 'int'>, size = 28, obj = 67\n",
      "\t type = <class 'int'>, size = 28, obj = 68\n",
      "\t type = <class 'int'>, size = 28, obj = 69\n",
      "\t type = <class 'int'>, size = 28, obj = 70\n",
      "\t type = <class 'int'>, size = 28, obj = 71\n",
      "\t type = <class 'int'>, size = 28, obj = 72\n",
      "\t type = <class 'int'>, size = 28, obj = 73\n",
      "\t type = <class 'int'>, size = 28, obj = 74\n",
      "\t type = <class 'int'>, size = 28, obj = 75\n",
      "\t type = <class 'int'>, size = 28, obj = 76\n",
      "\t type = <class 'int'>, size = 28, obj = 77\n",
      "\t type = <class 'int'>, size = 28, obj = 78\n",
      "\t type = <class 'int'>, size = 28, obj = 79\n",
      "\t type = <class 'int'>, size = 28, obj = 80\n",
      "\t type = <class 'int'>, size = 28, obj = 81\n",
      "\t type = <class 'int'>, size = 28, obj = 82\n",
      "\t type = <class 'int'>, size = 28, obj = 83\n",
      "\t type = <class 'int'>, size = 28, obj = 84\n",
      "\t type = <class 'int'>, size = 28, obj = 85\n",
      "\t type = <class 'int'>, size = 28, obj = 86\n",
      "\t type = <class 'int'>, size = 28, obj = 87\n",
      "\t type = <class 'int'>, size = 28, obj = 88\n",
      "\t type = <class 'int'>, size = 28, obj = 89\n",
      "\t type = <class 'int'>, size = 28, obj = 90\n",
      "\t type = <class 'int'>, size = 28, obj = 91\n",
      "\t type = <class 'int'>, size = 28, obj = 92\n",
      "\t type = <class 'int'>, size = 28, obj = 93\n",
      "\t type = <class 'int'>, size = 28, obj = 94\n",
      "\t type = <class 'int'>, size = 28, obj = 95\n",
      "\t type = <class 'int'>, size = 28, obj = 96\n",
      "\t type = <class 'int'>, size = 28, obj = 97\n",
      "\t type = <class 'int'>, size = 28, obj = 98\n",
      "\t type = <class 'int'>, size = 28, obj = 99\n",
      "None\n",
      " type = <class 'generator'>, size = 88, obj = <generator object <genexpr> at 0x7f2e9c549d00>\n",
      "\t type = <class 'int'>, size = 24, obj = 0\n",
      "\t type = <class 'int'>, size = 28, obj = 1\n",
      "\t type = <class 'int'>, size = 28, obj = 2\n",
      "\t type = <class 'int'>, size = 28, obj = 3\n",
      "\t type = <class 'int'>, size = 28, obj = 4\n",
      "\t type = <class 'int'>, size = 28, obj = 5\n",
      "\t type = <class 'int'>, size = 28, obj = 6\n",
      "\t type = <class 'int'>, size = 28, obj = 7\n",
      "\t type = <class 'int'>, size = 28, obj = 8\n",
      "\t type = <class 'int'>, size = 28, obj = 9\n",
      "\t type = <class 'int'>, size = 28, obj = 10\n",
      "\t type = <class 'int'>, size = 28, obj = 11\n",
      "\t type = <class 'int'>, size = 28, obj = 12\n",
      "\t type = <class 'int'>, size = 28, obj = 13\n",
      "\t type = <class 'int'>, size = 28, obj = 14\n",
      "\t type = <class 'int'>, size = 28, obj = 15\n",
      "\t type = <class 'int'>, size = 28, obj = 16\n",
      "\t type = <class 'int'>, size = 28, obj = 17\n",
      "\t type = <class 'int'>, size = 28, obj = 18\n",
      "\t type = <class 'int'>, size = 28, obj = 19\n",
      "\t type = <class 'int'>, size = 28, obj = 20\n",
      "\t type = <class 'int'>, size = 28, obj = 21\n",
      "\t type = <class 'int'>, size = 28, obj = 22\n",
      "\t type = <class 'int'>, size = 28, obj = 23\n",
      "\t type = <class 'int'>, size = 28, obj = 24\n",
      "\t type = <class 'int'>, size = 28, obj = 25\n",
      "\t type = <class 'int'>, size = 28, obj = 26\n",
      "\t type = <class 'int'>, size = 28, obj = 27\n",
      "\t type = <class 'int'>, size = 28, obj = 28\n",
      "\t type = <class 'int'>, size = 28, obj = 29\n",
      "\t type = <class 'int'>, size = 28, obj = 30\n",
      "\t type = <class 'int'>, size = 28, obj = 31\n",
      "\t type = <class 'int'>, size = 28, obj = 32\n",
      "\t type = <class 'int'>, size = 28, obj = 33\n",
      "\t type = <class 'int'>, size = 28, obj = 34\n",
      "\t type = <class 'int'>, size = 28, obj = 35\n",
      "\t type = <class 'int'>, size = 28, obj = 36\n",
      "\t type = <class 'int'>, size = 28, obj = 37\n",
      "\t type = <class 'int'>, size = 28, obj = 38\n",
      "\t type = <class 'int'>, size = 28, obj = 39\n",
      "\t type = <class 'int'>, size = 28, obj = 40\n",
      "\t type = <class 'int'>, size = 28, obj = 41\n",
      "\t type = <class 'int'>, size = 28, obj = 42\n",
      "\t type = <class 'int'>, size = 28, obj = 43\n",
      "\t type = <class 'int'>, size = 28, obj = 44\n",
      "\t type = <class 'int'>, size = 28, obj = 45\n",
      "\t type = <class 'int'>, size = 28, obj = 46\n",
      "\t type = <class 'int'>, size = 28, obj = 47\n",
      "\t type = <class 'int'>, size = 28, obj = 48\n",
      "\t type = <class 'int'>, size = 28, obj = 49\n",
      "\t type = <class 'int'>, size = 28, obj = 50\n",
      "\t type = <class 'int'>, size = 28, obj = 51\n",
      "\t type = <class 'int'>, size = 28, obj = 52\n",
      "\t type = <class 'int'>, size = 28, obj = 53\n",
      "\t type = <class 'int'>, size = 28, obj = 54\n",
      "\t type = <class 'int'>, size = 28, obj = 55\n",
      "\t type = <class 'int'>, size = 28, obj = 56\n",
      "\t type = <class 'int'>, size = 28, obj = 57\n",
      "\t type = <class 'int'>, size = 28, obj = 58\n",
      "\t type = <class 'int'>, size = 28, obj = 59\n",
      "\t type = <class 'int'>, size = 28, obj = 60\n",
      "\t type = <class 'int'>, size = 28, obj = 61\n",
      "\t type = <class 'int'>, size = 28, obj = 62\n",
      "\t type = <class 'int'>, size = 28, obj = 63\n",
      "\t type = <class 'int'>, size = 28, obj = 64\n",
      "\t type = <class 'int'>, size = 28, obj = 65\n",
      "\t type = <class 'int'>, size = 28, obj = 66\n",
      "\t type = <class 'int'>, size = 28, obj = 67\n",
      "\t type = <class 'int'>, size = 28, obj = 68\n",
      "\t type = <class 'int'>, size = 28, obj = 69\n",
      "\t type = <class 'int'>, size = 28, obj = 70\n",
      "\t type = <class 'int'>, size = 28, obj = 71\n",
      "\t type = <class 'int'>, size = 28, obj = 72\n",
      "\t type = <class 'int'>, size = 28, obj = 73\n",
      "\t type = <class 'int'>, size = 28, obj = 74\n",
      "\t type = <class 'int'>, size = 28, obj = 75\n",
      "\t type = <class 'int'>, size = 28, obj = 76\n",
      "\t type = <class 'int'>, size = 28, obj = 77\n",
      "\t type = <class 'int'>, size = 28, obj = 78\n",
      "\t type = <class 'int'>, size = 28, obj = 79\n",
      "\t type = <class 'int'>, size = 28, obj = 80\n",
      "\t type = <class 'int'>, size = 28, obj = 81\n",
      "\t type = <class 'int'>, size = 28, obj = 82\n",
      "\t type = <class 'int'>, size = 28, obj = 83\n",
      "\t type = <class 'int'>, size = 28, obj = 84\n",
      "\t type = <class 'int'>, size = 28, obj = 85\n",
      "\t type = <class 'int'>, size = 28, obj = 86\n",
      "\t type = <class 'int'>, size = 28, obj = 87\n",
      "\t type = <class 'int'>, size = 28, obj = 88\n",
      "\t type = <class 'int'>, size = 28, obj = 89\n",
      "\t type = <class 'int'>, size = 28, obj = 90\n",
      "\t type = <class 'int'>, size = 28, obj = 91\n",
      "\t type = <class 'int'>, size = 28, obj = 92\n",
      "\t type = <class 'int'>, size = 28, obj = 93\n",
      "\t type = <class 'int'>, size = 28, obj = 94\n",
      "\t type = <class 'int'>, size = 28, obj = 95\n",
      "\t type = <class 'int'>, size = 28, obj = 96\n",
      "\t type = <class 'int'>, size = 28, obj = 97\n",
      "\t type = <class 'int'>, size = 28, obj = 98\n",
      "\t type = <class 'int'>, size = 28, obj = 99\n",
      "\t type = <class 'int'>, size = 28, obj = 100\n",
      "\t type = <class 'int'>, size = 28, obj = 101\n",
      "\t type = <class 'int'>, size = 28, obj = 102\n",
      "\t type = <class 'int'>, size = 28, obj = 103\n",
      "\t type = <class 'int'>, size = 28, obj = 104\n",
      "\t type = <class 'int'>, size = 28, obj = 105\n",
      "\t type = <class 'int'>, size = 28, obj = 106\n",
      "\t type = <class 'int'>, size = 28, obj = 107\n",
      "\t type = <class 'int'>, size = 28, obj = 108\n",
      "\t type = <class 'int'>, size = 28, obj = 109\n",
      "\t type = <class 'int'>, size = 28, obj = 110\n",
      "\t type = <class 'int'>, size = 28, obj = 111\n",
      "\t type = <class 'int'>, size = 28, obj = 112\n",
      "\t type = <class 'int'>, size = 28, obj = 113\n",
      "\t type = <class 'int'>, size = 28, obj = 114\n",
      "\t type = <class 'int'>, size = 28, obj = 115\n",
      "\t type = <class 'int'>, size = 28, obj = 116\n",
      "\t type = <class 'int'>, size = 28, obj = 117\n",
      "\t type = <class 'int'>, size = 28, obj = 118\n",
      "\t type = <class 'int'>, size = 28, obj = 119\n",
      "\t type = <class 'int'>, size = 28, obj = 120\n",
      "\t type = <class 'int'>, size = 28, obj = 121\n",
      "\t type = <class 'int'>, size = 28, obj = 122\n",
      "\t type = <class 'int'>, size = 28, obj = 123\n",
      "\t type = <class 'int'>, size = 28, obj = 124\n",
      "\t type = <class 'int'>, size = 28, obj = 125\n",
      "\t type = <class 'int'>, size = 28, obj = 126\n",
      "\t type = <class 'int'>, size = 28, obj = 127\n",
      "\t type = <class 'int'>, size = 28, obj = 128\n",
      "\t type = <class 'int'>, size = 28, obj = 129\n",
      "\t type = <class 'int'>, size = 28, obj = 130\n",
      "\t type = <class 'int'>, size = 28, obj = 131\n",
      "\t type = <class 'int'>, size = 28, obj = 132\n",
      "\t type = <class 'int'>, size = 28, obj = 133\n",
      "\t type = <class 'int'>, size = 28, obj = 134\n",
      "\t type = <class 'int'>, size = 28, obj = 135\n",
      "\t type = <class 'int'>, size = 28, obj = 136\n",
      "\t type = <class 'int'>, size = 28, obj = 137\n",
      "\t type = <class 'int'>, size = 28, obj = 138\n",
      "\t type = <class 'int'>, size = 28, obj = 139\n",
      "\t type = <class 'int'>, size = 28, obj = 140\n",
      "\t type = <class 'int'>, size = 28, obj = 141\n",
      "\t type = <class 'int'>, size = 28, obj = 142\n",
      "\t type = <class 'int'>, size = 28, obj = 143\n",
      "\t type = <class 'int'>, size = 28, obj = 144\n",
      "\t type = <class 'int'>, size = 28, obj = 145\n",
      "\t type = <class 'int'>, size = 28, obj = 146\n",
      "\t type = <class 'int'>, size = 28, obj = 147\n",
      "\t type = <class 'int'>, size = 28, obj = 148\n",
      "\t type = <class 'int'>, size = 28, obj = 149\n",
      "\t type = <class 'int'>, size = 28, obj = 150\n",
      "\t type = <class 'int'>, size = 28, obj = 151\n",
      "\t type = <class 'int'>, size = 28, obj = 152\n",
      "\t type = <class 'int'>, size = 28, obj = 153\n",
      "\t type = <class 'int'>, size = 28, obj = 154\n",
      "\t type = <class 'int'>, size = 28, obj = 155\n",
      "\t type = <class 'int'>, size = 28, obj = 156\n",
      "\t type = <class 'int'>, size = 28, obj = 157\n",
      "\t type = <class 'int'>, size = 28, obj = 158\n",
      "\t type = <class 'int'>, size = 28, obj = 159\n",
      "\t type = <class 'int'>, size = 28, obj = 160\n",
      "\t type = <class 'int'>, size = 28, obj = 161\n",
      "\t type = <class 'int'>, size = 28, obj = 162\n",
      "\t type = <class 'int'>, size = 28, obj = 163\n",
      "\t type = <class 'int'>, size = 28, obj = 164\n",
      "\t type = <class 'int'>, size = 28, obj = 165\n",
      "\t type = <class 'int'>, size = 28, obj = 166\n",
      "\t type = <class 'int'>, size = 28, obj = 167\n",
      "\t type = <class 'int'>, size = 28, obj = 168\n",
      "\t type = <class 'int'>, size = 28, obj = 169\n",
      "\t type = <class 'int'>, size = 28, obj = 170\n",
      "\t type = <class 'int'>, size = 28, obj = 171\n",
      "\t type = <class 'int'>, size = 28, obj = 172\n",
      "\t type = <class 'int'>, size = 28, obj = 173\n",
      "\t type = <class 'int'>, size = 28, obj = 174\n",
      "\t type = <class 'int'>, size = 28, obj = 175\n",
      "\t type = <class 'int'>, size = 28, obj = 176\n",
      "\t type = <class 'int'>, size = 28, obj = 177\n",
      "\t type = <class 'int'>, size = 28, obj = 178\n",
      "\t type = <class 'int'>, size = 28, obj = 179\n",
      "\t type = <class 'int'>, size = 28, obj = 180\n",
      "\t type = <class 'int'>, size = 28, obj = 181\n",
      "\t type = <class 'int'>, size = 28, obj = 182\n",
      "\t type = <class 'int'>, size = 28, obj = 183\n",
      "\t type = <class 'int'>, size = 28, obj = 184\n",
      "\t type = <class 'int'>, size = 28, obj = 185\n",
      "\t type = <class 'int'>, size = 28, obj = 186\n",
      "\t type = <class 'int'>, size = 28, obj = 187\n",
      "\t type = <class 'int'>, size = 28, obj = 188\n",
      "\t type = <class 'int'>, size = 28, obj = 189\n",
      "\t type = <class 'int'>, size = 28, obj = 190\n",
      "\t type = <class 'int'>, size = 28, obj = 191\n",
      "\t type = <class 'int'>, size = 28, obj = 192\n",
      "\t type = <class 'int'>, size = 28, obj = 193\n",
      "\t type = <class 'int'>, size = 28, obj = 194\n",
      "\t type = <class 'int'>, size = 28, obj = 195\n",
      "\t type = <class 'int'>, size = 28, obj = 196\n",
      "\t type = <class 'int'>, size = 28, obj = 197\n",
      "\t type = <class 'int'>, size = 28, obj = 198\n",
      "\t type = <class 'int'>, size = 28, obj = 199\n",
      "\t type = <class 'int'>, size = 28, obj = 200\n",
      "\t type = <class 'int'>, size = 28, obj = 201\n",
      "\t type = <class 'int'>, size = 28, obj = 202\n",
      "\t type = <class 'int'>, size = 28, obj = 203\n",
      "\t type = <class 'int'>, size = 28, obj = 204\n",
      "\t type = <class 'int'>, size = 28, obj = 205\n",
      "\t type = <class 'int'>, size = 28, obj = 206\n",
      "\t type = <class 'int'>, size = 28, obj = 207\n",
      "\t type = <class 'int'>, size = 28, obj = 208\n",
      "\t type = <class 'int'>, size = 28, obj = 209\n",
      "\t type = <class 'int'>, size = 28, obj = 210\n",
      "\t type = <class 'int'>, size = 28, obj = 211\n",
      "\t type = <class 'int'>, size = 28, obj = 212\n",
      "\t type = <class 'int'>, size = 28, obj = 213\n",
      "\t type = <class 'int'>, size = 28, obj = 214\n",
      "\t type = <class 'int'>, size = 28, obj = 215\n",
      "\t type = <class 'int'>, size = 28, obj = 216\n",
      "\t type = <class 'int'>, size = 28, obj = 217\n",
      "\t type = <class 'int'>, size = 28, obj = 218\n",
      "\t type = <class 'int'>, size = 28, obj = 219\n",
      "\t type = <class 'int'>, size = 28, obj = 220\n",
      "\t type = <class 'int'>, size = 28, obj = 221\n",
      "\t type = <class 'int'>, size = 28, obj = 222\n",
      "\t type = <class 'int'>, size = 28, obj = 223\n",
      "\t type = <class 'int'>, size = 28, obj = 224\n",
      "\t type = <class 'int'>, size = 28, obj = 225\n",
      "\t type = <class 'int'>, size = 28, obj = 226\n",
      "\t type = <class 'int'>, size = 28, obj = 227\n",
      "\t type = <class 'int'>, size = 28, obj = 228\n",
      "\t type = <class 'int'>, size = 28, obj = 229\n",
      "\t type = <class 'int'>, size = 28, obj = 230\n",
      "\t type = <class 'int'>, size = 28, obj = 231\n",
      "\t type = <class 'int'>, size = 28, obj = 232\n",
      "\t type = <class 'int'>, size = 28, obj = 233\n",
      "\t type = <class 'int'>, size = 28, obj = 234\n",
      "\t type = <class 'int'>, size = 28, obj = 235\n",
      "\t type = <class 'int'>, size = 28, obj = 236\n",
      "\t type = <class 'int'>, size = 28, obj = 237\n",
      "\t type = <class 'int'>, size = 28, obj = 238\n",
      "\t type = <class 'int'>, size = 28, obj = 239\n",
      "\t type = <class 'int'>, size = 28, obj = 240\n",
      "\t type = <class 'int'>, size = 28, obj = 241\n",
      "\t type = <class 'int'>, size = 28, obj = 242\n",
      "\t type = <class 'int'>, size = 28, obj = 243\n",
      "\t type = <class 'int'>, size = 28, obj = 244\n",
      "\t type = <class 'int'>, size = 28, obj = 245\n",
      "\t type = <class 'int'>, size = 28, obj = 246\n",
      "\t type = <class 'int'>, size = 28, obj = 247\n",
      "\t type = <class 'int'>, size = 28, obj = 248\n",
      "\t type = <class 'int'>, size = 28, obj = 249\n",
      "\t type = <class 'int'>, size = 28, obj = 250\n",
      "\t type = <class 'int'>, size = 28, obj = 251\n",
      "\t type = <class 'int'>, size = 28, obj = 252\n",
      "\t type = <class 'int'>, size = 28, obj = 253\n",
      "\t type = <class 'int'>, size = 28, obj = 254\n",
      "\t type = <class 'int'>, size = 28, obj = 255\n",
      "\t type = <class 'int'>, size = 28, obj = 256\n",
      "\t type = <class 'int'>, size = 28, obj = 257\n",
      "\t type = <class 'int'>, size = 28, obj = 258\n",
      "\t type = <class 'int'>, size = 28, obj = 259\n",
      "\t type = <class 'int'>, size = 28, obj = 260\n",
      "\t type = <class 'int'>, size = 28, obj = 261\n",
      "\t type = <class 'int'>, size = 28, obj = 262\n",
      "\t type = <class 'int'>, size = 28, obj = 263\n",
      "\t type = <class 'int'>, size = 28, obj = 264\n",
      "\t type = <class 'int'>, size = 28, obj = 265\n",
      "\t type = <class 'int'>, size = 28, obj = 266\n",
      "\t type = <class 'int'>, size = 28, obj = 267\n",
      "\t type = <class 'int'>, size = 28, obj = 268\n",
      "\t type = <class 'int'>, size = 28, obj = 269\n",
      "\t type = <class 'int'>, size = 28, obj = 270\n",
      "\t type = <class 'int'>, size = 28, obj = 271\n",
      "\t type = <class 'int'>, size = 28, obj = 272\n",
      "\t type = <class 'int'>, size = 28, obj = 273\n",
      "\t type = <class 'int'>, size = 28, obj = 274\n",
      "\t type = <class 'int'>, size = 28, obj = 275\n",
      "\t type = <class 'int'>, size = 28, obj = 276\n",
      "\t type = <class 'int'>, size = 28, obj = 277\n",
      "\t type = <class 'int'>, size = 28, obj = 278\n",
      "\t type = <class 'int'>, size = 28, obj = 279\n",
      "\t type = <class 'int'>, size = 28, obj = 280\n",
      "\t type = <class 'int'>, size = 28, obj = 281\n",
      "\t type = <class 'int'>, size = 28, obj = 282\n",
      "\t type = <class 'int'>, size = 28, obj = 283\n",
      "\t type = <class 'int'>, size = 28, obj = 284\n",
      "\t type = <class 'int'>, size = 28, obj = 285\n",
      "\t type = <class 'int'>, size = 28, obj = 286\n",
      "\t type = <class 'int'>, size = 28, obj = 287\n",
      "\t type = <class 'int'>, size = 28, obj = 288\n",
      "\t type = <class 'int'>, size = 28, obj = 289\n",
      "\t type = <class 'int'>, size = 28, obj = 290\n",
      "\t type = <class 'int'>, size = 28, obj = 291\n",
      "\t type = <class 'int'>, size = 28, obj = 292\n",
      "\t type = <class 'int'>, size = 28, obj = 293\n",
      "\t type = <class 'int'>, size = 28, obj = 294\n",
      "\t type = <class 'int'>, size = 28, obj = 295\n",
      "\t type = <class 'int'>, size = 28, obj = 296\n",
      "\t type = <class 'int'>, size = 28, obj = 297\n",
      "\t type = <class 'int'>, size = 28, obj = 298\n",
      "\t type = <class 'int'>, size = 28, obj = 299\n",
      "\t type = <class 'int'>, size = 28, obj = 300\n",
      "\t type = <class 'int'>, size = 28, obj = 301\n",
      "\t type = <class 'int'>, size = 28, obj = 302\n",
      "\t type = <class 'int'>, size = 28, obj = 303\n",
      "\t type = <class 'int'>, size = 28, obj = 304\n",
      "\t type = <class 'int'>, size = 28, obj = 305\n",
      "\t type = <class 'int'>, size = 28, obj = 306\n",
      "\t type = <class 'int'>, size = 28, obj = 307\n",
      "\t type = <class 'int'>, size = 28, obj = 308\n",
      "\t type = <class 'int'>, size = 28, obj = 309\n",
      "\t type = <class 'int'>, size = 28, obj = 310\n",
      "\t type = <class 'int'>, size = 28, obj = 311\n",
      "\t type = <class 'int'>, size = 28, obj = 312\n",
      "\t type = <class 'int'>, size = 28, obj = 313\n",
      "\t type = <class 'int'>, size = 28, obj = 314\n",
      "\t type = <class 'int'>, size = 28, obj = 315\n",
      "\t type = <class 'int'>, size = 28, obj = 316\n",
      "\t type = <class 'int'>, size = 28, obj = 317\n",
      "\t type = <class 'int'>, size = 28, obj = 318\n",
      "\t type = <class 'int'>, size = 28, obj = 319\n",
      "\t type = <class 'int'>, size = 28, obj = 320\n",
      "\t type = <class 'int'>, size = 28, obj = 321\n",
      "\t type = <class 'int'>, size = 28, obj = 322\n",
      "\t type = <class 'int'>, size = 28, obj = 323\n",
      "\t type = <class 'int'>, size = 28, obj = 324\n",
      "\t type = <class 'int'>, size = 28, obj = 325\n",
      "\t type = <class 'int'>, size = 28, obj = 326\n",
      "\t type = <class 'int'>, size = 28, obj = 327\n",
      "\t type = <class 'int'>, size = 28, obj = 328\n",
      "\t type = <class 'int'>, size = 28, obj = 329\n",
      "\t type = <class 'int'>, size = 28, obj = 330\n",
      "\t type = <class 'int'>, size = 28, obj = 331\n",
      "\t type = <class 'int'>, size = 28, obj = 332\n",
      "\t type = <class 'int'>, size = 28, obj = 333\n",
      "\t type = <class 'int'>, size = 28, obj = 334\n",
      "\t type = <class 'int'>, size = 28, obj = 335\n",
      "\t type = <class 'int'>, size = 28, obj = 336\n",
      "\t type = <class 'int'>, size = 28, obj = 337\n",
      "\t type = <class 'int'>, size = 28, obj = 338\n",
      "\t type = <class 'int'>, size = 28, obj = 339\n",
      "\t type = <class 'int'>, size = 28, obj = 340\n",
      "\t type = <class 'int'>, size = 28, obj = 341\n",
      "\t type = <class 'int'>, size = 28, obj = 342\n",
      "\t type = <class 'int'>, size = 28, obj = 343\n",
      "\t type = <class 'int'>, size = 28, obj = 344\n",
      "\t type = <class 'int'>, size = 28, obj = 345\n",
      "\t type = <class 'int'>, size = 28, obj = 346\n",
      "\t type = <class 'int'>, size = 28, obj = 347\n",
      "\t type = <class 'int'>, size = 28, obj = 348\n",
      "\t type = <class 'int'>, size = 28, obj = 349\n",
      "\t type = <class 'int'>, size = 28, obj = 350\n",
      "\t type = <class 'int'>, size = 28, obj = 351\n",
      "\t type = <class 'int'>, size = 28, obj = 352\n",
      "\t type = <class 'int'>, size = 28, obj = 353\n",
      "\t type = <class 'int'>, size = 28, obj = 354\n",
      "\t type = <class 'int'>, size = 28, obj = 355\n",
      "\t type = <class 'int'>, size = 28, obj = 356\n",
      "\t type = <class 'int'>, size = 28, obj = 357\n",
      "\t type = <class 'int'>, size = 28, obj = 358\n",
      "\t type = <class 'int'>, size = 28, obj = 359\n",
      "\t type = <class 'int'>, size = 28, obj = 360\n",
      "\t type = <class 'int'>, size = 28, obj = 361\n",
      "\t type = <class 'int'>, size = 28, obj = 362\n",
      "\t type = <class 'int'>, size = 28, obj = 363\n",
      "\t type = <class 'int'>, size = 28, obj = 364\n",
      "\t type = <class 'int'>, size = 28, obj = 365\n",
      "\t type = <class 'int'>, size = 28, obj = 366\n",
      "\t type = <class 'int'>, size = 28, obj = 367\n",
      "\t type = <class 'int'>, size = 28, obj = 368\n",
      "\t type = <class 'int'>, size = 28, obj = 369\n",
      "\t type = <class 'int'>, size = 28, obj = 370\n",
      "\t type = <class 'int'>, size = 28, obj = 371\n",
      "\t type = <class 'int'>, size = 28, obj = 372\n",
      "\t type = <class 'int'>, size = 28, obj = 373\n",
      "\t type = <class 'int'>, size = 28, obj = 374\n",
      "\t type = <class 'int'>, size = 28, obj = 375\n",
      "\t type = <class 'int'>, size = 28, obj = 376\n",
      "\t type = <class 'int'>, size = 28, obj = 377\n",
      "\t type = <class 'int'>, size = 28, obj = 378\n",
      "\t type = <class 'int'>, size = 28, obj = 379\n",
      "\t type = <class 'int'>, size = 28, obj = 380\n",
      "\t type = <class 'int'>, size = 28, obj = 381\n",
      "\t type = <class 'int'>, size = 28, obj = 382\n",
      "\t type = <class 'int'>, size = 28, obj = 383\n",
      "\t type = <class 'int'>, size = 28, obj = 384\n",
      "\t type = <class 'int'>, size = 28, obj = 385\n",
      "\t type = <class 'int'>, size = 28, obj = 386\n",
      "\t type = <class 'int'>, size = 28, obj = 387\n",
      "\t type = <class 'int'>, size = 28, obj = 388\n",
      "\t type = <class 'int'>, size = 28, obj = 389\n",
      "\t type = <class 'int'>, size = 28, obj = 390\n",
      "\t type = <class 'int'>, size = 28, obj = 391\n",
      "\t type = <class 'int'>, size = 28, obj = 392\n",
      "\t type = <class 'int'>, size = 28, obj = 393\n",
      "\t type = <class 'int'>, size = 28, obj = 394\n",
      "\t type = <class 'int'>, size = 28, obj = 395\n",
      "\t type = <class 'int'>, size = 28, obj = 396\n",
      "\t type = <class 'int'>, size = 28, obj = 397\n",
      "\t type = <class 'int'>, size = 28, obj = 398\n",
      "\t type = <class 'int'>, size = 28, obj = 399\n",
      "\t type = <class 'int'>, size = 28, obj = 400\n",
      "\t type = <class 'int'>, size = 28, obj = 401\n",
      "\t type = <class 'int'>, size = 28, obj = 402\n",
      "\t type = <class 'int'>, size = 28, obj = 403\n",
      "\t type = <class 'int'>, size = 28, obj = 404\n",
      "\t type = <class 'int'>, size = 28, obj = 405\n",
      "\t type = <class 'int'>, size = 28, obj = 406\n",
      "\t type = <class 'int'>, size = 28, obj = 407\n",
      "\t type = <class 'int'>, size = 28, obj = 408\n",
      "\t type = <class 'int'>, size = 28, obj = 409\n",
      "\t type = <class 'int'>, size = 28, obj = 410\n",
      "\t type = <class 'int'>, size = 28, obj = 411\n",
      "\t type = <class 'int'>, size = 28, obj = 412\n",
      "\t type = <class 'int'>, size = 28, obj = 413\n",
      "\t type = <class 'int'>, size = 28, obj = 414\n",
      "\t type = <class 'int'>, size = 28, obj = 415\n",
      "\t type = <class 'int'>, size = 28, obj = 416\n",
      "\t type = <class 'int'>, size = 28, obj = 417\n",
      "\t type = <class 'int'>, size = 28, obj = 418\n",
      "\t type = <class 'int'>, size = 28, obj = 419\n",
      "\t type = <class 'int'>, size = 28, obj = 420\n",
      "\t type = <class 'int'>, size = 28, obj = 421\n",
      "\t type = <class 'int'>, size = 28, obj = 422\n",
      "\t type = <class 'int'>, size = 28, obj = 423\n",
      "\t type = <class 'int'>, size = 28, obj = 424\n",
      "\t type = <class 'int'>, size = 28, obj = 425\n",
      "\t type = <class 'int'>, size = 28, obj = 426\n",
      "\t type = <class 'int'>, size = 28, obj = 427\n",
      "\t type = <class 'int'>, size = 28, obj = 428\n",
      "\t type = <class 'int'>, size = 28, obj = 429\n",
      "\t type = <class 'int'>, size = 28, obj = 430\n",
      "\t type = <class 'int'>, size = 28, obj = 431\n",
      "\t type = <class 'int'>, size = 28, obj = 432\n",
      "\t type = <class 'int'>, size = 28, obj = 433\n",
      "\t type = <class 'int'>, size = 28, obj = 434\n",
      "\t type = <class 'int'>, size = 28, obj = 435\n",
      "\t type = <class 'int'>, size = 28, obj = 436\n",
      "\t type = <class 'int'>, size = 28, obj = 437\n",
      "\t type = <class 'int'>, size = 28, obj = 438\n",
      "\t type = <class 'int'>, size = 28, obj = 439\n",
      "\t type = <class 'int'>, size = 28, obj = 440\n",
      "\t type = <class 'int'>, size = 28, obj = 441\n",
      "\t type = <class 'int'>, size = 28, obj = 442\n",
      "\t type = <class 'int'>, size = 28, obj = 443\n",
      "\t type = <class 'int'>, size = 28, obj = 444\n",
      "\t type = <class 'int'>, size = 28, obj = 445\n",
      "\t type = <class 'int'>, size = 28, obj = 446\n",
      "\t type = <class 'int'>, size = 28, obj = 447\n",
      "\t type = <class 'int'>, size = 28, obj = 448\n",
      "\t type = <class 'int'>, size = 28, obj = 449\n",
      "\t type = <class 'int'>, size = 28, obj = 450\n",
      "\t type = <class 'int'>, size = 28, obj = 451\n",
      "\t type = <class 'int'>, size = 28, obj = 452\n",
      "\t type = <class 'int'>, size = 28, obj = 453\n",
      "\t type = <class 'int'>, size = 28, obj = 454\n",
      "\t type = <class 'int'>, size = 28, obj = 455\n",
      "\t type = <class 'int'>, size = 28, obj = 456\n",
      "\t type = <class 'int'>, size = 28, obj = 457\n",
      "\t type = <class 'int'>, size = 28, obj = 458\n",
      "\t type = <class 'int'>, size = 28, obj = 459\n",
      "\t type = <class 'int'>, size = 28, obj = 460\n",
      "\t type = <class 'int'>, size = 28, obj = 461\n",
      "\t type = <class 'int'>, size = 28, obj = 462\n",
      "\t type = <class 'int'>, size = 28, obj = 463\n",
      "\t type = <class 'int'>, size = 28, obj = 464\n",
      "\t type = <class 'int'>, size = 28, obj = 465\n",
      "\t type = <class 'int'>, size = 28, obj = 466\n",
      "\t type = <class 'int'>, size = 28, obj = 467\n",
      "\t type = <class 'int'>, size = 28, obj = 468\n",
      "\t type = <class 'int'>, size = 28, obj = 469\n",
      "\t type = <class 'int'>, size = 28, obj = 470\n",
      "\t type = <class 'int'>, size = 28, obj = 471\n",
      "\t type = <class 'int'>, size = 28, obj = 472\n",
      "\t type = <class 'int'>, size = 28, obj = 473\n",
      "\t type = <class 'int'>, size = 28, obj = 474\n",
      "\t type = <class 'int'>, size = 28, obj = 475\n",
      "\t type = <class 'int'>, size = 28, obj = 476\n",
      "\t type = <class 'int'>, size = 28, obj = 477\n",
      "\t type = <class 'int'>, size = 28, obj = 478\n",
      "\t type = <class 'int'>, size = 28, obj = 479\n",
      "\t type = <class 'int'>, size = 28, obj = 480\n",
      "\t type = <class 'int'>, size = 28, obj = 481\n",
      "\t type = <class 'int'>, size = 28, obj = 482\n",
      "\t type = <class 'int'>, size = 28, obj = 483\n",
      "\t type = <class 'int'>, size = 28, obj = 484\n",
      "\t type = <class 'int'>, size = 28, obj = 485\n",
      "\t type = <class 'int'>, size = 28, obj = 486\n",
      "\t type = <class 'int'>, size = 28, obj = 487\n",
      "\t type = <class 'int'>, size = 28, obj = 488\n",
      "\t type = <class 'int'>, size = 28, obj = 489\n",
      "\t type = <class 'int'>, size = 28, obj = 490\n",
      "\t type = <class 'int'>, size = 28, obj = 491\n",
      "\t type = <class 'int'>, size = 28, obj = 492\n",
      "\t type = <class 'int'>, size = 28, obj = 493\n",
      "\t type = <class 'int'>, size = 28, obj = 494\n",
      "\t type = <class 'int'>, size = 28, obj = 495\n",
      "\t type = <class 'int'>, size = 28, obj = 496\n",
      "\t type = <class 'int'>, size = 28, obj = 497\n",
      "\t type = <class 'int'>, size = 28, obj = 498\n",
      "\t type = <class 'int'>, size = 28, obj = 499\n",
      "\t type = <class 'int'>, size = 28, obj = 500\n",
      "\t type = <class 'int'>, size = 28, obj = 501\n",
      "\t type = <class 'int'>, size = 28, obj = 502\n",
      "\t type = <class 'int'>, size = 28, obj = 503\n",
      "\t type = <class 'int'>, size = 28, obj = 504\n",
      "\t type = <class 'int'>, size = 28, obj = 505\n",
      "\t type = <class 'int'>, size = 28, obj = 506\n",
      "\t type = <class 'int'>, size = 28, obj = 507\n",
      "\t type = <class 'int'>, size = 28, obj = 508\n",
      "\t type = <class 'int'>, size = 28, obj = 509\n",
      "\t type = <class 'int'>, size = 28, obj = 510\n",
      "\t type = <class 'int'>, size = 28, obj = 511\n",
      "\t type = <class 'int'>, size = 28, obj = 512\n",
      "\t type = <class 'int'>, size = 28, obj = 513\n",
      "\t type = <class 'int'>, size = 28, obj = 514\n",
      "\t type = <class 'int'>, size = 28, obj = 515\n",
      "\t type = <class 'int'>, size = 28, obj = 516\n",
      "\t type = <class 'int'>, size = 28, obj = 517\n",
      "\t type = <class 'int'>, size = 28, obj = 518\n",
      "\t type = <class 'int'>, size = 28, obj = 519\n",
      "\t type = <class 'int'>, size = 28, obj = 520\n",
      "\t type = <class 'int'>, size = 28, obj = 521\n",
      "\t type = <class 'int'>, size = 28, obj = 522\n",
      "\t type = <class 'int'>, size = 28, obj = 523\n",
      "\t type = <class 'int'>, size = 28, obj = 524\n",
      "\t type = <class 'int'>, size = 28, obj = 525\n",
      "\t type = <class 'int'>, size = 28, obj = 526\n",
      "\t type = <class 'int'>, size = 28, obj = 527\n",
      "\t type = <class 'int'>, size = 28, obj = 528\n",
      "\t type = <class 'int'>, size = 28, obj = 529\n",
      "\t type = <class 'int'>, size = 28, obj = 530\n",
      "\t type = <class 'int'>, size = 28, obj = 531\n",
      "\t type = <class 'int'>, size = 28, obj = 532\n",
      "\t type = <class 'int'>, size = 28, obj = 533\n",
      "\t type = <class 'int'>, size = 28, obj = 534\n",
      "\t type = <class 'int'>, size = 28, obj = 535\n",
      "\t type = <class 'int'>, size = 28, obj = 536\n",
      "\t type = <class 'int'>, size = 28, obj = 537\n",
      "\t type = <class 'int'>, size = 28, obj = 538\n",
      "\t type = <class 'int'>, size = 28, obj = 539\n",
      "\t type = <class 'int'>, size = 28, obj = 540\n",
      "\t type = <class 'int'>, size = 28, obj = 541\n",
      "\t type = <class 'int'>, size = 28, obj = 542\n",
      "\t type = <class 'int'>, size = 28, obj = 543\n",
      "\t type = <class 'int'>, size = 28, obj = 544\n",
      "\t type = <class 'int'>, size = 28, obj = 545\n",
      "\t type = <class 'int'>, size = 28, obj = 546\n",
      "\t type = <class 'int'>, size = 28, obj = 547\n",
      "\t type = <class 'int'>, size = 28, obj = 548\n",
      "\t type = <class 'int'>, size = 28, obj = 549\n",
      "\t type = <class 'int'>, size = 28, obj = 550\n",
      "\t type = <class 'int'>, size = 28, obj = 551\n",
      "\t type = <class 'int'>, size = 28, obj = 552\n",
      "\t type = <class 'int'>, size = 28, obj = 553\n",
      "\t type = <class 'int'>, size = 28, obj = 554\n",
      "\t type = <class 'int'>, size = 28, obj = 555\n",
      "\t type = <class 'int'>, size = 28, obj = 556\n",
      "\t type = <class 'int'>, size = 28, obj = 557\n",
      "\t type = <class 'int'>, size = 28, obj = 558\n",
      "\t type = <class 'int'>, size = 28, obj = 559\n",
      "\t type = <class 'int'>, size = 28, obj = 560\n",
      "\t type = <class 'int'>, size = 28, obj = 561\n",
      "\t type = <class 'int'>, size = 28, obj = 562\n",
      "\t type = <class 'int'>, size = 28, obj = 563\n",
      "\t type = <class 'int'>, size = 28, obj = 564\n",
      "\t type = <class 'int'>, size = 28, obj = 565\n",
      "\t type = <class 'int'>, size = 28, obj = 566\n",
      "\t type = <class 'int'>, size = 28, obj = 567\n",
      "\t type = <class 'int'>, size = 28, obj = 568\n",
      "\t type = <class 'int'>, size = 28, obj = 569\n",
      "\t type = <class 'int'>, size = 28, obj = 570\n",
      "\t type = <class 'int'>, size = 28, obj = 571\n",
      "\t type = <class 'int'>, size = 28, obj = 572\n",
      "\t type = <class 'int'>, size = 28, obj = 573\n",
      "\t type = <class 'int'>, size = 28, obj = 574\n",
      "\t type = <class 'int'>, size = 28, obj = 575\n",
      "\t type = <class 'int'>, size = 28, obj = 576\n",
      "\t type = <class 'int'>, size = 28, obj = 577\n",
      "\t type = <class 'int'>, size = 28, obj = 578\n",
      "\t type = <class 'int'>, size = 28, obj = 579\n",
      "\t type = <class 'int'>, size = 28, obj = 580\n",
      "\t type = <class 'int'>, size = 28, obj = 581\n",
      "\t type = <class 'int'>, size = 28, obj = 582\n",
      "\t type = <class 'int'>, size = 28, obj = 583\n",
      "\t type = <class 'int'>, size = 28, obj = 584\n",
      "\t type = <class 'int'>, size = 28, obj = 585\n",
      "\t type = <class 'int'>, size = 28, obj = 586\n",
      "\t type = <class 'int'>, size = 28, obj = 587\n",
      "\t type = <class 'int'>, size = 28, obj = 588\n",
      "\t type = <class 'int'>, size = 28, obj = 589\n",
      "\t type = <class 'int'>, size = 28, obj = 590\n",
      "\t type = <class 'int'>, size = 28, obj = 591\n",
      "\t type = <class 'int'>, size = 28, obj = 592\n",
      "\t type = <class 'int'>, size = 28, obj = 593\n",
      "\t type = <class 'int'>, size = 28, obj = 594\n",
      "\t type = <class 'int'>, size = 28, obj = 595\n",
      "\t type = <class 'int'>, size = 28, obj = 596\n",
      "\t type = <class 'int'>, size = 28, obj = 597\n",
      "\t type = <class 'int'>, size = 28, obj = 598\n",
      "\t type = <class 'int'>, size = 28, obj = 599\n",
      "\t type = <class 'int'>, size = 28, obj = 600\n",
      "\t type = <class 'int'>, size = 28, obj = 601\n",
      "\t type = <class 'int'>, size = 28, obj = 602\n",
      "\t type = <class 'int'>, size = 28, obj = 603\n",
      "\t type = <class 'int'>, size = 28, obj = 604\n",
      "\t type = <class 'int'>, size = 28, obj = 605\n",
      "\t type = <class 'int'>, size = 28, obj = 606\n",
      "\t type = <class 'int'>, size = 28, obj = 607\n",
      "\t type = <class 'int'>, size = 28, obj = 608\n",
      "\t type = <class 'int'>, size = 28, obj = 609\n",
      "\t type = <class 'int'>, size = 28, obj = 610\n",
      "\t type = <class 'int'>, size = 28, obj = 611\n",
      "\t type = <class 'int'>, size = 28, obj = 612\n",
      "\t type = <class 'int'>, size = 28, obj = 613\n",
      "\t type = <class 'int'>, size = 28, obj = 614\n",
      "\t type = <class 'int'>, size = 28, obj = 615\n",
      "\t type = <class 'int'>, size = 28, obj = 616\n",
      "\t type = <class 'int'>, size = 28, obj = 617\n",
      "\t type = <class 'int'>, size = 28, obj = 618\n",
      "\t type = <class 'int'>, size = 28, obj = 619\n",
      "\t type = <class 'int'>, size = 28, obj = 620\n",
      "\t type = <class 'int'>, size = 28, obj = 621\n",
      "\t type = <class 'int'>, size = 28, obj = 622\n",
      "\t type = <class 'int'>, size = 28, obj = 623\n",
      "\t type = <class 'int'>, size = 28, obj = 624\n",
      "\t type = <class 'int'>, size = 28, obj = 625\n",
      "\t type = <class 'int'>, size = 28, obj = 626\n",
      "\t type = <class 'int'>, size = 28, obj = 627\n",
      "\t type = <class 'int'>, size = 28, obj = 628\n",
      "\t type = <class 'int'>, size = 28, obj = 629\n",
      "\t type = <class 'int'>, size = 28, obj = 630\n",
      "\t type = <class 'int'>, size = 28, obj = 631\n",
      "\t type = <class 'int'>, size = 28, obj = 632\n",
      "\t type = <class 'int'>, size = 28, obj = 633\n",
      "\t type = <class 'int'>, size = 28, obj = 634\n",
      "\t type = <class 'int'>, size = 28, obj = 635\n",
      "\t type = <class 'int'>, size = 28, obj = 636\n",
      "\t type = <class 'int'>, size = 28, obj = 637\n",
      "\t type = <class 'int'>, size = 28, obj = 638\n",
      "\t type = <class 'int'>, size = 28, obj = 639\n",
      "\t type = <class 'int'>, size = 28, obj = 640\n",
      "\t type = <class 'int'>, size = 28, obj = 641\n",
      "\t type = <class 'int'>, size = 28, obj = 642\n",
      "\t type = <class 'int'>, size = 28, obj = 643\n",
      "\t type = <class 'int'>, size = 28, obj = 644\n",
      "\t type = <class 'int'>, size = 28, obj = 645\n",
      "\t type = <class 'int'>, size = 28, obj = 646\n",
      "\t type = <class 'int'>, size = 28, obj = 647\n",
      "\t type = <class 'int'>, size = 28, obj = 648\n",
      "\t type = <class 'int'>, size = 28, obj = 649\n",
      "\t type = <class 'int'>, size = 28, obj = 650\n",
      "\t type = <class 'int'>, size = 28, obj = 651\n",
      "\t type = <class 'int'>, size = 28, obj = 652\n",
      "\t type = <class 'int'>, size = 28, obj = 653\n",
      "\t type = <class 'int'>, size = 28, obj = 654\n",
      "\t type = <class 'int'>, size = 28, obj = 655\n",
      "\t type = <class 'int'>, size = 28, obj = 656\n",
      "\t type = <class 'int'>, size = 28, obj = 657\n",
      "\t type = <class 'int'>, size = 28, obj = 658\n",
      "\t type = <class 'int'>, size = 28, obj = 659\n",
      "\t type = <class 'int'>, size = 28, obj = 660\n",
      "\t type = <class 'int'>, size = 28, obj = 661\n",
      "\t type = <class 'int'>, size = 28, obj = 662\n",
      "\t type = <class 'int'>, size = 28, obj = 663\n",
      "\t type = <class 'int'>, size = 28, obj = 664\n",
      "\t type = <class 'int'>, size = 28, obj = 665\n",
      "\t type = <class 'int'>, size = 28, obj = 666\n",
      "\t type = <class 'int'>, size = 28, obj = 667\n",
      "\t type = <class 'int'>, size = 28, obj = 668\n",
      "\t type = <class 'int'>, size = 28, obj = 669\n",
      "\t type = <class 'int'>, size = 28, obj = 670\n",
      "\t type = <class 'int'>, size = 28, obj = 671\n",
      "\t type = <class 'int'>, size = 28, obj = 672\n",
      "\t type = <class 'int'>, size = 28, obj = 673\n",
      "\t type = <class 'int'>, size = 28, obj = 674\n",
      "\t type = <class 'int'>, size = 28, obj = 675\n",
      "\t type = <class 'int'>, size = 28, obj = 676\n",
      "\t type = <class 'int'>, size = 28, obj = 677\n",
      "\t type = <class 'int'>, size = 28, obj = 678\n",
      "\t type = <class 'int'>, size = 28, obj = 679\n",
      "\t type = <class 'int'>, size = 28, obj = 680\n",
      "\t type = <class 'int'>, size = 28, obj = 681\n",
      "\t type = <class 'int'>, size = 28, obj = 682\n",
      "\t type = <class 'int'>, size = 28, obj = 683\n",
      "\t type = <class 'int'>, size = 28, obj = 684\n",
      "\t type = <class 'int'>, size = 28, obj = 685\n",
      "\t type = <class 'int'>, size = 28, obj = 686\n",
      "\t type = <class 'int'>, size = 28, obj = 687\n",
      "\t type = <class 'int'>, size = 28, obj = 688\n",
      "\t type = <class 'int'>, size = 28, obj = 689\n",
      "\t type = <class 'int'>, size = 28, obj = 690\n",
      "\t type = <class 'int'>, size = 28, obj = 691\n",
      "\t type = <class 'int'>, size = 28, obj = 692\n",
      "\t type = <class 'int'>, size = 28, obj = 693\n",
      "\t type = <class 'int'>, size = 28, obj = 694\n",
      "\t type = <class 'int'>, size = 28, obj = 695\n",
      "\t type = <class 'int'>, size = 28, obj = 696\n",
      "\t type = <class 'int'>, size = 28, obj = 697\n",
      "\t type = <class 'int'>, size = 28, obj = 698\n",
      "\t type = <class 'int'>, size = 28, obj = 699\n",
      "\t type = <class 'int'>, size = 28, obj = 700\n",
      "\t type = <class 'int'>, size = 28, obj = 701\n",
      "\t type = <class 'int'>, size = 28, obj = 702\n",
      "\t type = <class 'int'>, size = 28, obj = 703\n",
      "\t type = <class 'int'>, size = 28, obj = 704\n",
      "\t type = <class 'int'>, size = 28, obj = 705\n",
      "\t type = <class 'int'>, size = 28, obj = 706\n",
      "\t type = <class 'int'>, size = 28, obj = 707\n",
      "\t type = <class 'int'>, size = 28, obj = 708\n",
      "\t type = <class 'int'>, size = 28, obj = 709\n",
      "\t type = <class 'int'>, size = 28, obj = 710\n",
      "\t type = <class 'int'>, size = 28, obj = 711\n",
      "\t type = <class 'int'>, size = 28, obj = 712\n",
      "\t type = <class 'int'>, size = 28, obj = 713\n",
      "\t type = <class 'int'>, size = 28, obj = 714\n",
      "\t type = <class 'int'>, size = 28, obj = 715\n",
      "\t type = <class 'int'>, size = 28, obj = 716\n",
      "\t type = <class 'int'>, size = 28, obj = 717\n",
      "\t type = <class 'int'>, size = 28, obj = 718\n",
      "\t type = <class 'int'>, size = 28, obj = 719\n",
      "\t type = <class 'int'>, size = 28, obj = 720\n",
      "\t type = <class 'int'>, size = 28, obj = 721\n",
      "\t type = <class 'int'>, size = 28, obj = 722\n",
      "\t type = <class 'int'>, size = 28, obj = 723\n",
      "\t type = <class 'int'>, size = 28, obj = 724\n",
      "\t type = <class 'int'>, size = 28, obj = 725\n",
      "\t type = <class 'int'>, size = 28, obj = 726\n",
      "\t type = <class 'int'>, size = 28, obj = 727\n",
      "\t type = <class 'int'>, size = 28, obj = 728\n",
      "\t type = <class 'int'>, size = 28, obj = 729\n",
      "\t type = <class 'int'>, size = 28, obj = 730\n",
      "\t type = <class 'int'>, size = 28, obj = 731\n",
      "\t type = <class 'int'>, size = 28, obj = 732\n",
      "\t type = <class 'int'>, size = 28, obj = 733\n",
      "\t type = <class 'int'>, size = 28, obj = 734\n",
      "\t type = <class 'int'>, size = 28, obj = 735\n",
      "\t type = <class 'int'>, size = 28, obj = 736\n",
      "\t type = <class 'int'>, size = 28, obj = 737\n",
      "\t type = <class 'int'>, size = 28, obj = 738\n",
      "\t type = <class 'int'>, size = 28, obj = 739\n",
      "\t type = <class 'int'>, size = 28, obj = 740\n",
      "\t type = <class 'int'>, size = 28, obj = 741\n",
      "\t type = <class 'int'>, size = 28, obj = 742\n",
      "\t type = <class 'int'>, size = 28, obj = 743\n",
      "\t type = <class 'int'>, size = 28, obj = 744\n",
      "\t type = <class 'int'>, size = 28, obj = 745\n",
      "\t type = <class 'int'>, size = 28, obj = 746\n",
      "\t type = <class 'int'>, size = 28, obj = 747\n",
      "\t type = <class 'int'>, size = 28, obj = 748\n",
      "\t type = <class 'int'>, size = 28, obj = 749\n",
      "\t type = <class 'int'>, size = 28, obj = 750\n",
      "\t type = <class 'int'>, size = 28, obj = 751\n",
      "\t type = <class 'int'>, size = 28, obj = 752\n",
      "\t type = <class 'int'>, size = 28, obj = 753\n",
      "\t type = <class 'int'>, size = 28, obj = 754\n",
      "\t type = <class 'int'>, size = 28, obj = 755\n",
      "\t type = <class 'int'>, size = 28, obj = 756\n",
      "\t type = <class 'int'>, size = 28, obj = 757\n",
      "\t type = <class 'int'>, size = 28, obj = 758\n",
      "\t type = <class 'int'>, size = 28, obj = 759\n",
      "\t type = <class 'int'>, size = 28, obj = 760\n",
      "\t type = <class 'int'>, size = 28, obj = 761\n",
      "\t type = <class 'int'>, size = 28, obj = 762\n",
      "\t type = <class 'int'>, size = 28, obj = 763\n",
      "\t type = <class 'int'>, size = 28, obj = 764\n",
      "\t type = <class 'int'>, size = 28, obj = 765\n",
      "\t type = <class 'int'>, size = 28, obj = 766\n",
      "\t type = <class 'int'>, size = 28, obj = 767\n",
      "\t type = <class 'int'>, size = 28, obj = 768\n",
      "\t type = <class 'int'>, size = 28, obj = 769\n",
      "\t type = <class 'int'>, size = 28, obj = 770\n",
      "\t type = <class 'int'>, size = 28, obj = 771\n",
      "\t type = <class 'int'>, size = 28, obj = 772\n",
      "\t type = <class 'int'>, size = 28, obj = 773\n",
      "\t type = <class 'int'>, size = 28, obj = 774\n",
      "\t type = <class 'int'>, size = 28, obj = 775\n",
      "\t type = <class 'int'>, size = 28, obj = 776\n",
      "\t type = <class 'int'>, size = 28, obj = 777\n",
      "\t type = <class 'int'>, size = 28, obj = 778\n",
      "\t type = <class 'int'>, size = 28, obj = 779\n",
      "\t type = <class 'int'>, size = 28, obj = 780\n",
      "\t type = <class 'int'>, size = 28, obj = 781\n",
      "\t type = <class 'int'>, size = 28, obj = 782\n",
      "\t type = <class 'int'>, size = 28, obj = 783\n",
      "\t type = <class 'int'>, size = 28, obj = 784\n",
      "\t type = <class 'int'>, size = 28, obj = 785\n",
      "\t type = <class 'int'>, size = 28, obj = 786\n",
      "\t type = <class 'int'>, size = 28, obj = 787\n",
      "\t type = <class 'int'>, size = 28, obj = 788\n",
      "\t type = <class 'int'>, size = 28, obj = 789\n",
      "\t type = <class 'int'>, size = 28, obj = 790\n",
      "\t type = <class 'int'>, size = 28, obj = 791\n",
      "\t type = <class 'int'>, size = 28, obj = 792\n",
      "\t type = <class 'int'>, size = 28, obj = 793\n",
      "\t type = <class 'int'>, size = 28, obj = 794\n",
      "\t type = <class 'int'>, size = 28, obj = 795\n",
      "\t type = <class 'int'>, size = 28, obj = 796\n",
      "\t type = <class 'int'>, size = 28, obj = 797\n",
      "\t type = <class 'int'>, size = 28, obj = 798\n",
      "\t type = <class 'int'>, size = 28, obj = 799\n",
      "\t type = <class 'int'>, size = 28, obj = 800\n",
      "\t type = <class 'int'>, size = 28, obj = 801\n",
      "\t type = <class 'int'>, size = 28, obj = 802\n",
      "\t type = <class 'int'>, size = 28, obj = 803\n",
      "\t type = <class 'int'>, size = 28, obj = 804\n",
      "\t type = <class 'int'>, size = 28, obj = 805\n",
      "\t type = <class 'int'>, size = 28, obj = 806\n",
      "\t type = <class 'int'>, size = 28, obj = 807\n",
      "\t type = <class 'int'>, size = 28, obj = 808\n",
      "\t type = <class 'int'>, size = 28, obj = 809\n",
      "\t type = <class 'int'>, size = 28, obj = 810\n",
      "\t type = <class 'int'>, size = 28, obj = 811\n",
      "\t type = <class 'int'>, size = 28, obj = 812\n",
      "\t type = <class 'int'>, size = 28, obj = 813\n",
      "\t type = <class 'int'>, size = 28, obj = 814\n",
      "\t type = <class 'int'>, size = 28, obj = 815\n",
      "\t type = <class 'int'>, size = 28, obj = 816\n",
      "\t type = <class 'int'>, size = 28, obj = 817\n",
      "\t type = <class 'int'>, size = 28, obj = 818\n",
      "\t type = <class 'int'>, size = 28, obj = 819\n",
      "\t type = <class 'int'>, size = 28, obj = 820\n",
      "\t type = <class 'int'>, size = 28, obj = 821\n",
      "\t type = <class 'int'>, size = 28, obj = 822\n",
      "\t type = <class 'int'>, size = 28, obj = 823\n",
      "\t type = <class 'int'>, size = 28, obj = 824\n",
      "\t type = <class 'int'>, size = 28, obj = 825\n",
      "\t type = <class 'int'>, size = 28, obj = 826\n",
      "\t type = <class 'int'>, size = 28, obj = 827\n",
      "\t type = <class 'int'>, size = 28, obj = 828\n",
      "\t type = <class 'int'>, size = 28, obj = 829\n",
      "\t type = <class 'int'>, size = 28, obj = 830\n",
      "\t type = <class 'int'>, size = 28, obj = 831\n",
      "\t type = <class 'int'>, size = 28, obj = 832\n"
     ]
    },
    {
     "name": "stdout",
     "output_type": "stream",
     "text": [
      "\t type = <class 'int'>, size = 28, obj = 833\n",
      "\t type = <class 'int'>, size = 28, obj = 834\n",
      "\t type = <class 'int'>, size = 28, obj = 835\n",
      "\t type = <class 'int'>, size = 28, obj = 836\n",
      "\t type = <class 'int'>, size = 28, obj = 837\n",
      "\t type = <class 'int'>, size = 28, obj = 838\n",
      "\t type = <class 'int'>, size = 28, obj = 839\n",
      "\t type = <class 'int'>, size = 28, obj = 840\n",
      "\t type = <class 'int'>, size = 28, obj = 841\n",
      "\t type = <class 'int'>, size = 28, obj = 842\n",
      "\t type = <class 'int'>, size = 28, obj = 843\n",
      "\t type = <class 'int'>, size = 28, obj = 844\n",
      "\t type = <class 'int'>, size = 28, obj = 845\n",
      "\t type = <class 'int'>, size = 28, obj = 846\n",
      "\t type = <class 'int'>, size = 28, obj = 847\n",
      "\t type = <class 'int'>, size = 28, obj = 848\n",
      "\t type = <class 'int'>, size = 28, obj = 849\n",
      "\t type = <class 'int'>, size = 28, obj = 850\n",
      "\t type = <class 'int'>, size = 28, obj = 851\n",
      "\t type = <class 'int'>, size = 28, obj = 852\n",
      "\t type = <class 'int'>, size = 28, obj = 853\n",
      "\t type = <class 'int'>, size = 28, obj = 854\n",
      "\t type = <class 'int'>, size = 28, obj = 855\n",
      "\t type = <class 'int'>, size = 28, obj = 856\n",
      "\t type = <class 'int'>, size = 28, obj = 857\n",
      "\t type = <class 'int'>, size = 28, obj = 858\n",
      "\t type = <class 'int'>, size = 28, obj = 859\n",
      "\t type = <class 'int'>, size = 28, obj = 860\n",
      "\t type = <class 'int'>, size = 28, obj = 861\n",
      "\t type = <class 'int'>, size = 28, obj = 862\n",
      "\t type = <class 'int'>, size = 28, obj = 863\n",
      "\t type = <class 'int'>, size = 28, obj = 864\n",
      "\t type = <class 'int'>, size = 28, obj = 865\n",
      "\t type = <class 'int'>, size = 28, obj = 866\n",
      "\t type = <class 'int'>, size = 28, obj = 867\n",
      "\t type = <class 'int'>, size = 28, obj = 868\n",
      "\t type = <class 'int'>, size = 28, obj = 869\n",
      "\t type = <class 'int'>, size = 28, obj = 870\n",
      "\t type = <class 'int'>, size = 28, obj = 871\n",
      "\t type = <class 'int'>, size = 28, obj = 872\n",
      "\t type = <class 'int'>, size = 28, obj = 873\n",
      "\t type = <class 'int'>, size = 28, obj = 874\n",
      "\t type = <class 'int'>, size = 28, obj = 875\n",
      "\t type = <class 'int'>, size = 28, obj = 876\n",
      "\t type = <class 'int'>, size = 28, obj = 877\n",
      "\t type = <class 'int'>, size = 28, obj = 878\n",
      "\t type = <class 'int'>, size = 28, obj = 879\n",
      "\t type = <class 'int'>, size = 28, obj = 880\n",
      "\t type = <class 'int'>, size = 28, obj = 881\n",
      "\t type = <class 'int'>, size = 28, obj = 882\n",
      "\t type = <class 'int'>, size = 28, obj = 883\n",
      "\t type = <class 'int'>, size = 28, obj = 884\n",
      "\t type = <class 'int'>, size = 28, obj = 885\n",
      "\t type = <class 'int'>, size = 28, obj = 886\n",
      "\t type = <class 'int'>, size = 28, obj = 887\n",
      "\t type = <class 'int'>, size = 28, obj = 888\n",
      "\t type = <class 'int'>, size = 28, obj = 889\n",
      "\t type = <class 'int'>, size = 28, obj = 890\n",
      "\t type = <class 'int'>, size = 28, obj = 891\n",
      "\t type = <class 'int'>, size = 28, obj = 892\n",
      "\t type = <class 'int'>, size = 28, obj = 893\n",
      "\t type = <class 'int'>, size = 28, obj = 894\n",
      "\t type = <class 'int'>, size = 28, obj = 895\n",
      "\t type = <class 'int'>, size = 28, obj = 896\n",
      "\t type = <class 'int'>, size = 28, obj = 897\n",
      "\t type = <class 'int'>, size = 28, obj = 898\n",
      "\t type = <class 'int'>, size = 28, obj = 899\n",
      "\t type = <class 'int'>, size = 28, obj = 900\n",
      "\t type = <class 'int'>, size = 28, obj = 901\n",
      "\t type = <class 'int'>, size = 28, obj = 902\n",
      "\t type = <class 'int'>, size = 28, obj = 903\n",
      "\t type = <class 'int'>, size = 28, obj = 904\n",
      "\t type = <class 'int'>, size = 28, obj = 905\n",
      "\t type = <class 'int'>, size = 28, obj = 906\n",
      "\t type = <class 'int'>, size = 28, obj = 907\n",
      "\t type = <class 'int'>, size = 28, obj = 908\n",
      "\t type = <class 'int'>, size = 28, obj = 909\n",
      "\t type = <class 'int'>, size = 28, obj = 910\n",
      "\t type = <class 'int'>, size = 28, obj = 911\n",
      "\t type = <class 'int'>, size = 28, obj = 912\n",
      "\t type = <class 'int'>, size = 28, obj = 913\n",
      "\t type = <class 'int'>, size = 28, obj = 914\n",
      "\t type = <class 'int'>, size = 28, obj = 915\n",
      "\t type = <class 'int'>, size = 28, obj = 916\n",
      "\t type = <class 'int'>, size = 28, obj = 917\n",
      "\t type = <class 'int'>, size = 28, obj = 918\n",
      "\t type = <class 'int'>, size = 28, obj = 919\n",
      "\t type = <class 'int'>, size = 28, obj = 920\n",
      "\t type = <class 'int'>, size = 28, obj = 921\n",
      "\t type = <class 'int'>, size = 28, obj = 922\n",
      "\t type = <class 'int'>, size = 28, obj = 923\n",
      "\t type = <class 'int'>, size = 28, obj = 924\n",
      "\t type = <class 'int'>, size = 28, obj = 925\n",
      "\t type = <class 'int'>, size = 28, obj = 926\n",
      "\t type = <class 'int'>, size = 28, obj = 927\n",
      "\t type = <class 'int'>, size = 28, obj = 928\n",
      "\t type = <class 'int'>, size = 28, obj = 929\n",
      "\t type = <class 'int'>, size = 28, obj = 930\n",
      "\t type = <class 'int'>, size = 28, obj = 931\n",
      "\t type = <class 'int'>, size = 28, obj = 932\n",
      "\t type = <class 'int'>, size = 28, obj = 933\n",
      "\t type = <class 'int'>, size = 28, obj = 934\n",
      "\t type = <class 'int'>, size = 28, obj = 935\n",
      "\t type = <class 'int'>, size = 28, obj = 936\n",
      "\t type = <class 'int'>, size = 28, obj = 937\n",
      "\t type = <class 'int'>, size = 28, obj = 938\n",
      "\t type = <class 'int'>, size = 28, obj = 939\n",
      "\t type = <class 'int'>, size = 28, obj = 940\n",
      "\t type = <class 'int'>, size = 28, obj = 941\n",
      "\t type = <class 'int'>, size = 28, obj = 942\n",
      "\t type = <class 'int'>, size = 28, obj = 943\n",
      "\t type = <class 'int'>, size = 28, obj = 944\n",
      "\t type = <class 'int'>, size = 28, obj = 945\n",
      "\t type = <class 'int'>, size = 28, obj = 946\n",
      "\t type = <class 'int'>, size = 28, obj = 947\n",
      "\t type = <class 'int'>, size = 28, obj = 948\n",
      "\t type = <class 'int'>, size = 28, obj = 949\n",
      "\t type = <class 'int'>, size = 28, obj = 950\n",
      "\t type = <class 'int'>, size = 28, obj = 951\n",
      "\t type = <class 'int'>, size = 28, obj = 952\n",
      "\t type = <class 'int'>, size = 28, obj = 953\n",
      "\t type = <class 'int'>, size = 28, obj = 954\n",
      "\t type = <class 'int'>, size = 28, obj = 955\n",
      "\t type = <class 'int'>, size = 28, obj = 956\n",
      "\t type = <class 'int'>, size = 28, obj = 957\n",
      "\t type = <class 'int'>, size = 28, obj = 958\n",
      "\t type = <class 'int'>, size = 28, obj = 959\n",
      "\t type = <class 'int'>, size = 28, obj = 960\n",
      "\t type = <class 'int'>, size = 28, obj = 961\n",
      "\t type = <class 'int'>, size = 28, obj = 962\n",
      "\t type = <class 'int'>, size = 28, obj = 963\n",
      "\t type = <class 'int'>, size = 28, obj = 964\n",
      "\t type = <class 'int'>, size = 28, obj = 965\n",
      "\t type = <class 'int'>, size = 28, obj = 966\n",
      "\t type = <class 'int'>, size = 28, obj = 967\n",
      "\t type = <class 'int'>, size = 28, obj = 968\n",
      "\t type = <class 'int'>, size = 28, obj = 969\n",
      "\t type = <class 'int'>, size = 28, obj = 970\n",
      "\t type = <class 'int'>, size = 28, obj = 971\n",
      "\t type = <class 'int'>, size = 28, obj = 972\n",
      "\t type = <class 'int'>, size = 28, obj = 973\n",
      "\t type = <class 'int'>, size = 28, obj = 974\n",
      "\t type = <class 'int'>, size = 28, obj = 975\n",
      "\t type = <class 'int'>, size = 28, obj = 976\n",
      "\t type = <class 'int'>, size = 28, obj = 977\n",
      "\t type = <class 'int'>, size = 28, obj = 978\n",
      "\t type = <class 'int'>, size = 28, obj = 979\n",
      "\t type = <class 'int'>, size = 28, obj = 980\n",
      "\t type = <class 'int'>, size = 28, obj = 981\n",
      "\t type = <class 'int'>, size = 28, obj = 982\n",
      "\t type = <class 'int'>, size = 28, obj = 983\n",
      "\t type = <class 'int'>, size = 28, obj = 984\n",
      "\t type = <class 'int'>, size = 28, obj = 985\n",
      "\t type = <class 'int'>, size = 28, obj = 986\n",
      "\t type = <class 'int'>, size = 28, obj = 987\n",
      "\t type = <class 'int'>, size = 28, obj = 988\n",
      "\t type = <class 'int'>, size = 28, obj = 989\n",
      "\t type = <class 'int'>, size = 28, obj = 990\n",
      "\t type = <class 'int'>, size = 28, obj = 991\n",
      "\t type = <class 'int'>, size = 28, obj = 992\n",
      "\t type = <class 'int'>, size = 28, obj = 993\n",
      "\t type = <class 'int'>, size = 28, obj = 994\n",
      "\t type = <class 'int'>, size = 28, obj = 995\n",
      "\t type = <class 'int'>, size = 28, obj = 996\n",
      "\t type = <class 'int'>, size = 28, obj = 997\n",
      "\t type = <class 'int'>, size = 28, obj = 998\n",
      "\t type = <class 'int'>, size = 28, obj = 999\n",
      "None\n"
     ]
    }
   ],
   "source": [
    "import sys\n",
    "\n",
    "\n",
    "def show_size(x, level=0):\n",
    "    print('\\t' * level, f'type = {type(x)}, size = {sys.getsizeof(x)}, obj = {x}')\n",
    "\n",
    "    if hasattr(x, '__iter__'):\n",
    "\n",
    "        if hasattr(x, 'items'):\n",
    "\n",
    "            for key, value in x.items():\n",
    "                show_size(key, level + 1)\n",
    "                show_size(value, level + 1)\n",
    "\n",
    "        elif not isinstance(x, str):\n",
    "\n",
    "            for item in x:\n",
    "                show_size(item, level + 1)\n",
    "\n",
    "\n",
    "\n",
    "\n",
    "\n",
    "a = [i for i in range(100)] \n",
    "b = (i for i in range(100))\n",
    "print(show_size(a))\n",
    "print(show_size(b))"
   ]
  },
  {
   "cell_type": "code",
   "execution_count": 1,
   "metadata": {},
   "outputs": [
    {
     "name": "stdout",
     "output_type": "stream",
     "text": [
      "Начала работы \n",
      "Тут выполняется наша тестовая функция\n",
      "Конец работы\n"
     ]
    },
    {
     "data": {
      "text/plain": [
       "<function __main__.decorator(func)>"
      ]
     },
     "execution_count": 1,
     "metadata": {},
     "output_type": "execute_result"
    }
   ],
   "source": [
    "'''\n",
    "Декоратор\n",
    "'''\n",
    "def decorator(func):\n",
    "    print('Начала работы ')\n",
    "\n",
    "    def wrapper():\n",
    "        func()\n",
    "        print('Конец работы')\n",
    "        return decorator\n",
    "\n",
    "    return wrapper\n",
    "\n",
    "\n",
    "@decorator\n",
    "def test_func():\n",
    "    print('Тут выполняется наша тестовая функция')\n",
    "\n",
    "\n",
    "test_func()"
   ]
  },
  {
   "cell_type": "code",
   "execution_count": null,
   "metadata": {},
   "outputs": [],
   "source": [
    "'''\n",
    "__dict__\n",
    "Атрибуты объекта можно условно разделить две группы: \n",
    "определённые python-ом (такие как __class__, __bases__) \n",
    "и определённые пользователем, о них я как раз собираюсь рассказать. \n",
    "__dict__ согласно этой классификации, относится к “системным” (определённым python-ом) атрибутам. \n",
    "Его задача — хранить пользовательские атрибуты. Он представляет собой dictionary, в котором ключом \n",
    "является имя_атрибута, значением, соответственно, значение_атрибута\n",
    "'''\n",
    "\n",
    "class SomeClass():\n",
    "\n",
    "    def __init__(self, name, age):\n",
    "        self.name = name\n",
    "        self.age = age\n",
    "        self.is_young = self._chek_age()\n",
    "\n",
    "    def _chek_age(self):\n",
    "        if self.age < 18:\n",
    "            return 'Молодой'\n",
    "        else:\n",
    "            return 'Старый'\n",
    "\n",
    "\n",
    "piter = SomeClass('Piter', 23)\n",
    "\n",
    "print(piter.__dict__)\n",
    "piter.__dict__['name'] = 'Kolya'\n",
    "print(piter.name)\n",
    "print(piter.__dict__"
   ]
  },
  {
   "cell_type": "code",
   "execution_count": 2,
   "metadata": {},
   "outputs": [
    {
     "data": {
      "text/plain": [
       "{'name': 'test', 'age': 'test'}"
      ]
     },
     "execution_count": 2,
     "metadata": {},
     "output_type": "execute_result"
    }
   ],
   "source": [
    "a = ('name', 'age')\n",
    "dict.fromkeys(a, 'test')"
   ]
  },
  {
   "cell_type": "code",
   "execution_count": null,
   "metadata": {},
   "outputs": [],
   "source": [
    "'''\n",
    "setattr(obj, name, value)\n",
    "obj : object Объект, который следует дополнить атрибутом.\n",
    "name : str Строка с именем атрибута. Можно указывать как имя нового, так и существующего атрибута.\n",
    "value : Произвольное значение атрибута.\n",
    "\n",
    "Атрибут объекта (свойство, метод, элемент) будет добавлен в случае, если объект разрешает/поддерживает это действие.\n",
    "Метод зачастую используется в случаях, когда имя атрибута и/или значение заранее неизвестно и \n",
    "содержится в переменной. \n",
    "\n",
    "Для возвращения атрибута используется getattr().\n",
    "Для удаления атрибута используется delattr().\n",
    "Для проверки существования атрибута используется hasattr().\n",
    "'''\n",
    "\n"
   ]
  },
  {
   "cell_type": "code",
   "execution_count": 5,
   "metadata": {},
   "outputs": [
    {
     "name": "stdout",
     "output_type": "stream",
     "text": [
      "Mikle\n"
     ]
    }
   ],
   "source": [
    "class TestClass():\n",
    "    def test_method(self):\n",
    "        print('hello')\n",
    "\n",
    "a = TestClass()\n",
    "setattr(a, 'name', 'Mikle')\n",
    "print(a.name)"
   ]
  },
  {
   "cell_type": "code",
   "execution_count": 1,
   "metadata": {},
   "outputs": [
    {
     "data": {
      "text/plain": [
       "['__displayhook__',\n",
       " '__doc__',\n",
       " '__excepthook__',\n",
       " '__interactivehook__',\n",
       " '__loader__',\n",
       " '__name__',\n",
       " '__package__',\n",
       " '__spec__',\n",
       " '__stderr__',\n",
       " '__stdin__',\n",
       " '__stdout__',\n",
       " '_clear_type_cache',\n",
       " '_current_frames',\n",
       " '_debugmallocstats',\n",
       " '_getframe',\n",
       " '_git',\n",
       " '_home',\n",
       " '_xoptions',\n",
       " 'abiflags',\n",
       " 'api_version',\n",
       " 'argv',\n",
       " 'base_exec_prefix',\n",
       " 'base_prefix',\n",
       " 'builtin_module_names',\n",
       " 'byteorder',\n",
       " 'call_tracing',\n",
       " 'callstats',\n",
       " 'copyright',\n",
       " 'displayhook',\n",
       " 'dont_write_bytecode',\n",
       " 'exc_info',\n",
       " 'excepthook',\n",
       " 'exec_prefix',\n",
       " 'executable',\n",
       " 'exit',\n",
       " 'flags',\n",
       " 'float_info',\n",
       " 'float_repr_style',\n",
       " 'get_asyncgen_hooks',\n",
       " 'get_coroutine_wrapper',\n",
       " 'getallocatedblocks',\n",
       " 'getcheckinterval',\n",
       " 'getdefaultencoding',\n",
       " 'getdlopenflags',\n",
       " 'getfilesystemencodeerrors',\n",
       " 'getfilesystemencoding',\n",
       " 'getprofile',\n",
       " 'getrecursionlimit',\n",
       " 'getrefcount',\n",
       " 'getsizeof',\n",
       " 'getswitchinterval',\n",
       " 'gettrace',\n",
       " 'hash_info',\n",
       " 'hexversion',\n",
       " 'implementation',\n",
       " 'int_info',\n",
       " 'intern',\n",
       " 'is_finalizing',\n",
       " 'maxsize',\n",
       " 'maxunicode',\n",
       " 'meta_path',\n",
       " 'modules',\n",
       " 'path',\n",
       " 'path_hooks',\n",
       " 'path_importer_cache',\n",
       " 'platform',\n",
       " 'prefix',\n",
       " 'ps1',\n",
       " 'ps2',\n",
       " 'ps3',\n",
       " 'set_asyncgen_hooks',\n",
       " 'set_coroutine_wrapper',\n",
       " 'setcheckinterval',\n",
       " 'setdlopenflags',\n",
       " 'setprofile',\n",
       " 'setrecursionlimit',\n",
       " 'setswitchinterval',\n",
       " 'settrace',\n",
       " 'stderr',\n",
       " 'stdin',\n",
       " 'stdout',\n",
       " 'thread_info',\n",
       " 'version',\n",
       " 'version_info',\n",
       " 'warnoptions']"
      ]
     },
     "execution_count": 1,
     "metadata": {},
     "output_type": "execute_result"
    }
   ],
   "source": [
    "import sys\n",
    "'''\n",
    "Функция dir возвращает список атрибутов объекта..\n",
    "'''\n",
    "dir(sys)"
   ]
  },
  {
   "cell_type": "code",
   "execution_count": 2,
   "metadata": {},
   "outputs": [
    {
     "data": {
      "text/plain": [
       "['__class__',\n",
       " '__delattr__',\n",
       " '__dict__',\n",
       " '__dir__',\n",
       " '__doc__',\n",
       " '__eq__',\n",
       " '__format__',\n",
       " '__ge__',\n",
       " '__getattribute__',\n",
       " '__gt__',\n",
       " '__hash__',\n",
       " '__init__',\n",
       " '__init_subclass__',\n",
       " '__le__',\n",
       " '__lt__',\n",
       " '__module__',\n",
       " '__ne__',\n",
       " '__new__',\n",
       " '__reduce__',\n",
       " '__reduce_ex__',\n",
       " '__repr__',\n",
       " '__setattr__',\n",
       " '__sizeof__',\n",
       " '__str__',\n",
       " '__subclasshook__',\n",
       " '__weakref__']"
      ]
     },
     "execution_count": 2,
     "metadata": {},
     "output_type": "execute_result"
    }
   ],
   "source": [
    "class Bobik():\n",
    "    def __init__(self, name, age):\n",
    "        self.name = name\n",
    "        self.age = age\n",
    "        \n",
    "dir(Bobik)"
   ]
  },
  {
   "cell_type": "code",
   "execution_count": 4,
   "metadata": {},
   "outputs": [
    {
     "data": {
      "text/plain": [
       "['__class__',\n",
       " '__delattr__',\n",
       " '__dict__',\n",
       " '__dir__',\n",
       " '__doc__',\n",
       " '__eq__',\n",
       " '__format__',\n",
       " '__ge__',\n",
       " '__getattribute__',\n",
       " '__gt__',\n",
       " '__hash__',\n",
       " '__init__',\n",
       " '__init_subclass__',\n",
       " '__le__',\n",
       " '__lt__',\n",
       " '__module__',\n",
       " '__ne__',\n",
       " '__new__',\n",
       " '__reduce__',\n",
       " '__reduce_ex__',\n",
       " '__repr__',\n",
       " '__setattr__',\n",
       " '__sizeof__',\n",
       " '__str__',\n",
       " '__subclasshook__',\n",
       " '__weakref__',\n",
       " 'age',\n",
       " 'name']"
      ]
     },
     "execution_count": 4,
     "metadata": {},
     "output_type": "execute_result"
    }
   ],
   "source": [
    "b = Bobik('Bobik', 23)\n",
    "dir(b)"
   ]
  },
  {
   "cell_type": "code",
   "execution_count": 8,
   "metadata": {},
   "outputs": [
    {
     "name": "stdout",
     "output_type": "stream",
     "text": [
      "This module provides access to some objects used or maintained by the\n",
      "interpreter and to functions that interact strongly with the interpreter.\n",
      "\n",
      "Dynamic objects:\n",
      "\n",
      "argv -- command line arguments; argv[0] is the script pathname if known\n",
      "path -- module search path; path[0] is the script directory, else ''\n",
      "modules -- dictionary of loaded modules\n",
      "\n",
      "displayhook -- called to show results in an interactive session\n",
      "excepthook -- called to handle any uncaught exception other than SystemExit\n",
      "  To customize printing in an interactive session or to install a custom\n",
      "  top-level exception handler, assign other functions to replace these.\n",
      "\n",
      "stdin -- standard input file object; used by input()\n",
      "stdout -- standard output file object; used by print()\n",
      "stderr -- standard error object; used for error messages\n",
      "  By assigning other file objects (or objects that behave like files)\n",
      "  to these, it is possible to redirect all of the interpreter's I/O.\n",
      "\n",
      "last_type -- type of last uncaught exception\n",
      "last_value -- value of last uncaught exception\n",
      "last_traceback -- traceback of last uncaught exception\n",
      "  These three are only available in an interactive session after a\n",
      "  traceback has been printed.\n",
      "\n",
      "Static objects:\n",
      "\n",
      "builtin_module_names -- tuple of module names built into this interpreter\n",
      "copyright -- copyright notice pertaining to this interpreter\n",
      "exec_prefix -- prefix used to find the machine-specific Python library\n",
      "executable -- absolute path of the executable binary of the Python interpreter\n",
      "float_info -- a struct sequence with information about the float implementation.\n",
      "float_repr_style -- string indicating the style of repr() output for floats\n",
      "hash_info -- a struct sequence with information about the hash algorithm.\n",
      "hexversion -- version information encoded as a single integer\n",
      "implementation -- Python implementation information.\n",
      "int_info -- a struct sequence with information about the int implementation.\n",
      "maxsize -- the largest supported length of containers.\n",
      "maxunicode -- the value of the largest Unicode code point\n",
      "platform -- platform identifier\n",
      "prefix -- prefix used to find the Python library\n",
      "thread_info -- a struct sequence with information about the thread implementation.\n",
      "version -- the version of this interpreter as a string\n",
      "version_info -- version information as a named tuple\n",
      "__stdin__ -- the original stdin; don't touch!\n",
      "__stdout__ -- the original stdout; don't touch!\n",
      "__stderr__ -- the original stderr; don't touch!\n",
      "__displayhook__ -- the original displayhook; don't touch!\n",
      "__excepthook__ -- the original excepthook; don't touch!\n",
      "\n",
      "Functions:\n",
      "\n",
      "displayhook() -- print an object to the screen, and save it in builtins._\n",
      "excepthook() -- print an exception and its traceback to sys.stderr\n",
      "exc_info() -- return thread-safe information about the current exception\n",
      "exit() -- exit the interpreter by raising SystemExit\n",
      "getdlopenflags() -- returns flags to be used for dlopen() calls\n",
      "getprofile() -- get the global profiling function\n",
      "getrefcount() -- return the reference count for an object (plus one :-)\n",
      "getrecursionlimit() -- return the max recursion depth for the interpreter\n",
      "getsizeof() -- return the size of an object in bytes\n",
      "gettrace() -- get the global debug tracing function\n",
      "setcheckinterval() -- control how often the interpreter checks for events\n",
      "setdlopenflags() -- set the flags to be used for dlopen() calls\n",
      "setprofile() -- set the global profiling function\n",
      "setrecursionlimit() -- set the max recursion depth for the interpreter\n",
      "settrace() -- set the global debug tracing function\n",
      "\n"
     ]
    }
   ],
   "source": [
    "print(sys.__doc__)"
   ]
  },
  {
   "cell_type": "code",
   "execution_count": 10,
   "metadata": {},
   "outputs": [
    {
     "name": "stdout",
     "output_type": "stream",
     "text": [
      "Help on class Bobik in module __main__:\n",
      "\n",
      "class Bobik(builtins.object)\n",
      " |  Methods defined here:\n",
      " |  \n",
      " |  __init__(self, name, age)\n",
      " |      Initialize self.  See help(type(self)) for accurate signature.\n",
      " |  \n",
      " |  ----------------------------------------------------------------------\n",
      " |  Data descriptors defined here:\n",
      " |  \n",
      " |  __dict__\n",
      " |      dictionary for instance variables (if defined)\n",
      " |  \n",
      " |  __weakref__\n",
      " |      list of weak references to the object (if defined)\n",
      "\n"
     ]
    }
   ],
   "source": [
    "help(Bobik)"
   ]
  },
  {
   "cell_type": "code",
   "execution_count": 13,
   "metadata": {},
   "outputs": [
    {
     "name": "stdout",
     "output_type": "stream",
     "text": [
      "hi\n"
     ]
    }
   ],
   "source": [
    "'''\n",
    "Короткая запись if \n",
    "'''\n",
    "if 2 in [1, 2]: print('hi')"
   ]
  },
  {
   "cell_type": "code",
   "execution_count": 14,
   "metadata": {},
   "outputs": [
    {
     "data": {
      "text/plain": [
       "'aaaKyKyeeee'"
      ]
     },
     "execution_count": 14,
     "metadata": {},
     "output_type": "execute_result"
    }
   ],
   "source": [
    "'aaaBBeeee'.replace('BB', 'KyKy')"
   ]
  },
  {
   "cell_type": "code",
   "execution_count": 16,
   "metadata": {},
   "outputs": [
    {
     "data": {
      "text/plain": [
       "3"
      ]
     },
     "execution_count": 16,
     "metadata": {},
     "output_type": "execute_result"
    }
   ],
   "source": [
    "'eeeRRttt'.find('R')"
   ]
  },
  {
   "cell_type": "code",
   "execution_count": 17,
   "metadata": {},
   "outputs": [
    {
     "data": {
      "text/plain": [
       "'abcdefghijklmnopqrstuvwxyz'"
      ]
     },
     "execution_count": 17,
     "metadata": {},
     "output_type": "execute_result"
    }
   ],
   "source": [
    "import string\n",
    "string.ascii_lowercase"
   ]
  },
  {
   "cell_type": "code",
   "execution_count": 18,
   "metadata": {},
   "outputs": [
    {
     "data": {
      "text/plain": [
       "' \\t\\n\\r\\x0b\\x0c'"
      ]
     },
     "execution_count": 18,
     "metadata": {},
     "output_type": "execute_result"
    }
   ],
   "source": [
    "string.whitespace"
   ]
  },
  {
   "cell_type": "code",
   "execution_count": 20,
   "metadata": {},
   "outputs": [
    {
     "data": {
      "text/plain": [
       "'egsdssgg'"
      ]
     },
     "execution_count": 20,
     "metadata": {},
     "output_type": "execute_result"
    }
   ],
   "source": [
    "'\\t\\n\\regsdssgg\\n'.strip()"
   ]
  },
  {
   "cell_type": "code",
   "execution_count": 21,
   "metadata": {},
   "outputs": [
    {
     "data": {
      "text/plain": [
       "['reffe', 'erfref', '']"
      ]
     },
     "execution_count": 21,
     "metadata": {},
     "output_type": "execute_result"
    }
   ],
   "source": [
    "'reffe\\nerfref\\n'.split('\\n')"
   ]
  },
  {
   "cell_type": "code",
   "execution_count": 22,
   "metadata": {},
   "outputs": [
    {
     "data": {
      "text/plain": [
       "['reffe', 'erfref']"
      ]
     },
     "execution_count": 22,
     "metadata": {},
     "output_type": "execute_result"
    }
   ],
   "source": [
    "'reffe\\nerfref\\n'.splitlines()"
   ]
  },
  {
   "cell_type": "code",
   "execution_count": 23,
   "metadata": {},
   "outputs": [
    {
     "data": {
      "text/plain": [
       "['f', 'r', 'e', 'f', 'e', 'g']"
      ]
     },
     "execution_count": 23,
     "metadata": {},
     "output_type": "execute_result"
    }
   ],
   "source": [
    "list('frefeg')"
   ]
  },
  {
   "cell_type": "code",
   "execution_count": 24,
   "metadata": {},
   "outputs": [
    {
     "data": {
      "text/plain": [
       "'frefeg'"
      ]
     },
     "execution_count": 24,
     "metadata": {},
     "output_type": "execute_result"
    }
   ],
   "source": [
    "''.join(['f', 'r', 'e', 'f', 'e', 'g'])"
   ]
  },
  {
   "cell_type": "code",
   "execution_count": 25,
   "metadata": {},
   "outputs": [
    {
     "data": {
      "text/plain": [
       "'42'"
      ]
     },
     "execution_count": 25,
     "metadata": {},
     "output_type": "execute_result"
    }
   ],
   "source": [
    "repr(42)"
   ]
  },
  {
   "cell_type": "code",
   "execution_count": 26,
   "metadata": {},
   "outputs": [
    {
     "data": {
      "text/plain": [
       "42"
      ]
     },
     "execution_count": 26,
     "metadata": {},
     "output_type": "execute_result"
    }
   ],
   "source": [
    "eval(repr(42))"
   ]
  },
  {
   "cell_type": "code",
   "execution_count": 2,
   "metadata": {},
   "outputs": [],
   "source": [
    "a = open('spam.txt', 'w')\n",
    "a.write('123\\n'*10)\n",
    "a.close()"
   ]
  },
  {
   "cell_type": "code",
   "execution_count": 29,
   "metadata": {},
   "outputs": [
    {
     "name": "stdout",
     "output_type": "stream",
     "text": [
      "['123\\n', '123\\n', '123\\n', '123\\n', '123\\n', '123\\n', '123\\n', '123\\n', '123\\n', '123\\n']\n",
      "123\n",
      "123\n",
      "123\n",
      "123\n",
      "123\n",
      "123\n",
      "123\n",
      "123\n",
      "123\n",
      "123\n",
      "\n"
     ]
    }
   ],
   "source": [
    "b = open('spam.txt', 'r')\n",
    "c = b.readlines()\n",
    "print(c)\n",
    "b.close()\n",
    "\n",
    "b = open('spam.txt', 'r')\n",
    "c = b.read()\n",
    "print(c)\n",
    "b.close()"
   ]
  },
  {
   "cell_type": "code",
   "execution_count": 11,
   "metadata": {},
   "outputs": [
    {
     "name": "stdout",
     "output_type": "stream",
     "text": [
      "140709708586312\n",
      "140709705647880\n"
     ]
    }
   ],
   "source": [
    "print(id([1, 2, 3]))  \n",
    "print(id([1, 2, 3]))"
   ]
  },
  {
   "cell_type": "code",
   "execution_count": 31,
   "metadata": {},
   "outputs": [
    {
     "name": "stdout",
     "output_type": "stream",
     "text": [
      "linux\n",
      "3.6.8 (default, Mar 21 2019, 10:08:12) \n",
      "[GCC 8.3.1 20190223 (Red Hat 8.3.1-2)]\n",
      "9223372036854775807\n"
     ]
    }
   ],
   "source": [
    "import sys\n",
    "print(sys.platform)\n",
    "print(sys.version)\n",
    "print(sys.maxsize)"
   ]
  },
  {
   "cell_type": "code",
   "execution_count": null,
   "metadata": {},
   "outputs": [],
   "source": [
    "'''\n",
    "В sys.path - пути импорта модулей, питон начинает их просматривать слева на право, в эту переменную можно добавлять \n",
    "пути с помощью например append\n",
    "'''"
   ]
  },
  {
   "cell_type": "code",
   "execution_count": 33,
   "metadata": {},
   "outputs": [
    {
     "data": {
      "text/plain": [
       "'\\nsys.modules - возвращает список загруженных модулей\\n'"
      ]
     },
     "execution_count": 33,
     "metadata": {},
     "output_type": "execute_result"
    }
   ],
   "source": [
    "'''\n",
    "sys.modules - возвращает список загруженных модулей\n",
    "'''"
   ]
  },
  {
   "cell_type": "code",
   "execution_count": 53,
   "metadata": {},
   "outputs": [
    {
     "name": "stdout",
     "output_type": "stream",
     "text": [
      "<class 'IndexError'>\n",
      "Получили ошибку: list index out of range\n",
      "  File \"<ipython-input-53-f6df1f0ea018>\", line 8, in <module>\n",
      "    a[5]\n",
      "\n"
     ]
    },
    {
     "ename": "IndexError",
     "evalue": "list index out of range",
     "output_type": "error",
     "traceback": [
      "\u001b[0;31m---------------------------------------------------------------------------\u001b[0m",
      "\u001b[0;31mIndexError\u001b[0m                                Traceback (most recent call last)",
      "\u001b[0;32m<ipython-input-53-f6df1f0ea018>\u001b[0m in \u001b[0;36m<module>\u001b[0;34m\u001b[0m\n\u001b[1;32m     12\u001b[0m     \u001b[0mprint\u001b[0m\u001b[0;34m(\u001b[0m\u001b[0;34mf'{sys.exc_info()[0]}\\nПолучили ошибку: {error_type}\\n{\"\".join(traceback.extract_tb(trace).format())}'\u001b[0m\u001b[0;34m)\u001b[0m\u001b[0;34m\u001b[0m\u001b[0;34m\u001b[0m\u001b[0m\n\u001b[1;32m     13\u001b[0m \u001b[0;34m\u001b[0m\u001b[0m\n\u001b[0;32m---> 14\u001b[0;31m \u001b[0ma\u001b[0m\u001b[0;34m[\u001b[0m\u001b[0;36m5\u001b[0m\u001b[0;34m]\u001b[0m\u001b[0;34m\u001b[0m\u001b[0;34m\u001b[0m\u001b[0m\n\u001b[0m",
      "\u001b[0;31mIndexError\u001b[0m: list index out of range"
     ]
    }
   ],
   "source": [
    "'''\n",
    "sys.exc_info - функция возвращает кортежж содержащий информацию о последнем исключении\n",
    "Ниже пример печати своего вывода ошибки\n",
    "'''\n",
    "import traceback\n",
    "a = [1, 2]\n",
    "try:\n",
    "    a[5]\n",
    "except IndexError:\n",
    "    error_type = sys.exc_info()[1]\n",
    "    trace = sys.exc_info()[2]\n",
    "    print(f'{sys.exc_info()[0]}\\nПолучили ошибку: {error_type}\\n{\"\".join(traceback.extract_tb(trace).format())}')\n",
    "          \n",
    "a[5]"
   ]
  },
  {
   "cell_type": "code",
   "execution_count": null,
   "metadata": {},
   "outputs": [],
   "source": [
    "'''\n",
    "sys.argv = получаем список аргументов командной строки\n",
    "sys.stdin\n",
    "sys.stdout - Потоки ввода-вывода\n",
    "'''"
   ]
  },
  {
   "cell_type": "code",
   "execution_count": 56,
   "metadata": {},
   "outputs": [
    {
     "data": {
      "text/plain": [
       "14396"
      ]
     },
     "execution_count": 56,
     "metadata": {},
     "output_type": "execute_result"
    }
   ],
   "source": [
    "import os\n",
    "'''\n",
    "os.environ - вывводит переменные окружения\n",
    "'''\n",
    "# dir(os)\n",
    "os.getpid()"
   ]
  },
  {
   "cell_type": "code",
   "execution_count": 57,
   "metadata": {},
   "outputs": [
    {
     "data": {
      "text/plain": [
       "'/'"
      ]
     },
     "execution_count": 57,
     "metadata": {},
     "output_type": "execute_result"
    }
   ],
   "source": [
    "os.sep # Возвращает разделитель который используетс в путях каталогов системы\n",
    "'''\n",
    "dirpath.split(os.sep) - правильно разберет путь на папки в любой системе\n",
    "'''"
   ]
  },
  {
   "cell_type": "code",
   "execution_count": 58,
   "metadata": {},
   "outputs": [
    {
     "data": {
      "text/plain": [
       "'\\n'"
      ]
     },
     "execution_count": 58,
     "metadata": {},
     "output_type": "execute_result"
    }
   ],
   "source": [
    "os.linesep # Возвращает символы экранирования используемые в системе"
   ]
  },
  {
   "cell_type": "code",
   "execution_count": 66,
   "metadata": {},
   "outputs": [
    {
     "name": "stdout",
     "output_type": "stream",
     "text": [
      "40\n",
      "False\n",
      "True\n",
      "True\n",
      "('', 'spam.txt')\n",
      "/home/novozhilovsv/PROJECT/python_next_level/spam.txt\n"
     ]
    }
   ],
   "source": [
    "'''\n",
    "os.path  - куча методов для работы с файлами и каталогами\n",
    "Все методы являются переносимыми между разными платформами\n",
    "'''\n",
    "print(os.path.getsize('spam.txt'))\n",
    "print(os.path.isdir('spam.txt'))\n",
    "print(os.path.isfile('spam.txt'))\n",
    "print(os.path.exists('spam.txt'))\n",
    "print(os.path.split('spam.txt'))\n",
    "print(os.path.abspath('spam.txt'))"
   ]
  },
  {
   "cell_type": "code",
   "execution_count": null,
   "metadata": {},
   "outputs": [],
   "source": [
    "'''\n",
    "os.system - выполняет bash команду из скрипта python\n",
    "os.popen - запускат команду и соединяет ее с потоками ввода вывода. Можно читать как из файла например..\n",
    "Можно вместо баш скрипта писать скрипт на питоне, который будет запускать баш команды\n",
    "ыгиз\n",
    "'''"
   ]
  },
  {
   "cell_type": "code",
   "execution_count": 9,
   "metadata": {},
   "outputs": [
    {
     "ename": "KeyError",
     "evalue": "'PYTHONPATH'",
     "output_type": "error",
     "traceback": [
      "\u001b[0;31m---------------------------------------------------------------------------\u001b[0m",
      "\u001b[0;31mKeyError\u001b[0m                                  Traceback (most recent call last)",
      "\u001b[0;32m<ipython-input-9-f280d6c770bf>\u001b[0m in \u001b[0;36m<module>\u001b[0;34m\u001b[0m\n\u001b[1;32m      3\u001b[0m \"\"\"\n\u001b[1;32m      4\u001b[0m \u001b[0;32mimport\u001b[0m \u001b[0mos\u001b[0m\u001b[0;34m\u001b[0m\u001b[0;34m\u001b[0m\u001b[0m\n\u001b[0;32m----> 5\u001b[0;31m \u001b[0mos\u001b[0m\u001b[0;34m.\u001b[0m\u001b[0menviron\u001b[0m\u001b[0;34m[\u001b[0m\u001b[0;34m'PYTHONPATH'\u001b[0m\u001b[0;34m]\u001b[0m\u001b[0;34m\u001b[0m\u001b[0;34m\u001b[0m\u001b[0m\n\u001b[0m",
      "\u001b[0;32m/usr/lib64/python3.6/os.py\u001b[0m in \u001b[0;36m__getitem__\u001b[0;34m(self, key)\u001b[0m\n\u001b[1;32m    667\u001b[0m         \u001b[0;32mexcept\u001b[0m \u001b[0mKeyError\u001b[0m\u001b[0;34m:\u001b[0m\u001b[0;34m\u001b[0m\u001b[0;34m\u001b[0m\u001b[0m\n\u001b[1;32m    668\u001b[0m             \u001b[0;31m# raise KeyError with the original key value\u001b[0m\u001b[0;34m\u001b[0m\u001b[0;34m\u001b[0m\u001b[0;34m\u001b[0m\u001b[0m\n\u001b[0;32m--> 669\u001b[0;31m             \u001b[0;32mraise\u001b[0m \u001b[0mKeyError\u001b[0m\u001b[0;34m(\u001b[0m\u001b[0mkey\u001b[0m\u001b[0;34m)\u001b[0m \u001b[0;32mfrom\u001b[0m \u001b[0;32mNone\u001b[0m\u001b[0;34m\u001b[0m\u001b[0;34m\u001b[0m\u001b[0m\n\u001b[0m\u001b[1;32m    670\u001b[0m         \u001b[0;32mreturn\u001b[0m \u001b[0mself\u001b[0m\u001b[0;34m.\u001b[0m\u001b[0mdecodevalue\u001b[0m\u001b[0;34m(\u001b[0m\u001b[0mvalue\u001b[0m\u001b[0;34m)\u001b[0m\u001b[0;34m\u001b[0m\u001b[0;34m\u001b[0m\u001b[0m\n\u001b[1;32m    671\u001b[0m \u001b[0;34m\u001b[0m\u001b[0m\n",
      "\u001b[0;31mKeyError\u001b[0m: 'PYTHONPATH'"
     ]
    }
   ],
   "source": [
    "\"\"\"\n",
    "Обращение к переменным окружения\n",
    "\"\"\"\n",
    "import os\n",
    "os.environ['PATH']"
   ]
  },
  {
   "cell_type": "code",
   "execution_count": 8,
   "metadata": {},
   "outputs": [
    {
     "data": {
      "text/plain": [
       "'135'"
      ]
     },
     "execution_count": 8,
     "metadata": {},
     "output_type": "execute_result"
    }
   ],
   "source": [
    "os.environ['NEW_TEST'] = '135'\n",
    "os.environ['NEW_TEST'] "
   ]
  },
  {
   "cell_type": "code",
   "execution_count": 1,
   "metadata": {},
   "outputs": [
    {
     "name": "stdout",
     "output_type": "stream",
     "text": [
      "hello world\n",
      "hello stdout world\n"
     ]
    }
   ],
   "source": [
    "'''\n",
    "Стандартные потоки ввода вывода\n",
    "'''\n",
    "import sys\n",
    "print('hello world')\n",
    "sys.stdout.write('hello stdout world\\n')"
   ]
  },
  {
   "cell_type": "code",
   "execution_count": null,
   "metadata": {},
   "outputs": [],
   "source": [
    "'''\n",
    "input()\n",
    "sys.stdin.readline()[:-1]\n",
    "\n",
    "Аналогичные команды\n",
    "'''"
   ]
  },
  {
   "cell_type": "code",
   "execution_count": null,
   "metadata": {},
   "outputs": [],
   "source": [
    "'''\n",
    "В Linux можно заменить команду input, вводом данных из фалу таким образом:\n",
    "$> python teststreams.py < input.txt\n",
    "Вывыод данных в файл так:\n",
    "$> python teststreams.py < input.txt > output.txt\n",
    "Перенаправить вывод можно и другому сценарию python:\n",
    "$> python writer.py | python reader.py\n",
    "\n",
    "'''"
   ]
  },
  {
   "cell_type": "code",
   "execution_count": null,
   "metadata": {},
   "outputs": [],
   "source": []
  }
 ],
 "metadata": {
  "kernelspec": {
   "display_name": "Python 3",
   "language": "python",
   "name": "python3"
  },
  "language_info": {
   "codemirror_mode": {
    "name": "ipython",
    "version": 3
   },
   "file_extension": ".py",
   "mimetype": "text/x-python",
   "name": "python",
   "nbconvert_exporter": "python",
   "pygments_lexer": "ipython3",
   "version": "3.6.8"
  }
 },
 "nbformat": 4,
 "nbformat_minor": 1
}
